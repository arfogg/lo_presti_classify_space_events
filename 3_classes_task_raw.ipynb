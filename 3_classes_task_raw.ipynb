{
 "cells": [
  {
   "cell_type": "markdown",
   "metadata": {},
   "source": [
    "### Multiclass task (non-event vs. SI vs. SSC) on original sequences\n",
    "1. Balance classes: undersample non-events, retaining only as many samples as the majority class between SI and SSC (namely SSC); oversample the minority class between SI and SSC (namely SI) by applying SMOTE on the training set.\n",
    "2. Train multi-class classifiers, perform 10 folds cross-validation, and evaluate performances of different classifiers."
   ]
  },
  {
   "cell_type": "code",
   "execution_count": 2,
   "metadata": {},
   "outputs": [],
   "source": [
    "import pandas as pd\n",
    "import os\n",
    "import random \n",
    "import numpy as np\n",
    "from collections import Counter\n",
    "import matplotlib.pyplot as plt\n",
    "plt.style.use('ggplot')\n",
    "import seaborn as sns\n",
    "from sklearn.ensemble import RandomForestClassifier\n",
    "from sklearn.decomposition import PCA\n",
    "from classification_utils import fill_NaN, get_logistic_model, train_logistic_model\n",
    "from sklearn.model_selection import train_test_split\n",
    "from sklearn.metrics import confusion_matrix\n",
    "from sklearn.metrics import precision_score, recall_score, f1_score\n",
    "from sklearn.metrics import accuracy_score, classification_report, precision_recall_fscore_support\n",
    "from imblearn.over_sampling import SMOTE\n",
    "from sklearn.model_selection import KFold\n",
    "from sklearn.svm import SVC\n",
    "from sklearn.model_selection import RepeatedKFold, StratifiedKFold, GridSearchCV\n",
    "from sklearn.utils import shuffle\n",
    "import torch\n",
    "import warnings\n",
    "warnings.filterwarnings('ignore')\n",
    "\n",
    "np.random.seed(2)\n",
    "random.seed(2)\n",
    "torch.manual_seed(2)\n",
    "torch.cuda.manual_seed_all(2)"
   ]
  },
  {
   "cell_type": "markdown",
   "metadata": {},
   "source": [
    "#### Paths"
   ]
  },
  {
   "cell_type": "code",
   "execution_count": 3,
   "metadata": {},
   "outputs": [],
   "source": [
    "ssc_path = 'labelled_data/SSC/'\n",
    "si_path = 'labelled_data/SI/'\n",
    "non_event_path = 'labelled_data/before_event/'\n",
    "multiclass_sample = 'labelled_data/multiclass_sample_SMOTE.txt'"
   ]
  },
  {
   "cell_type": "markdown",
   "metadata": {},
   "source": [
    "### Classification using Raw Data & SMOTE to balance classes"
   ]
  },
  {
   "cell_type": "markdown",
   "metadata": {},
   "source": [
    "#### Get data"
   ]
  },
  {
   "cell_type": "markdown",
   "metadata": {},
   "source": [
    "use always same sample for reproducibility"
   ]
  },
  {
   "cell_type": "code",
   "execution_count": 4,
   "metadata": {},
   "outputs": [
    {
     "name": "stdout",
     "output_type": "stream",
     "text": [
      "SI: 73, SSC: 120\n",
      "Non-events: 120\n"
     ]
    }
   ],
   "source": [
    "if os.path.exists(multiclass_sample):\n",
    "    # if I already extracted a sample, read it\n",
    "    all_seq_data_files = []\n",
    "    with open(multiclass_sample, 'r') as file:\n",
    "        for line in file:\n",
    "            all_seq_data_files.append(line.strip())\n",
    "    print( Counter([all_seq_data_files[i].split('/')[1] for i in range(len(all_seq_data_files))]) )\n",
    "\n",
    "    si_files, ssc_files, random_non_ev_files = [], [], []\n",
    "    for path in all_seq_data_files:\n",
    "        if path.split('/')[1] == 'SI':\n",
    "            si_files.append(path)\n",
    "        elif path.split('/')[1] == 'SSC':\n",
    "            ssc_files.append(path)\n",
    "        elif path.split('/')[1] == 'before_event':\n",
    "            random_non_ev_files.append(path)\n",
    "        else:\n",
    "            raise ValueError('File not belonging to any class!')\n",
    "else:\n",
    "\n",
    "    # get all data files paths\n",
    "    # use all SI and all SSC, and a sample of non-events \n",
    "    si_files = [si_path + item for item in os.listdir(si_path)] \n",
    "    ssc_files = [ssc_path + item for item in os.listdir(ssc_path)] \n",
    "    non_ev_files = [non_event_path + item for item in os.listdir(non_event_path)]\n",
    "\n",
    "    print('SI: {}, SSC: {}'.format(len(si_files), len(ssc_files)))\n",
    "\n",
    "    # number of non-event to random sample (take as many non-events as the majority class between SSC & SI)\n",
    "    sample_non_ev = np.max([len(si_files), len(ssc_files)])\n",
    "    print('Non-events: {}'.format(sample_non_ev))\n",
    "\n",
    "    # SAMPLE NON-EVENT\n",
    "    random_non_ev_files = random.sample(non_ev_files, sample_non_ev)\n",
    "    all_seq_data_files = si_files + ssc_files + random_non_ev_files\n",
    "\n",
    "    # save sampled used to use always the same in the following trials\n",
    "    with open(multiclass_sample, 'w') as file:\n",
    "        for string in all_seq_data_files:\n",
    "            file.write(string + '\\n')"
   ]
  },
  {
   "cell_type": "code",
   "execution_count": 5,
   "metadata": {},
   "outputs": [],
   "source": [
    "# initialize 2D tensors (each row is a different sequence)\n",
    "T = 20*60 + 1 \n",
    "seq_si = torch.zeros(len(si_files), T, dtype=torch.float32)\n",
    "seq_ssc = torch.zeros(len(ssc_files), T, dtype=torch.float32)\n",
    "seq_ne = torch.zeros(len(random_non_ev_files), T, dtype=torch.float32)\n",
    "\n",
    "lab_dict = {'SSC':seq_ssc, 'SI':seq_si, 'before_event':seq_ne} # which tensor to update based on class\n",
    "\n",
    "filling_method = 'linear_interpolation' \n",
    "\n",
    "indx_to_update = {'SSC':0, 'SI':0, 'before_event':0} # index of seq to update in each tensor \n",
    "for e in all_seq_data_files:\n",
    "    # get sequence\n",
    "    df = pd.read_csv(e)\n",
    "    seq = df.sort_values(by=['Date_UTC' if 'Date_UTC' in df.columns else 'Unnamed: 0']).dbn_nez\n",
    "\n",
    "    # get right tensor to fill\n",
    "    sequences_class_x = lab_dict[e.split('/')[1]]\n",
    "    \n",
    "    # deal with NaN\n",
    "    seq_filled = fill_NaN(seq, filling_method)\n",
    "\n",
    "    # convert from np array to pytorch tensor\n",
    "    seq_filled = torch.from_numpy(seq_filled)\n",
    "\n",
    "    # compute columns from which to start filling\n",
    "    starting_col_index = (T - seq_filled.numel()) // 2\n",
    "\n",
    "    # add data to sequences tensor\n",
    "    i = indx_to_update[e.split('/')[1]]\n",
    "    sequences_class_x[i,starting_col_index:starting_col_index + seq_filled.numel()] = seq_filled\n",
    "\n",
    "    # update counter (next row)\n",
    "    indx_to_update[e.split('/')[1]] += 1"
   ]
  },
  {
   "cell_type": "code",
   "execution_count": 6,
   "metadata": {},
   "outputs": [
    {
     "data": {
      "text/plain": [
       "(120, 73, 120)"
      ]
     },
     "execution_count": 6,
     "metadata": {},
     "output_type": "execute_result"
    }
   ],
   "source": [
    "len(seq_ne), len(seq_si), len(seq_ssc)"
   ]
  },
  {
   "cell_type": "code",
   "execution_count": 7,
   "metadata": {},
   "outputs": [],
   "source": [
    "# concat tensors and labels\n",
    "all_seqs = torch.cat([seq_si, seq_ssc, seq_ne], dim=0).numpy()  \n",
    "ys = len(seq_si)*['SI'] + len(seq_ssc)*['SSC'] + len(seq_ne)*['non-event']\n",
    "\n",
    "# to tensor\n",
    "seqs = torch.from_numpy(all_seqs)\n",
    "\n",
    "# labels to tensor + map classes to int\n",
    "# replace str with int code\n",
    "lab_to_int = {'non-event': 0, 'SI': 1, 'SSC': 2}\n",
    "y = list(map(lambda x: lab_to_int[x], ys))\n",
    "# to tensor\n",
    "y = torch.tensor(y)"
   ]
  },
  {
   "cell_type": "markdown",
   "metadata": {},
   "source": [
    "#### Split Train/Test sets"
   ]
  },
  {
   "cell_type": "code",
   "execution_count": 8,
   "metadata": {},
   "outputs": [],
   "source": [
    "# split train and test set\n",
    "X_train, X_test, y_train, y_test = train_test_split(seqs, y, test_size=0.3, shuffle=True, random_state=2)"
   ]
  },
  {
   "cell_type": "code",
   "execution_count": 9,
   "metadata": {},
   "outputs": [
    {
     "data": {
      "text/plain": [
       "(torch.Size([313, 1201]), torch.Size([219, 1201]), torch.Size([94, 1201]))"
      ]
     },
     "execution_count": 9,
     "metadata": {},
     "output_type": "execute_result"
    }
   ],
   "source": [
    "np.shape(seqs), np.shape(X_train), np.shape(X_test)"
   ]
  },
  {
   "cell_type": "markdown",
   "metadata": {},
   "source": [
    "#### Create synthetic sequences using SMOTE\n",
    "Picked as many non-events as the majority class between SSC and SI (aka SSC);\n",
    "use SMOTE (oversampling) to balance the classes (get SI observations to be as many as the other two classes).\n",
    "\n",
    "**NOTE**: apply SMOTE only on train set (test set should contain only real sequences)."
   ]
  },
  {
   "cell_type": "code",
   "execution_count": 10,
   "metadata": {},
   "outputs": [],
   "source": [
    "# SMOTE\n",
    "smote = SMOTE(random_state=2)\n",
    "X_train_resampled_np, y_train_resampled_np = smote.fit_resample(X_train, y_train)\n",
    "\n",
    "# to tensor\n",
    "X_train_resampled, y_train_resampled = torch.tensor(X_train_resampled_np), torch.tensor(y_train_resampled_np)"
   ]
  },
  {
   "cell_type": "code",
   "execution_count": 11,
   "metadata": {},
   "outputs": [],
   "source": [
    "# shuffle so that synthetic sequences are not all the end\n",
    "X_train_resampled, y_train_resampled = shuffle(X_train_resampled, y_train_resampled, random_state=2)"
   ]
  },
  {
   "cell_type": "code",
   "execution_count": 12,
   "metadata": {},
   "outputs": [
    {
     "data": {
      "text/plain": [
       "Counter({0: 90, 2: 90, 1: 90})"
      ]
     },
     "execution_count": 12,
     "metadata": {},
     "output_type": "execute_result"
    }
   ],
   "source": [
    "Counter(y_train_resampled_np)"
   ]
  },
  {
   "cell_type": "markdown",
   "metadata": {},
   "source": [
    "#### Standardize data using training mean and variance"
   ]
  },
  {
   "cell_type": "code",
   "execution_count": 13,
   "metadata": {},
   "outputs": [],
   "source": [
    "mu_train = X_train_resampled.mean(dim=0)\n",
    "std_train = X_train_resampled.std(dim=0)\n",
    "\n",
    "Sx_train = (X_train_resampled - mu_train) / std_train\n",
    "Sx_test = (X_test - mu_train) / std_train"
   ]
  },
  {
   "cell_type": "markdown",
   "metadata": {},
   "source": [
    "__________"
   ]
  },
  {
   "cell_type": "markdown",
   "metadata": {},
   "source": [
    "#### Visualization"
   ]
  },
  {
   "cell_type": "code",
   "execution_count": 14,
   "metadata": {},
   "outputs": [],
   "source": [
    "timestep_event = Sx_train[:,T//2 + 1 -1] # 10*60 + 1 = event timestamp\n",
    "timestep_last = Sx_train[:,T -1] # 10*60 + 1 + 10*60 = last timestamp\n",
    "timestep_middle_event = Sx_train[:,int(T//2 + 1 + ((T//2) / 2) -1)] # middle pt between event timestamp and end window"
   ]
  },
  {
   "cell_type": "code",
   "execution_count": 15,
   "metadata": {},
   "outputs": [],
   "source": [
    "feats_df = pd.DataFrame({'timestep_event':timestep_event, 'timestep_middle_event':timestep_middle_event, 'timestep_last':timestep_last, \n",
    "                         'label':y_train_resampled})"
   ]
  },
  {
   "cell_type": "code",
   "execution_count": 16,
   "metadata": {},
   "outputs": [
    {
     "data": {
      "image/png": "[encoded data removed]",
      "text/plain": [
       "<Figure size 640x480 with 1 Axes>"
      ]
     },
     "metadata": {},
     "output_type": "display_data"
    }
   ],
   "source": [
    "plt.scatter(feats_df['timestep_event'], feats_df['timestep_last'], c=feats_df['label'].map({2: 'red', 1: 'red', 0: 'blue'}))\n",
    "\n",
    "plt.xlabel('Event Timestep')\n",
    "plt.ylabel('Last Timestep')\n",
    "plt.legend(handles=[plt.Line2D([0], [0], marker='o', color='w', label='2', markerfacecolor='red', markersize=10),\n",
    "                    plt.Line2D([0], [0], marker='o', color='w', label='1', markerfacecolor='red', markersize=10),\n",
    "                    plt.Line2D([0], [0], marker='o', color='w', label='0', markerfacecolor='blue', markersize=10)])\n",
    "\n",
    "plt.title('events vs non-events')\n",
    "plt.show()"
   ]
  },
  {
   "cell_type": "code",
   "execution_count": 17,
   "metadata": {},
   "outputs": [
    {
     "data": {
      "image/png": "[encoded data removed]",
      "text/plain": [
       "<Figure size 640x480 with 1 Axes>"
      ]
     },
     "metadata": {},
     "output_type": "display_data"
    }
   ],
   "source": [
    "plt.scatter(feats_df['timestep_event'], feats_df['timestep_last'], c=feats_df['label'].map({2: 'green', 1: 'red', 0: 'blue'}))\n",
    "\n",
    "plt.xlabel(r'$B_N$ at event onset')\n",
    "plt.ylabel(r'$B_N$ at event end')\n",
    "plt.legend(handles=[plt.Line2D([0], [0], marker='o', color='w', label='2', markerfacecolor='green', markersize=10),\n",
    "                    plt.Line2D([0], [0], marker='o', color='w', label='1', markerfacecolor='red', markersize=10),\n",
    "                    plt.Line2D([0], [0], marker='o', color='w', label='0', markerfacecolor='blue', markersize=10)])\n",
    "\n",
    "plt.title(r'$B_N$ Intensity Comparison: Beginning vs. End') # SSC (2) va SI (1) vs non-event (0)\n",
    "plt.show()"
   ]
  },
  {
   "cell_type": "code",
   "execution_count": 18,
   "metadata": {},
   "outputs": [
    {
     "data": {
      "image/png": "[encoded data removed]",
      "text/plain": [
       "<Figure size 640x480 with 1 Axes>"
      ]
     },
     "metadata": {},
     "output_type": "display_data"
    }
   ],
   "source": [
    "# columns\n",
    "feat_discriminante = 'timestep_event'\n",
    "feat_y = 'timestep_middle_event' \n",
    "feat_z = 'timestep_last' \n",
    "label = 'label'\n",
    "\n",
    "\n",
    "# 3D plot\n",
    "fig = plt.figure()\n",
    "ax = fig.add_subplot(111, projection='3d')\n",
    "\n",
    "colors = {2: 'green', 1: 'red', 0: 'blue'}\n",
    "\n",
    "for label_name, label_color in colors.items():\n",
    "    subset = feats_df[feats_df[label] == label_name]\n",
    "    ax.scatter(subset[feat_discriminante], subset[feat_y], subset[feat_z], c=label_color, label=label_name)\n",
    "\n",
    "ax.set_xlabel(feat_discriminante)\n",
    "ax.set_ylabel(feat_y)\n",
    "ax.set_zlabel(feat_z)\n",
    "\n",
    "ax.legend()\n",
    "\n",
    "plt.show()\n"
   ]
  },
  {
   "cell_type": "markdown",
   "metadata": {},
   "source": [
    "#### PCA"
   ]
  },
  {
   "cell_type": "code",
   "execution_count": 19,
   "metadata": {},
   "outputs": [
    {
     "name": "stdout",
     "output_type": "stream",
     "text": [
      "Explained variation per principal component: [0.7165134  0.15604721 0.0576962  0.02922554 0.01297299 0.00936265\n",
      " 0.00533224 0.00393985 0.001881   0.00160976]\n"
     ]
    },
    {
     "data": {
      "image/png": "[encoded data removed]",
      "text/plain": [
       "<Figure size 1000x500 with 1 Axes>"
      ]
     },
     "metadata": {},
     "output_type": "display_data"
    }
   ],
   "source": [
    "Sc_all_df = pd.DataFrame(Sx_train)\n",
    "\n",
    "# PCA \n",
    "num_pc = 10\n",
    "pca = PCA(n_components=num_pc) \n",
    "pca_result = pca.fit_transform(Sc_all_df) \n",
    "\n",
    "# put PC in feats_df \n",
    "feats = pd.DataFrame({})\n",
    "feats['pca-one'] = pca_result[:,0]\n",
    "feats['pca-two'] = pca_result[:,1] \n",
    "feats['pca-three'] = pca_result[:,2]\n",
    "\n",
    "print('Explained variation per principal component: {}'.format(pca.explained_variance_ratio_))\n",
    "\n",
    "# plot scatterplot of first PC on x axis and second PC on y axis\n",
    "plt.figure(figsize=(10,5))\n",
    "sns.scatterplot( \n",
    "    x='pca-one', \n",
    "    y='pca-two',\n",
    "    hue=y_train_resampled, \n",
    "    palette=sns.color_palette('Set1', 3),\n",
    "    data=feats,\n",
    "    legend='full')\n",
    "plt.show()"
   ]
  },
  {
   "cell_type": "markdown",
   "metadata": {},
   "source": [
    "______"
   ]
  },
  {
   "cell_type": "markdown",
   "metadata": {},
   "source": [
    "### Classification"
   ]
  },
  {
   "cell_type": "markdown",
   "metadata": {},
   "source": [
    "#### Logistic Regression with 10-folds cross validation"
   ]
  },
  {
   "cell_type": "code",
   "execution_count": 20,
   "metadata": {},
   "outputs": [
    {
     "name": "stdout",
     "output_type": "stream",
     "text": [
      "\n",
      "Fold 1/10:\n",
      "Training:\n",
      "Epoch 0, average loss = 1.420, accuracy = 0.416\n",
      "Epoch 1, average loss = 1.227, accuracy = 0.412\n",
      "Epoch 2, average loss = 1.132, accuracy = 0.469\n",
      "Epoch 3, average loss = 1.095, accuracy = 0.440\n",
      "Epoch 4, average loss = 1.078, accuracy = 0.502\n",
      "Epoch 5, average loss = 1.048, accuracy = 0.547\n",
      "Epoch 6, average loss = 1.043, accuracy = 0.535\n",
      "Epoch 7, average loss = 1.019, accuracy = 0.564\n",
      "Epoch 8, average loss = 1.021, accuracy = 0.539\n",
      "Epoch 9, average loss = 1.005, accuracy = 0.580\n",
      "\n",
      "Validation:\n",
      "Validation, average loss = 1.040, accuracy = 0.556\n",
      "\n",
      "Fold 2/10:\n",
      "Training:\n",
      "Epoch 0, average loss = 1.187, accuracy = 0.366\n",
      "Epoch 1, average loss = 1.302, accuracy = 0.395\n",
      "Epoch 2, average loss = 1.143, accuracy = 0.449\n",
      "Epoch 3, average loss = 1.106, accuracy = 0.449\n",
      "Epoch 4, average loss = 1.024, accuracy = 0.539\n",
      "Epoch 5, average loss = 1.019, accuracy = 0.527\n",
      "Epoch 6, average loss = 1.016, accuracy = 0.543\n",
      "Epoch 7, average loss = 0.992, accuracy = 0.539\n",
      "Epoch 8, average loss = 1.003, accuracy = 0.551\n",
      "Epoch 9, average loss = 0.979, accuracy = 0.576\n",
      "\n",
      "Validation:\n",
      "Validation, average loss = 1.098, accuracy = 0.593\n",
      "\n",
      "Fold 3/10:\n",
      "Training:\n",
      "Epoch 0, average loss = 1.348, accuracy = 0.379\n",
      "Epoch 1, average loss = 1.299, accuracy = 0.387\n",
      "Epoch 2, average loss = 1.114, accuracy = 0.473\n",
      "Epoch 3, average loss = 1.055, accuracy = 0.461\n",
      "Epoch 4, average loss = 1.022, accuracy = 0.527\n",
      "Epoch 5, average loss = 1.019, accuracy = 0.564\n",
      "Epoch 6, average loss = 1.006, accuracy = 0.519\n",
      "Epoch 7, average loss = 1.010, accuracy = 0.510\n",
      "Epoch 8, average loss = 0.998, accuracy = 0.543\n",
      "Epoch 9, average loss = 1.009, accuracy = 0.539\n",
      "\n",
      "Validation:\n",
      "Validation, average loss = 1.138, accuracy = 0.519\n",
      "\n",
      "Fold 4/10:\n",
      "Training:\n",
      "Epoch 0, average loss = 1.168, accuracy = 0.383\n",
      "Epoch 1, average loss = 1.118, accuracy = 0.403\n",
      "Epoch 2, average loss = 1.077, accuracy = 0.510\n",
      "Epoch 3, average loss = 1.049, accuracy = 0.453\n",
      "Epoch 4, average loss = 1.032, accuracy = 0.527\n",
      "Epoch 5, average loss = 1.024, accuracy = 0.519\n",
      "Epoch 6, average loss = 1.016, accuracy = 0.519\n",
      "Epoch 7, average loss = 1.010, accuracy = 0.556\n",
      "Epoch 8, average loss = 1.003, accuracy = 0.527\n",
      "Epoch 9, average loss = 0.999, accuracy = 0.556\n",
      "\n",
      "Validation:\n",
      "Validation, average loss = 1.093, accuracy = 0.556\n",
      "\n",
      "Fold 5/10:\n",
      "Training:\n",
      "Epoch 0, average loss = 1.110, accuracy = 0.449\n",
      "Epoch 1, average loss = 1.136, accuracy = 0.449\n",
      "Epoch 2, average loss = 1.104, accuracy = 0.469\n",
      "Epoch 3, average loss = 1.130, accuracy = 0.449\n",
      "Epoch 4, average loss = 1.078, accuracy = 0.498\n",
      "Epoch 5, average loss = 1.071, accuracy = 0.477\n",
      "Epoch 6, average loss = 1.018, accuracy = 0.502\n",
      "Epoch 7, average loss = 1.026, accuracy = 0.502\n",
      "Epoch 8, average loss = 0.992, accuracy = 0.560\n",
      "Epoch 9, average loss = 1.004, accuracy = 0.535\n",
      "\n",
      "Validation:\n",
      "Validation, average loss = 1.155, accuracy = 0.444\n",
      "\n",
      "Fold 6/10:\n",
      "Training:\n",
      "Epoch 0, average loss = 1.144, accuracy = 0.399\n",
      "Epoch 1, average loss = 1.079, accuracy = 0.498\n",
      "Epoch 2, average loss = 1.073, accuracy = 0.432\n",
      "Epoch 3, average loss = 1.035, accuracy = 0.543\n",
      "Epoch 4, average loss = 1.030, accuracy = 0.465\n",
      "Epoch 5, average loss = 1.007, accuracy = 0.535\n",
      "Epoch 6, average loss = 1.003, accuracy = 0.527\n",
      "Epoch 7, average loss = 0.988, accuracy = 0.560\n",
      "Epoch 8, average loss = 0.986, accuracy = 0.539\n",
      "Epoch 9, average loss = 0.974, accuracy = 0.556\n",
      "\n",
      "Validation:\n",
      "Validation, average loss = 0.984, accuracy = 0.556\n",
      "\n",
      "Fold 7/10:\n",
      "Training:\n",
      "Epoch 0, average loss = 1.136, accuracy = 0.403\n",
      "Epoch 1, average loss = 1.144, accuracy = 0.387\n",
      "Epoch 2, average loss = 1.091, accuracy = 0.473\n",
      "Epoch 3, average loss = 1.080, accuracy = 0.457\n",
      "Epoch 4, average loss = 1.038, accuracy = 0.564\n",
      "Epoch 5, average loss = 1.047, accuracy = 0.498\n",
      "Epoch 6, average loss = 1.019, accuracy = 0.593\n",
      "Epoch 7, average loss = 1.026, accuracy = 0.535\n",
      "Epoch 8, average loss = 1.005, accuracy = 0.609\n",
      "Epoch 9, average loss = 1.011, accuracy = 0.539\n",
      "\n",
      "Validation:\n",
      "Validation, average loss = 1.114, accuracy = 0.667\n",
      "\n",
      "Fold 8/10:\n",
      "Training:\n",
      "Epoch 0, average loss = 1.178, accuracy = 0.325\n",
      "Epoch 1, average loss = 1.133, accuracy = 0.391\n",
      "Epoch 2, average loss = 1.110, accuracy = 0.440\n",
      "Epoch 3, average loss = 1.068, accuracy = 0.432\n",
      "Epoch 4, average loss = 1.051, accuracy = 0.477\n",
      "Epoch 5, average loss = 1.015, accuracy = 0.481\n",
      "Epoch 6, average loss = 1.003, accuracy = 0.584\n",
      "Epoch 7, average loss = 0.986, accuracy = 0.547\n",
      "Epoch 8, average loss = 0.980, accuracy = 0.601\n",
      "Epoch 9, average loss = 0.971, accuracy = 0.564\n",
      "\n",
      "Validation:\n",
      "Validation, average loss = 1.058, accuracy = 0.444\n",
      "\n",
      "Fold 9/10:\n",
      "Training:\n",
      "Epoch 0, average loss = 1.216, accuracy = 0.370\n",
      "Epoch 1, average loss = 1.144, accuracy = 0.416\n",
      "Epoch 2, average loss = 1.096, accuracy = 0.395\n",
      "Epoch 3, average loss = 1.059, accuracy = 0.424\n",
      "Epoch 4, average loss = 1.030, accuracy = 0.514\n",
      "Epoch 5, average loss = 1.014, accuracy = 0.531\n",
      "Epoch 6, average loss = 1.001, accuracy = 0.551\n",
      "Epoch 7, average loss = 0.994, accuracy = 0.572\n",
      "Epoch 8, average loss = 0.988, accuracy = 0.576\n",
      "Epoch 9, average loss = 0.981, accuracy = 0.572\n",
      "\n",
      "Validation:\n",
      "Validation, average loss = 1.128, accuracy = 0.370\n",
      "\n",
      "Fold 10/10:\n",
      "Training:\n",
      "Epoch 0, average loss = 1.228, accuracy = 0.399\n",
      "Epoch 1, average loss = 1.139, accuracy = 0.440\n",
      "Epoch 2, average loss = 1.046, accuracy = 0.490\n",
      "Epoch 3, average loss = 1.041, accuracy = 0.436\n",
      "Epoch 4, average loss = 1.007, accuracy = 0.560\n",
      "Epoch 5, average loss = 1.008, accuracy = 0.523\n",
      "Epoch 6, average loss = 0.984, accuracy = 0.580\n",
      "Epoch 7, average loss = 0.985, accuracy = 0.539\n",
      "Epoch 8, average loss = 0.968, accuracy = 0.588\n",
      "Epoch 9, average loss = 0.968, accuracy = 0.539\n",
      "\n",
      "Validation:\n",
      "Validation, average loss = 1.127, accuracy = 0.407\n"
     ]
    }
   ],
   "source": [
    "def k_fold_cross_validation(X, y, num_folds, num_epochs, batch_size, random_seed=2):\n",
    "    kf = KFold(n_splits=num_folds, shuffle=True, random_state=random_seed)\n",
    "    fold = 0\n",
    "    results = {}\n",
    "\n",
    "    for train_index, val_index in kf.split(X):\n",
    "        # get fold\n",
    "        fold += 1\n",
    "        print(f'\\nFold {fold}/{num_folds}:')\n",
    "\n",
    "        X_train, X_val = X[train_index], X[val_index]\n",
    "        y_train, y_val = y[train_index], y[val_index]\n",
    "\n",
    "\n",
    "        # define logistic regression model\n",
    "        num_input = X_train.shape[-1]\n",
    "        num_classes = y_train.unique().numel()\n",
    "        model, optimizer, criterion = get_logistic_model(num_input, num_classes)\n",
    "\n",
    "        # train model\n",
    "        print('Training:')\n",
    "        n_samples_train = X_train.shape[0]\n",
    "        train_logistic_model(X_train, y_train, model, optimizer, criterion, num_epochs, n_samples_train, batch_size, verbose=True)\n",
    "\n",
    "\n",
    "        # compute accuracy on validation set\n",
    "        print('\\nValidation:')\n",
    "        resp_val = model.forward(X_val)\n",
    "        avg_loss_val = criterion(resp_val, y_val)\n",
    "\n",
    "        y_hat_val = resp_val.argmax(dim=1)\n",
    "        accuracy_val = (y_val == y_hat_val).float().mean()\n",
    "\n",
    "        print('Validation, average loss = {:1.3f}, accuracy = {:1.3f}'.format(avg_loss_val, accuracy_val))\n",
    "\n",
    "        # other metrics\n",
    "        precision = precision_score(y_val, y_hat_val, average='weighted')\n",
    "        recall = recall_score(y_val, y_hat_val, average='weighted')\n",
    "        f1 = f1_score(y_val, y_hat_val, average='weighted')\n",
    "\n",
    "        results[fold] = {'model':model, 'validation_accuracy':accuracy_val.item(),\n",
    "                         'precision':precision, 'recall':recall, 'F1':f1}\n",
    "\n",
    "    return results\n",
    "\n",
    "\n",
    "# 10-folds CV\n",
    "num_folds = 10\n",
    "num_epochs = 10\n",
    "batch_size = 32\n",
    "results = k_fold_cross_validation(Sx_train, y_train_resampled, num_folds, num_epochs, batch_size)"
   ]
  },
  {
   "cell_type": "code",
   "execution_count": 21,
   "metadata": {},
   "outputs": [
    {
     "data": {
      "text/plain": [
       "{1: {'model': Sequential(\n",
       "    (0): Linear(in_features=1201, out_features=3, bias=True)\n",
       "    (1): LogSoftmax(dim=1)\n",
       "  ),\n",
       "  'validation_accuracy': 0.5555555820465088,\n",
       "  'precision': 0.6324221046443269,\n",
       "  'recall': 0.5555555555555556,\n",
       "  'F1': 0.5774659567763015},\n",
       " 2: {'model': Sequential(\n",
       "    (0): Linear(in_features=1201, out_features=3, bias=True)\n",
       "    (1): LogSoftmax(dim=1)\n",
       "  ),\n",
       "  'validation_accuracy': 0.5925925970077515,\n",
       "  'precision': 0.6983164983164983,\n",
       "  'recall': 0.5925925925925926,\n",
       "  'F1': 0.6103330220977279},\n",
       " 3: {'model': Sequential(\n",
       "    (0): Linear(in_features=1201, out_features=3, bias=True)\n",
       "    (1): LogSoftmax(dim=1)\n",
       "  ),\n",
       "  'validation_accuracy': 0.5185185074806213,\n",
       "  'precision': 0.5085243974132864,\n",
       "  'recall': 0.5185185185185185,\n",
       "  'F1': 0.51207077522867},\n",
       " 4: {'model': Sequential(\n",
       "    (0): Linear(in_features=1201, out_features=3, bias=True)\n",
       "    (1): LogSoftmax(dim=1)\n",
       "  ),\n",
       "  'validation_accuracy': 0.5555555820465088,\n",
       "  'precision': 0.5681216931216931,\n",
       "  'recall': 0.5555555555555556,\n",
       "  'F1': 0.5607507960449136},\n",
       " 5: {'model': Sequential(\n",
       "    (0): Linear(in_features=1201, out_features=3, bias=True)\n",
       "    (1): LogSoftmax(dim=1)\n",
       "  ),\n",
       "  'validation_accuracy': 0.4444444477558136,\n",
       "  'precision': 0.45925925925925926,\n",
       "  'recall': 0.4444444444444444,\n",
       "  'F1': 0.4462081128747794},\n",
       " 6: {'model': Sequential(\n",
       "    (0): Linear(in_features=1201, out_features=3, bias=True)\n",
       "    (1): LogSoftmax(dim=1)\n",
       "  ),\n",
       "  'validation_accuracy': 0.5555555820465088,\n",
       "  'precision': 0.5967078189300411,\n",
       "  'recall': 0.5555555555555556,\n",
       "  'F1': 0.5609053497942387},\n",
       " 7: {'model': Sequential(\n",
       "    (0): Linear(in_features=1201, out_features=3, bias=True)\n",
       "    (1): LogSoftmax(dim=1)\n",
       "  ),\n",
       "  'validation_accuracy': 0.6666666865348816,\n",
       "  'precision': 0.7521367521367521,\n",
       "  'recall': 0.6666666666666666,\n",
       "  'F1': 0.664017094017094},\n",
       " 8: {'model': Sequential(\n",
       "    (0): Linear(in_features=1201, out_features=3, bias=True)\n",
       "    (1): LogSoftmax(dim=1)\n",
       "  ),\n",
       "  'validation_accuracy': 0.4444444477558136,\n",
       "  'precision': 0.4319384319384319,\n",
       "  'recall': 0.4444444444444444,\n",
       "  'F1': 0.4351851851851852},\n",
       " 9: {'model': Sequential(\n",
       "    (0): Linear(in_features=1201, out_features=3, bias=True)\n",
       "    (1): LogSoftmax(dim=1)\n",
       "  ),\n",
       "  'validation_accuracy': 0.37037035822868347,\n",
       "  'precision': 0.4111111111111111,\n",
       "  'recall': 0.37037037037037035,\n",
       "  'F1': 0.37133237133237135},\n",
       " 10: {'model': Sequential(\n",
       "    (0): Linear(in_features=1201, out_features=3, bias=True)\n",
       "    (1): LogSoftmax(dim=1)\n",
       "  ),\n",
       "  'validation_accuracy': 0.40740740299224854,\n",
       "  'precision': 0.42962962962962964,\n",
       "  'recall': 0.4074074074074074,\n",
       "  'F1': 0.3960237293570626}}"
      ]
     },
     "execution_count": 21,
     "metadata": {},
     "output_type": "execute_result"
    }
   ],
   "source": [
    "results"
   ]
  },
  {
   "cell_type": "code",
   "execution_count": 22,
   "metadata": {},
   "outputs": [
    {
     "name": "stdout",
     "output_type": "stream",
     "text": [
      "Average accuracy (10-folds Cross-Validation): 0.511111119389534\n",
      "Average precision (10-folds Cross-Validation): 0.5488167696501031\n",
      "Average recall (10-folds Cross-Validation): 0.5111111111111111\n",
      "Average F1 (10-folds Cross-Validation): 0.5134292392708344\n"
     ]
    }
   ],
   "source": [
    "acc, precision, recall, f1 = 0, 0, 0, 0\n",
    "\n",
    "for k in results.keys():\n",
    "    acc += results[k]['validation_accuracy']\n",
    "    precision += results[k]['precision']\n",
    "    recall += results[k]['recall']\n",
    "    f1 += results[k]['F1']\n",
    "\n",
    "print('Average accuracy (10-folds Cross-Validation): {}'.format(acc/num_folds))\n",
    "print('Average precision (10-folds Cross-Validation): {}'.format(precision/num_folds))\n",
    "print('Average recall (10-folds Cross-Validation): {}'.format(recall/num_folds))\n",
    "print('Average F1 (10-folds Cross-Validation): {}'.format(f1/num_folds))"
   ]
  },
  {
   "cell_type": "code",
   "execution_count": 23,
   "metadata": {},
   "outputs": [
    {
     "name": "stdout",
     "output_type": "stream",
     "text": [
      "model with highest recall: fold 7, recall 0.6666666666666666\n"
     ]
    }
   ],
   "source": [
    "max_recall = 0\n",
    "for k in results.keys():\n",
    "    if results[k]['recall'] > max_recall:\n",
    "        max_recall = results[k]['recall']\n",
    "        new_best_model = k\n",
    "\n",
    "# model with highest recall\n",
    "print('model with highest recall: fold {}, recall {}'.format(new_best_model, \n",
    "                                                             results[new_best_model]['recall'] ))"
   ]
  },
  {
   "cell_type": "code",
   "execution_count": 24,
   "metadata": {},
   "outputs": [
    {
     "name": "stdout",
     "output_type": "stream",
     "text": [
      "Model accuracy:  0.41489362716674805\n"
     ]
    }
   ],
   "source": [
    "best_model = results[new_best_model]['model']\n",
    "criterion = torch.nn.NLLLoss() # negative log likelihood loss\n",
    "\n",
    "# TEST SET\n",
    "# accuracy\n",
    "resp = best_model.forward(Sx_test)\n",
    "avg_loss = criterion(resp, y_test)\n",
    "\n",
    "y_hat = resp.argmax(dim=1)\n",
    "acc = (y_test == y_hat).float().mean()\n",
    "\n",
    "print('Model accuracy: ', acc.item())\n",
    "\n",
    "# confusion matrix\n",
    "preds_test = y_hat.numpy()\n",
    "true_test = y_test.numpy()\n",
    "confusion = confusion_matrix(true_test, preds_test)\n",
    "\n",
    "# probabilities of class assignment\n",
    "best_model.eval() \n",
    "with torch.no_grad():\n",
    "    logits = best_model(Sx_test)\n",
    "    probs = torch.softmax(logits, dim=1)"
   ]
  },
  {
   "cell_type": "code",
   "execution_count": 25,
   "metadata": {},
   "outputs": [
    {
     "data": {
      "text/plain": [
       "tensor([[4.1010e-01, 1.5916e-01, 4.3074e-01],\n",
       "        [5.0821e-01, 8.7618e-02, 4.0418e-01],\n",
       "        [1.8072e-01, 2.2146e-01, 5.9782e-01],\n",
       "        [1.2105e-01, 4.7797e-01, 4.0097e-01],\n",
       "        [2.1487e-01, 4.2932e-01, 3.5581e-01],\n",
       "        [3.4171e-01, 4.2623e-01, 2.3206e-01],\n",
       "        [6.1961e-01, 1.1401e-01, 2.6638e-01],\n",
       "        [4.3424e-01, 2.4185e-01, 3.2391e-01],\n",
       "        [4.3614e-01, 2.2426e-01, 3.3960e-01],\n",
       "        [3.9384e-01, 1.4457e-01, 4.6159e-01],\n",
       "        [4.2697e-01, 2.3948e-01, 3.3355e-01],\n",
       "        [6.0872e-01, 8.2796e-02, 3.0848e-01],\n",
       "        [3.9010e-01, 2.6912e-02, 5.8299e-01],\n",
       "        [3.5129e-01, 2.6488e-01, 3.8383e-01],\n",
       "        [3.9450e-01, 3.3798e-01, 2.6752e-01],\n",
       "        [2.1894e-01, 4.9559e-01, 2.8548e-01],\n",
       "        [3.7422e-01, 2.6679e-01, 3.5899e-01],\n",
       "        [3.7578e-01, 3.3228e-01, 2.9195e-01],\n",
       "        [4.4683e-01, 1.7466e-01, 3.7851e-01],\n",
       "        [1.4336e-01, 3.2762e-01, 5.2902e-01],\n",
       "        [9.7632e-02, 7.0472e-01, 1.9765e-01],\n",
       "        [4.6043e-01, 2.0652e-01, 3.3304e-01],\n",
       "        [3.2063e-01, 4.7638e-01, 2.0299e-01],\n",
       "        [4.0701e-01, 4.4269e-02, 5.4872e-01],\n",
       "        [3.7844e-01, 1.6640e-01, 4.5516e-01],\n",
       "        [3.3874e-01, 3.7470e-01, 2.8656e-01],\n",
       "        [6.3191e-02, 9.8510e-02, 8.3830e-01],\n",
       "        [4.6066e-01, 2.0871e-01, 3.3062e-01],\n",
       "        [2.8986e-01, 2.7382e-01, 4.3631e-01],\n",
       "        [3.2744e-01, 3.9584e-01, 2.7672e-01],\n",
       "        [4.4005e-01, 4.4207e-01, 1.1788e-01],\n",
       "        [3.9610e-01, 3.4515e-01, 2.5875e-01],\n",
       "        [4.4074e-01, 2.2096e-01, 3.3830e-01],\n",
       "        [3.3801e-01, 3.4757e-01, 3.1442e-01],\n",
       "        [2.4940e-01, 6.6866e-01, 8.1945e-02],\n",
       "        [4.0281e-01, 3.0134e-01, 2.9585e-01],\n",
       "        [2.9803e-01, 4.9475e-01, 2.0721e-01],\n",
       "        [2.1372e-02, 9.7801e-01, 6.1928e-04],\n",
       "        [5.9950e-01, 3.4551e-01, 5.4992e-02],\n",
       "        [3.1221e-01, 5.2839e-01, 1.5940e-01],\n",
       "        [4.1272e-01, 2.6714e-01, 3.2014e-01],\n",
       "        [3.7379e-01, 2.5254e-01, 3.7368e-01],\n",
       "        [4.2231e-01, 2.6419e-01, 3.1350e-01],\n",
       "        [1.5667e-01, 5.9095e-01, 2.5238e-01],\n",
       "        [5.5067e-01, 9.2355e-02, 3.5698e-01],\n",
       "        [7.2613e-01, 2.5742e-01, 1.6448e-02],\n",
       "        [4.1904e-01, 2.8198e-01, 2.9898e-01],\n",
       "        [1.0144e-01, 5.1804e-01, 3.8052e-01],\n",
       "        [3.2380e-01, 3.7122e-01, 3.0498e-01],\n",
       "        [4.6718e-01, 1.2371e-01, 4.0911e-01],\n",
       "        [4.7244e-01, 2.3706e-01, 2.9050e-01],\n",
       "        [4.0767e-01, 1.1627e-01, 4.7606e-01],\n",
       "        [3.9588e-01, 3.6619e-01, 2.3794e-01],\n",
       "        [4.0595e-01, 2.1942e-01, 3.7462e-01],\n",
       "        [4.2534e-01, 3.9202e-01, 1.8264e-01],\n",
       "        [3.4060e-01, 3.4626e-01, 3.1314e-01],\n",
       "        [4.4121e-01, 2.5636e-01, 3.0244e-01],\n",
       "        [4.0278e-01, 2.9746e-01, 2.9976e-01],\n",
       "        [7.3646e-01, 1.9373e-01, 6.9806e-02],\n",
       "        [5.0152e-01, 4.2842e-01, 7.0064e-02],\n",
       "        [5.4428e-01, 1.9040e-01, 2.6532e-01],\n",
       "        [1.7300e-01, 3.0291e-01, 5.2409e-01],\n",
       "        [4.1804e-01, 2.7725e-01, 3.0471e-01],\n",
       "        [3.6481e-01, 2.0778e-01, 4.2742e-01],\n",
       "        [6.1676e-01, 3.0754e-01, 7.5698e-02],\n",
       "        [6.7951e-01, 1.9578e-01, 1.2471e-01],\n",
       "        [4.6770e-01, 1.0783e-01, 4.2447e-01],\n",
       "        [2.1595e-01, 5.4449e-01, 2.3955e-01],\n",
       "        [4.0746e-01, 2.8395e-01, 3.0859e-01],\n",
       "        [2.9339e-01, 4.0711e-01, 2.9950e-01],\n",
       "        [2.4530e-01, 1.1548e-02, 7.4315e-01],\n",
       "        [3.2822e-01, 4.4138e-01, 2.3039e-01],\n",
       "        [3.9438e-01, 3.3278e-01, 2.7284e-01],\n",
       "        [3.5800e-01, 1.7400e-01, 4.6800e-01],\n",
       "        [3.1814e-01, 2.9531e-01, 3.8655e-01],\n",
       "        [4.0503e-01, 2.3610e-01, 3.5887e-01],\n",
       "        [3.6700e-01, 3.7385e-01, 2.5915e-01],\n",
       "        [9.8520e-01, 1.2828e-02, 1.9754e-03],\n",
       "        [7.5490e-01, 9.1675e-02, 1.5342e-01],\n",
       "        [3.0716e-01, 2.5474e-01, 4.3810e-01],\n",
       "        [2.1683e-01, 7.3964e-02, 7.0920e-01],\n",
       "        [3.8602e-01, 2.3249e-01, 3.8149e-01],\n",
       "        [2.0236e-01, 6.3586e-01, 1.6178e-01],\n",
       "        [1.5606e-01, 6.6623e-01, 1.7771e-01],\n",
       "        [3.5162e-01, 4.4303e-01, 2.0535e-01],\n",
       "        [3.3562e-01, 2.6247e-01, 4.0191e-01],\n",
       "        [2.8668e-01, 2.9853e-01, 4.1479e-01],\n",
       "        [4.0847e-01, 3.2621e-01, 2.6533e-01],\n",
       "        [3.9754e-01, 3.0885e-01, 2.9361e-01],\n",
       "        [1.9922e-01, 5.3301e-01, 2.6777e-01],\n",
       "        [1.7757e-01, 5.8583e-01, 2.3660e-01],\n",
       "        [4.5042e-01, 1.4643e-01, 4.0315e-01],\n",
       "        [3.8431e-01, 2.4164e-01, 3.7405e-01],\n",
       "        [5.0648e-01, 8.0626e-02, 4.1290e-01]])"
      ]
     },
     "execution_count": 25,
     "metadata": {},
     "output_type": "execute_result"
    }
   ],
   "source": [
    "probs"
   ]
  },
  {
   "cell_type": "code",
   "execution_count": 26,
   "metadata": {},
   "outputs": [
    {
     "data": {
      "text/plain": [
       "array([[22,  8,  0],\n",
       "       [ 6,  6,  9],\n",
       "       [19, 13, 11]])"
      ]
     },
     "execution_count": 26,
     "metadata": {},
     "output_type": "execute_result"
    }
   ],
   "source": [
    "confusion"
   ]
  },
  {
   "cell_type": "code",
   "execution_count": 27,
   "metadata": {},
   "outputs": [
    {
     "data": {
      "text/plain": [
       "Counter({2: 43, 0: 30, 1: 21})"
      ]
     },
     "execution_count": 27,
     "metadata": {},
     "output_type": "execute_result"
    }
   ],
   "source": [
    "Counter(y_test.numpy())"
   ]
  },
  {
   "cell_type": "code",
   "execution_count": 28,
   "metadata": {},
   "outputs": [
    {
     "data": {
      "image/png": "[encoded data removed]",
      "text/plain": [
       "<Figure size 640x480 with 1 Axes>"
      ]
     },
     "metadata": {},
     "output_type": "display_data"
    }
   ],
   "source": [
    "def plot_confusion_matrix(confusion):\n",
    "    plt.figure()\n",
    "    plt.imshow(confusion, cmap='viridis') \n",
    "\n",
    "    num_classes = confusion.shape[0]\n",
    "    tick_locs = np.arange(num_classes)\n",
    "    ticks = ['{}'.format(i) for i in range(num_classes)]\n",
    "\n",
    "    plt.xticks(tick_locs, ticks)\n",
    "    plt.yticks(tick_locs, ticks)\n",
    "\n",
    "    plt.ylabel('True')\n",
    "    plt.xlabel('Predicted')\n",
    "\n",
    "    for i in range(num_classes):\n",
    "        for j in range(num_classes):\n",
    "            lab = f'{confusion[i, j]}'\n",
    "\n",
    "            plt.text(j, i, lab, ha='center', va='center', color='black', fontsize=15, bbox=dict(boxstyle='round', fc='w'))\n",
    "\n",
    "    plt.title('Confusion Matrix')\n",
    "    plt.show()\n",
    "\n",
    "\n",
    "plot_confusion_matrix(confusion)\n"
   ]
  },
  {
   "cell_type": "code",
   "execution_count": 29,
   "metadata": {},
   "outputs": [
    {
     "data": {
      "text/plain": [
       "{'non-event': 0, 'SI': 1, 'SSC': 2}"
      ]
     },
     "execution_count": 29,
     "metadata": {},
     "output_type": "execute_result"
    }
   ],
   "source": [
    "lab_to_int # SI have the most problematic prediction"
   ]
  },
  {
   "cell_type": "code",
   "execution_count": 30,
   "metadata": {},
   "outputs": [
    {
     "name": "stdout",
     "output_type": "stream",
     "text": [
      "Precision: 0.45062999849102153\n",
      "Recall: 0.4148936170212766\n",
      "F1: 0.39796521445457617\n"
     ]
    }
   ],
   "source": [
    "precision = precision_score(true_test, preds_test, average='weighted')\n",
    "recall = recall_score(true_test, preds_test, average='weighted')\n",
    "f1 = f1_score(true_test, preds_test, average='weighted')\n",
    "\n",
    "print('Precision: {}\\nRecall: {}\\nF1: {}'.format(precision,recall,f1))"
   ]
  },
  {
   "cell_type": "code",
   "execution_count": 31,
   "metadata": {},
   "outputs": [
    {
     "name": "stdout",
     "output_type": "stream",
     "text": [
      "\t\tNon-Event (0)  SI (1)  SSC (2)\n",
      "Precision:\t[0.46808511 0.22222222 0.55      ]\n",
      "Recall:\t\t[0.73333333 0.28571429 0.25581395]\n",
      "F1:\t\t[0.57142857 0.25       0.34920635]\n"
     ]
    }
   ],
   "source": [
    "print('\\t\\tNon-Event (0)  SI (1)  SSC (2)\\nPrecision:\\t{}\\nRecall:\\t\\t{}\\nF1:\\t\\t{}'.format(\n",
    "                                                                                    precision_score(true_test, preds_test, average=None),\n",
    "                                                                                    recall_score(true_test, preds_test, average=None),\n",
    "                                                                                    f1_score(true_test, preds_test, average=None)))"
   ]
  },
  {
   "cell_type": "code",
   "execution_count": 32,
   "metadata": {},
   "outputs": [],
   "source": [
    "acc_log_reg_full = accuracy_score(true_test, preds_test)"
   ]
  },
  {
   "cell_type": "code",
   "execution_count": 33,
   "metadata": {},
   "outputs": [
    {
     "data": {
      "text/plain": [
       "(array([0.46808511, 0.22222222, 0.55      ]),\n",
       " array([0.73333333, 0.28571429, 0.25581395]),\n",
       " array([0.57142857, 0.25      , 0.34920635]),\n",
       " array([30, 21, 43]))"
      ]
     },
     "execution_count": 33,
     "metadata": {},
     "output_type": "execute_result"
    }
   ],
   "source": [
    "precision_log_reg_full, recall_log_reg_full, f1_score_log_reg_full, support_log_reg_full = precision_recall_fscore_support(true_test, preds_test)\n",
    "precision_log_reg_full, recall_log_reg_full, f1_score_log_reg_full, support_log_reg_full "
   ]
  },
  {
   "cell_type": "markdown",
   "metadata": {},
   "source": [
    "___________"
   ]
  },
  {
   "cell_type": "markdown",
   "metadata": {},
   "source": [
    "#### Support Vector Classifier with Grid Search and 10-folds cross validation"
   ]
  },
  {
   "cell_type": "code",
   "execution_count": 34,
   "metadata": {},
   "outputs": [
    {
     "data": {
      "text/plain": [
       "{'C': 10.0,\n",
       " 'class_weight': {0: 1, 1: 1.5, 2: 1.2},\n",
       " 'gamma': 'auto',\n",
       " 'kernel': 'rbf'}"
      ]
     },
     "execution_count": 34,
     "metadata": {},
     "output_type": "execute_result"
    }
   ],
   "source": [
    "# SVC parameters\n",
    "param_grid = { \n",
    "        'C': [ 0.1,  1. , 2., 10. ], # regularization\n",
    "        'class_weight':[{0:1, 1:2.2, 2:1},\n",
    "                        {0:1, # class : weight\n",
    "                         1:2, # give weight 2 to class 1 (SI event), and weight 1 to the other two, since SI are the most misclassified\n",
    "                         2:1},  \n",
    "                        {0:1, 1:1.5, 2:1.2},\n",
    "                        {0:1, 1:2, 2:1.5}\n",
    "                        ],\n",
    "        'kernel': ['poly', 'rbf', 'sigmoid'],\n",
    "        'gamma': ['scale', 'auto'] # kernel coefficent for poly, rbf, sigmoid\n",
    "        }\n",
    "\n",
    "\n",
    "# 10 folds CV\n",
    "n_splits, n_repeats = 10, 5\n",
    "cv = RepeatedKFold(n_splits=n_splits, n_repeats=n_repeats, random_state=2)\n",
    "grid_search = GridSearchCV(estimator=SVC(), \n",
    "                            param_grid=param_grid, \n",
    "                            scoring='accuracy', \n",
    "                            refit='accuracy', \n",
    "                            n_jobs=-1, \n",
    "                            cv=cv)\n",
    "gridCV = grid_search.fit(Sx_train, y_train_resampled)\n",
    "gridCV.best_params_"
   ]
  },
  {
   "cell_type": "code",
   "execution_count": 35,
   "metadata": {},
   "outputs": [],
   "source": [
    "svc = SVC(**gridCV.best_params_, probability=True).fit(Sx_train, y_train_resampled)"
   ]
  },
  {
   "cell_type": "code",
   "execution_count": 36,
   "metadata": {},
   "outputs": [
    {
     "data": {
      "text/plain": [
       "array([[26,  4,  0],\n",
       "       [ 6, 11,  4],\n",
       "       [ 6, 11, 26]])"
      ]
     },
     "execution_count": 36,
     "metadata": {},
     "output_type": "execute_result"
    }
   ],
   "source": [
    "svm_preds = svc.predict(Sx_test)\n",
    "confusion = confusion_matrix(y_test, svm_preds)\n",
    "confusion"
   ]
  },
  {
   "cell_type": "code",
   "execution_count": 37,
   "metadata": {},
   "outputs": [
    {
     "data": {
      "text/plain": [
       "array([[1.13701892e-03, 3.97001150e-02, 9.59162866e-01],\n",
       "       [1.74053502e-04, 1.78348121e-02, 9.81991134e-01],\n",
       "       [1.59717209e-04, 4.23012169e-01, 5.76828114e-01],\n",
       "       [4.13784743e-05, 7.93662131e-02, 9.20592408e-01],\n",
       "       [1.48986016e-02, 4.81268452e-01, 5.03832947e-01],\n",
       "       [6.23803995e-01, 2.90034326e-01, 8.61616787e-02],\n",
       "       [6.69301255e-01, 1.34754334e-01, 1.95944411e-01],\n",
       "       [4.73149039e-01, 9.50030122e-02, 4.31847949e-01],\n",
       "       [4.97509342e-01, 3.16894567e-01, 1.85596091e-01],\n",
       "       [6.60254838e-02, 5.38128787e-02, 8.80161638e-01],\n",
       "       [2.90959185e-01, 2.66454178e-01, 4.42586637e-01],\n",
       "       [4.47565862e-01, 4.06692140e-02, 5.11764924e-01],\n",
       "       [3.67877782e-03, 1.67955418e-01, 8.28365804e-01],\n",
       "       [2.93136984e-02, 6.47471458e-01, 3.23214843e-01],\n",
       "       [7.87562582e-01, 1.09527255e-01, 1.02910163e-01],\n",
       "       [3.06559745e-02, 6.17776115e-01, 3.51567911e-01],\n",
       "       [4.12753176e-02, 4.21098384e-01, 5.37626299e-01],\n",
       "       [6.75332592e-01, 2.00757277e-01, 1.23910131e-01],\n",
       "       [6.97458104e-01, 1.05931567e-01, 1.96610330e-01],\n",
       "       [1.14784248e-04, 5.27062854e-01, 4.72822362e-01],\n",
       "       [1.38326021e-02, 6.30887105e-01, 3.55280293e-01],\n",
       "       [5.94763389e-01, 2.15517167e-01, 1.89719444e-01],\n",
       "       [4.08412737e-01, 4.89656021e-01, 1.01931242e-01],\n",
       "       [7.13839848e-01, 8.59337368e-02, 2.00226415e-01],\n",
       "       [5.43335925e-02, 1.54136334e-01, 7.91530073e-01],\n",
       "       [1.61122426e-01, 6.80805868e-01, 1.58071706e-01],\n",
       "       [5.26726259e-03, 2.99316219e-01, 6.95416518e-01],\n",
       "       [2.34013785e-02, 6.15461685e-02, 9.15052453e-01],\n",
       "       [3.47474181e-02, 3.64745749e-01, 6.00506833e-01],\n",
       "       [5.18145876e-01, 3.04355125e-01, 1.77499000e-01],\n",
       "       [2.06054121e-03, 1.47377092e-01, 8.50562367e-01],\n",
       "       [8.46259699e-01, 9.79695242e-02, 5.57707771e-02],\n",
       "       [5.26416665e-01, 3.00037206e-01, 1.73546129e-01],\n",
       "       [3.98496803e-01, 3.59326967e-01, 2.42176230e-01],\n",
       "       [7.57941994e-02, 7.87893529e-01, 1.36312272e-01],\n",
       "       [6.88218980e-01, 1.87347425e-01, 1.24433595e-01],\n",
       "       [5.07687513e-01, 4.01510987e-01, 9.08015002e-02],\n",
       "       [9.08295760e-04, 2.15161556e-01, 7.83930148e-01],\n",
       "       [8.74135478e-02, 3.77380132e-01, 5.35206320e-01],\n",
       "       [3.84972951e-01, 5.19495664e-01, 9.55313846e-02],\n",
       "       [5.19514731e-01, 3.05669998e-01, 1.74815271e-01],\n",
       "       [1.27591357e-01, 4.42544725e-01, 4.29863918e-01],\n",
       "       [5.62632464e-01, 2.88311788e-01, 1.49055748e-01],\n",
       "       [8.79060676e-03, 6.29019556e-01, 3.62189838e-01],\n",
       "       [1.23136986e-03, 4.65437200e-02, 9.52224910e-01],\n",
       "       [1.97504790e-03, 1.68101944e-01, 8.29923009e-01],\n",
       "       [7.12151621e-01, 1.69757361e-01, 1.18091018e-01],\n",
       "       [1.50721570e-04, 1.60979697e-01, 8.38869582e-01],\n",
       "       [1.58347055e-01, 5.38182981e-01, 3.03469964e-01],\n",
       "       [6.32441605e-01, 3.53529040e-02, 3.32205491e-01],\n",
       "       [7.71338249e-01, 1.39235691e-01, 8.94260606e-02],\n",
       "       [2.73579572e-01, 1.55338079e-01, 5.71082349e-01],\n",
       "       [7.77165710e-01, 1.77307399e-01, 4.55268905e-02],\n",
       "       [2.14434284e-01, 4.55770414e-01, 3.29795302e-01],\n",
       "       [8.36181567e-01, 6.55918722e-02, 9.82265608e-02],\n",
       "       [2.32773216e-01, 4.60028547e-01, 3.07198237e-01],\n",
       "       [5.54804316e-01, 2.90809017e-01, 1.54386667e-01],\n",
       "       [6.56190304e-01, 2.10092951e-01, 1.33716745e-01],\n",
       "       [1.22114127e-01, 5.35112529e-01, 3.42773345e-01],\n",
       "       [1.31482163e-03, 1.76047186e-01, 8.22637992e-01],\n",
       "       [6.86739875e-01, 2.29802908e-01, 8.34572171e-02],\n",
       "       [2.06118940e-03, 5.88879444e-01, 4.09059366e-01],\n",
       "       [3.91807671e-01, 4.19718834e-01, 1.88473495e-01],\n",
       "       [1.00335776e-01, 3.52779029e-01, 5.46885195e-01],\n",
       "       [1.46542013e-02, 3.30162224e-01, 6.55183575e-01],\n",
       "       [9.74995445e-01, 1.97900410e-02, 5.21451366e-03],\n",
       "       [7.31011674e-01, 1.34183326e-01, 1.34805000e-01],\n",
       "       [7.57062653e-02, 6.98469596e-01, 2.25824139e-01],\n",
       "       [5.97623146e-01, 2.51368297e-01, 1.51008557e-01],\n",
       "       [3.02189242e-01, 5.33574079e-01, 1.64236679e-01],\n",
       "       [3.78962735e-04, 2.91287872e-02, 9.70492250e-01],\n",
       "       [6.71172755e-01, 2.46643947e-01, 8.21832978e-02],\n",
       "       [7.83545138e-01, 1.29721123e-01, 8.67337389e-02],\n",
       "       [8.12717771e-02, 2.38112396e-01, 6.80615827e-01],\n",
       "       [1.20309606e-01, 1.82348355e-01, 6.97342039e-01],\n",
       "       [4.16022553e-01, 3.56303566e-01, 2.27673882e-01],\n",
       "       [7.77523152e-01, 1.51356771e-01, 7.11200779e-02],\n",
       "       [5.67487155e-03, 2.42140695e-01, 7.52184434e-01],\n",
       "       [1.48277615e-01, 3.38321209e-01, 5.13401176e-01],\n",
       "       [9.95442931e-03, 6.21065040e-01, 3.68980531e-01],\n",
       "       [1.22890542e-02, 1.46105203e-01, 8.41605743e-01],\n",
       "       [6.28521641e-01, 1.83525557e-01, 1.87952802e-01],\n",
       "       [2.47689672e-04, 4.27596097e-01, 5.72156214e-01],\n",
       "       [9.17517205e-04, 3.65950292e-01, 6.33132191e-01],\n",
       "       [6.08825695e-01, 3.16671942e-01, 7.45023630e-02],\n",
       "       [2.43216437e-01, 2.98711125e-01, 4.58072438e-01],\n",
       "       [2.93499012e-02, 5.34111168e-01, 4.36538931e-01],\n",
       "       [8.61518925e-01, 7.62405843e-02, 6.22404907e-02],\n",
       "       [7.02594341e-01, 1.79471556e-01, 1.17934103e-01],\n",
       "       [5.07939592e-02, 6.13868020e-01, 3.35338021e-01],\n",
       "       [2.52133548e-02, 6.49477560e-01, 3.25309085e-01],\n",
       "       [7.31017076e-01, 4.42446544e-02, 2.24738269e-01],\n",
       "       [8.47464623e-02, 4.28725054e-01, 4.86528484e-01],\n",
       "       [1.76137848e-04, 1.77684187e-02, 9.82055443e-01]])"
      ]
     },
     "execution_count": 37,
     "metadata": {},
     "output_type": "execute_result"
    }
   ],
   "source": [
    "# probabilities class assignment\n",
    "svc_probs = svc.predict_proba(Sx_test)\n",
    "svc_probs"
   ]
  },
  {
   "cell_type": "code",
   "execution_count": 38,
   "metadata": {},
   "outputs": [
    {
     "data": {
      "image/png": "[encoded data removed]",
      "text/plain": [
       "<Figure size 640x480 with 1 Axes>"
      ]
     },
     "metadata": {},
     "output_type": "display_data"
    }
   ],
   "source": [
    "plot_confusion_matrix(confusion)"
   ]
  },
  {
   "cell_type": "code",
   "execution_count": 39,
   "metadata": {},
   "outputs": [
    {
     "name": "stdout",
     "output_type": "stream",
     "text": [
      "Accuracy on Test Set: 0.6702127659574468\n"
     ]
    }
   ],
   "source": [
    "print('Accuracy on Test Set: {}'.format(accuracy_score(y_test, svm_preds)))"
   ]
  },
  {
   "cell_type": "code",
   "execution_count": 40,
   "metadata": {},
   "outputs": [
    {
     "name": "stdout",
     "output_type": "stream",
     "text": [
      "Precision: 0.7093361472420823\n",
      "Recall: 0.6702127659574468\n",
      "F1: 0.6744797945843848\n"
     ]
    }
   ],
   "source": [
    "precision = precision_score(y_test, svm_preds, average='weighted')\n",
    "recall = recall_score(y_test, svm_preds, average='weighted')\n",
    "f1 = f1_score(y_test, svm_preds, average='weighted')\n",
    "\n",
    "print('Precision: {}\\nRecall: {}\\nF1: {}'.format(precision,recall,f1))"
   ]
  },
  {
   "cell_type": "code",
   "execution_count": 41,
   "metadata": {},
   "outputs": [
    {
     "name": "stdout",
     "output_type": "stream",
     "text": [
      "\t\tNon-Event (0)  SI (1)  SSC (2)\n",
      "Precision:\t[0.68421053 0.42307692 0.86666667]\n",
      "Recall:\t\t[0.86666667 0.52380952 0.60465116]\n",
      "F1:\t\t[0.76470588 0.46808511 0.71232877]\n"
     ]
    }
   ],
   "source": [
    "print('\\t\\tNon-Event (0)  SI (1)  SSC (2)\\nPrecision:\\t{}\\nRecall:\\t\\t{}\\nF1:\\t\\t{}'.format(\n",
    "                                                                                    precision_score(y_test, svm_preds, average=None),\n",
    "                                                                                    recall_score(y_test, svm_preds, average=None),\n",
    "                                                                                    f1_score(y_test, svm_preds, average=None)))"
   ]
  },
  {
   "cell_type": "code",
   "execution_count": 42,
   "metadata": {},
   "outputs": [
    {
     "name": "stdout",
     "output_type": "stream",
     "text": [
      "              precision    recall  f1-score   support\n",
      "\n",
      "           0       0.68      0.87      0.76        30\n",
      "           1       0.42      0.52      0.47        21\n",
      "           2       0.87      0.60      0.71        43\n",
      "\n",
      "    accuracy                           0.67        94\n",
      "   macro avg       0.66      0.67      0.65        94\n",
      "weighted avg       0.71      0.67      0.67        94\n",
      "\n"
     ]
    }
   ],
   "source": [
    "print(classification_report(y_test, svm_preds))"
   ]
  },
  {
   "cell_type": "code",
   "execution_count": 43,
   "metadata": {},
   "outputs": [
    {
     "data": {
      "text/plain": [
       "(array([0.68421053, 0.42307692, 0.86666667]),\n",
       " array([0.86666667, 0.52380952, 0.60465116]),\n",
       " array([0.76470588, 0.46808511, 0.71232877]),\n",
       " array([30, 21, 43]))"
      ]
     },
     "execution_count": 43,
     "metadata": {},
     "output_type": "execute_result"
    }
   ],
   "source": [
    "acc_svc_full = accuracy_score(y_test, svm_preds)\n",
    "precision_svc_full, recall_svc_full, f1_score_svc_full, support_svc_full = precision_recall_fscore_support(y_test, svm_preds)\n",
    "precision_svc_full, recall_svc_full, f1_score_svc_full, support_svc_full"
   ]
  },
  {
   "cell_type": "markdown",
   "metadata": {},
   "source": [
    "__________"
   ]
  },
  {
   "cell_type": "markdown",
   "metadata": {},
   "source": [
    "#### Random Forest with Grid Search opt and 10 folds CV"
   ]
  },
  {
   "cell_type": "code",
   "execution_count": 44,
   "metadata": {},
   "outputs": [
    {
     "data": {
      "text/html": [
       "<style>#sk-container-id-1 {color: black;}#sk-container-id-1 pre{padding: 0;}#sk-container-id-1 div.sk-toggleable {background-color: white;}#sk-container-id-1 label.sk-toggleable__label {cursor: pointer;display: block;width: 100%;margin-bottom: 0;padding: 0.3em;box-sizing: border-box;text-align: center;}#sk-container-id-1 label.sk-toggleable__label-arrow:before {content: \"▸\";float: left;margin-right: 0.25em;color: #696969;}#sk-container-id-1 label.sk-toggleable__label-arrow:hover:before {color: black;}#sk-container-id-1 div.sk-estimator:hover label.sk-toggleable__label-arrow:before {color: black;}#sk-container-id-1 div.sk-toggleable__content {max-height: 0;max-width: 0;overflow: hidden;text-align: left;background-color: #f0f8ff;}#sk-container-id-1 div.sk-toggleable__content pre {margin: 0.2em;color: black;border-radius: 0.25em;background-color: #f0f8ff;}#sk-container-id-1 input.sk-toggleable__control:checked~div.sk-toggleable__content {max-height: 200px;max-width: 100%;overflow: auto;}#sk-container-id-1 input.sk-toggleable__control:checked~label.sk-toggleable__label-arrow:before {content: \"▾\";}#sk-container-id-1 div.sk-estimator input.sk-toggleable__control:checked~label.sk-toggleable__label {background-color: #d4ebff;}#sk-container-id-1 div.sk-label input.sk-toggleable__control:checked~label.sk-toggleable__label {background-color: #d4ebff;}#sk-container-id-1 input.sk-hidden--visually {border: 0;clip: rect(1px 1px 1px 1px);clip: rect(1px, 1px, 1px, 1px);height: 1px;margin: -1px;overflow: hidden;padding: 0;position: absolute;width: 1px;}#sk-container-id-1 div.sk-estimator {font-family: monospace;background-color: #f0f8ff;border: 1px dotted black;border-radius: 0.25em;box-sizing: border-box;margin-bottom: 0.5em;}#sk-container-id-1 div.sk-estimator:hover {background-color: #d4ebff;}#sk-container-id-1 div.sk-parallel-item::after {content: \"\";width: 100%;border-bottom: 1px solid gray;flex-grow: 1;}#sk-container-id-1 div.sk-label:hover label.sk-toggleable__label {background-color: #d4ebff;}#sk-container-id-1 div.sk-serial::before {content: \"\";position: absolute;border-left: 1px solid gray;box-sizing: border-box;top: 0;bottom: 0;left: 50%;z-index: 0;}#sk-container-id-1 div.sk-serial {display: flex;flex-direction: column;align-items: center;background-color: white;padding-right: 0.2em;padding-left: 0.2em;position: relative;}#sk-container-id-1 div.sk-item {position: relative;z-index: 1;}#sk-container-id-1 div.sk-parallel {display: flex;align-items: stretch;justify-content: center;background-color: white;position: relative;}#sk-container-id-1 div.sk-item::before, #sk-container-id-1 div.sk-parallel-item::before {content: \"\";position: absolute;border-left: 1px solid gray;box-sizing: border-box;top: 0;bottom: 0;left: 50%;z-index: -1;}#sk-container-id-1 div.sk-parallel-item {display: flex;flex-direction: column;z-index: 1;position: relative;background-color: white;}#sk-container-id-1 div.sk-parallel-item:first-child::after {align-self: flex-end;width: 50%;}#sk-container-id-1 div.sk-parallel-item:last-child::after {align-self: flex-start;width: 50%;}#sk-container-id-1 div.sk-parallel-item:only-child::after {width: 0;}#sk-container-id-1 div.sk-dashed-wrapped {border: 1px dashed gray;margin: 0 0.4em 0.5em 0.4em;box-sizing: border-box;padding-bottom: 0.4em;background-color: white;}#sk-container-id-1 div.sk-label label {font-family: monospace;font-weight: bold;display: inline-block;line-height: 1.2em;}#sk-container-id-1 div.sk-label-container {text-align: center;}#sk-container-id-1 div.sk-container {/* jupyter's `normalize.less` sets `[hidden] { display: none; }` but bootstrap.min.css set `[hidden] { display: none !important; }` so we also need the `!important` here to be able to override the default hidden behavior on the sphinx rendered scikit-learn.org. See: https://github.com/scikit-learn/scikit-learn/issues/21755 */display: inline-block !important;position: relative;}#sk-container-id-1 div.sk-text-repr-fallback {display: none;}</style><div id=\"sk-container-id-1\" class=\"sk-top-container\"><div class=\"sk-text-repr-fallback\"><pre>GridSearchCV(cv=StratifiedKFold(n_splits=10, random_state=2, shuffle=True),\n",
       "             estimator=RandomForestClassifier(random_state=2), n_jobs=-1,\n",
       "             param_grid={&#x27;bootstrap&#x27;: [True, False],\n",
       "                         &#x27;min_samples_leaf&#x27;: [1, 2, 4],\n",
       "                         &#x27;min_samples_split&#x27;: [2, 5, 10],\n",
       "                         &#x27;n_estimators&#x27;: [50, 100, 150]},\n",
       "             scoring=&#x27;accuracy&#x27;)</pre><b>In a Jupyter environment, please rerun this cell to show the HTML representation or trust the notebook. <br />On GitHub, the HTML representation is unable to render, please try loading this page with nbviewer.org.</b></div><div class=\"sk-container\" hidden><div class=\"sk-item sk-dashed-wrapped\"><div class=\"sk-label-container\"><div class=\"sk-label sk-toggleable\"><input class=\"sk-toggleable__control sk-hidden--visually\" id=\"sk-estimator-id-1\" type=\"checkbox\" ><label for=\"sk-estimator-id-1\" class=\"sk-toggleable__label sk-toggleable__label-arrow\">GridSearchCV</label><div class=\"sk-toggleable__content\"><pre>GridSearchCV(cv=StratifiedKFold(n_splits=10, random_state=2, shuffle=True),\n",
       "             estimator=RandomForestClassifier(random_state=2), n_jobs=-1,\n",
       "             param_grid={&#x27;bootstrap&#x27;: [True, False],\n",
       "                         &#x27;min_samples_leaf&#x27;: [1, 2, 4],\n",
       "                         &#x27;min_samples_split&#x27;: [2, 5, 10],\n",
       "                         &#x27;n_estimators&#x27;: [50, 100, 150]},\n",
       "             scoring=&#x27;accuracy&#x27;)</pre></div></div></div><div class=\"sk-parallel\"><div class=\"sk-parallel-item\"><div class=\"sk-item\"><div class=\"sk-label-container\"><div class=\"sk-label sk-toggleable\"><input class=\"sk-toggleable__control sk-hidden--visually\" id=\"sk-estimator-id-2\" type=\"checkbox\" ><label for=\"sk-estimator-id-2\" class=\"sk-toggleable__label sk-toggleable__label-arrow\">estimator: RandomForestClassifier</label><div class=\"sk-toggleable__content\"><pre>RandomForestClassifier(random_state=2)</pre></div></div></div><div class=\"sk-serial\"><div class=\"sk-item\"><div class=\"sk-estimator sk-toggleable\"><input class=\"sk-toggleable__control sk-hidden--visually\" id=\"sk-estimator-id-3\" type=\"checkbox\" ><label for=\"sk-estimator-id-3\" class=\"sk-toggleable__label sk-toggleable__label-arrow\">RandomForestClassifier</label><div class=\"sk-toggleable__content\"><pre>RandomForestClassifier(random_state=2)</pre></div></div></div></div></div></div></div></div></div></div>"
      ],
      "text/plain": [
       "GridSearchCV(cv=StratifiedKFold(n_splits=10, random_state=2, shuffle=True),\n",
       "             estimator=RandomForestClassifier(random_state=2), n_jobs=-1,\n",
       "             param_grid={'bootstrap': [True, False],\n",
       "                         'min_samples_leaf': [1, 2, 4],\n",
       "                         'min_samples_split': [2, 5, 10],\n",
       "                         'n_estimators': [50, 100, 150]},\n",
       "             scoring='accuracy')"
      ]
     },
     "execution_count": 44,
     "metadata": {},
     "output_type": "execute_result"
    }
   ],
   "source": [
    "rf_classifier = RandomForestClassifier(random_state=2)\n",
    "\n",
    "param_grid = {\n",
    "    'n_estimators': [50, 100, 150],\n",
    "    'min_samples_split': [2, 5, 10],\n",
    "    'min_samples_leaf': [1, 2, 4],\n",
    "    'bootstrap': [True, False]\n",
    "}\n",
    "\n",
    "# 10 folds CV\n",
    "n_splits = 10\n",
    "cv = StratifiedKFold(n_splits=n_splits, shuffle=True, random_state=2)\n",
    "\n",
    "# grid search with 10-fold cross-validation\n",
    "grid_search_rf = GridSearchCV(estimator=rf_classifier, \n",
    "                           param_grid=param_grid, \n",
    "                           scoring='accuracy', \n",
    "                           n_jobs=-1,\n",
    "                           cv=cv)\n",
    "grid_search_rf.fit(Sx_train.numpy(), y_train_resampled.numpy()) # must be numpy array"
   ]
  },
  {
   "cell_type": "code",
   "execution_count": 45,
   "metadata": {},
   "outputs": [
    {
     "data": {
      "text/plain": [
       "{'bootstrap': True,\n",
       " 'min_samples_leaf': 1,\n",
       " 'min_samples_split': 2,\n",
       " 'n_estimators': 150}"
      ]
     },
     "execution_count": 45,
     "metadata": {},
     "output_type": "execute_result"
    }
   ],
   "source": [
    "grid_search_rf.best_params_"
   ]
  },
  {
   "cell_type": "code",
   "execution_count": 46,
   "metadata": {},
   "outputs": [
    {
     "data": {
      "text/plain": [
       "0.7481481481481482"
      ]
     },
     "execution_count": 46,
     "metadata": {},
     "output_type": "execute_result"
    }
   ],
   "source": [
    "# best accuracy score\n",
    "grid_search_rf.best_score_"
   ]
  },
  {
   "cell_type": "code",
   "execution_count": 47,
   "metadata": {},
   "outputs": [],
   "source": [
    "rf = RandomForestClassifier(**grid_search_rf.best_params_, random_state=2).fit(Sx_train.numpy(), y_train_resampled.numpy())"
   ]
  },
  {
   "cell_type": "code",
   "execution_count": 48,
   "metadata": {},
   "outputs": [
    {
     "name": "stdout",
     "output_type": "stream",
     "text": [
      "Test Accuracy:  0.6914893617021277\n"
     ]
    }
   ],
   "source": [
    "y_pred_rf = rf.predict(Sx_test.numpy())\n",
    "acc_rf_full = accuracy_score(y_test.numpy(), y_pred_rf)\n",
    "print('Test Accuracy: ', acc_rf_full)"
   ]
  },
  {
   "cell_type": "code",
   "execution_count": 49,
   "metadata": {},
   "outputs": [],
   "source": [
    "# get probabilities\n",
    "probs_rf_forest = rf.predict_proba(Sx_test.numpy())"
   ]
  },
  {
   "cell_type": "code",
   "execution_count": 50,
   "metadata": {},
   "outputs": [
    {
     "data": {
      "image/png": "[encoded data removed]",
      "text/plain": [
       "<Figure size 640x480 with 1 Axes>"
      ]
     },
     "metadata": {},
     "output_type": "display_data"
    }
   ],
   "source": [
    "confusion_rf = confusion_matrix(y_test.numpy(), y_pred_rf)\n",
    "plot_confusion_matrix(confusion_rf)"
   ]
  },
  {
   "cell_type": "code",
   "execution_count": 51,
   "metadata": {},
   "outputs": [
    {
     "name": "stdout",
     "output_type": "stream",
     "text": [
      "              precision    recall  f1-score   support\n",
      "\n",
      "           0       0.72      0.97      0.83        30\n",
      "           1       0.40      0.29      0.33        21\n",
      "           2       0.77      0.70      0.73        43\n",
      "\n",
      "    accuracy                           0.69        94\n",
      "   macro avg       0.63      0.65      0.63        94\n",
      "weighted avg       0.67      0.69      0.67        94\n",
      "\n"
     ]
    }
   ],
   "source": [
    "print(classification_report(y_test.numpy(), y_pred_rf))"
   ]
  },
  {
   "cell_type": "code",
   "execution_count": 52,
   "metadata": {},
   "outputs": [
    {
     "data": {
      "text/plain": [
       "(array([0.725     , 0.4       , 0.76923077]),\n",
       " array([0.96666667, 0.28571429, 0.69767442]),\n",
       " array([0.82857143, 0.33333333, 0.73170732]),\n",
       " array([30, 21, 43]))"
      ]
     },
     "execution_count": 52,
     "metadata": {},
     "output_type": "execute_result"
    }
   ],
   "source": [
    "precision_rf_full, recall_rf_full, f1_score_rf_full, support_rf_full = precision_recall_fscore_support(y_test.numpy(), y_pred_rf)\n",
    "precision_rf_full, recall_rf_full, f1_score_rf_full, support_rf_full "
   ]
  },
  {
   "cell_type": "code",
   "execution_count": 53,
   "metadata": {},
   "outputs": [
    {
     "name": "stdout",
     "output_type": "stream",
     "text": [
      "Precision: 0.6726268412438625\n",
      "Recall: 0.6914893617021277\n",
      "F1: 0.6736229520349915\n"
     ]
    }
   ],
   "source": [
    "precision_rf = precision_score(y_test.numpy(), y_pred_rf, average='weighted')\n",
    "recall_rf = recall_score(y_test.numpy(), y_pred_rf, average='weighted')\n",
    "f1_rf = f1_score(y_test.numpy(), y_pred_rf, average='weighted')\n",
    "\n",
    "print('Precision: {}\\nRecall: {}\\nF1: {}'.format(precision_rf, recall_rf, f1_rf))"
   ]
  },
  {
   "cell_type": "markdown",
   "metadata": {},
   "source": [
    "_______"
   ]
  },
  {
   "cell_type": "markdown",
   "metadata": {},
   "source": [
    "#### Summarize performances"
   ]
  },
  {
   "cell_type": "code",
   "execution_count": 54,
   "metadata": {},
   "outputs": [
    {
     "data": {
      "text/html": [
       "<div>\n",
       "<style scoped>\n",
       "    .dataframe tbody tr th:only-of-type {\n",
       "        vertical-align: middle;\n",
       "    }\n",
       "\n",
       "    .dataframe tbody tr th {\n",
       "        vertical-align: top;\n",
       "    }\n",
       "\n",
       "    .dataframe thead th {\n",
       "        text-align: right;\n",
       "    }\n",
       "</style>\n",
       "<table border=\"1\" class=\"dataframe\">\n",
       "  <thead>\n",
       "    <tr style=\"text-align: right;\">\n",
       "      <th></th>\n",
       "      <th>Metric</th>\n",
       "      <th>Logistic Regression</th>\n",
       "      <th>SVC</th>\n",
       "      <th>Random Forest</th>\n",
       "    </tr>\n",
       "  </thead>\n",
       "  <tbody>\n",
       "    <tr>\n",
       "      <th>0</th>\n",
       "      <td>Precision</td>\n",
       "      <td>0.413436</td>\n",
       "      <td>0.657985</td>\n",
       "      <td>0.631410</td>\n",
       "    </tr>\n",
       "    <tr>\n",
       "      <th>1</th>\n",
       "      <td>Recall</td>\n",
       "      <td>0.424954</td>\n",
       "      <td>0.665042</td>\n",
       "      <td>0.650018</td>\n",
       "    </tr>\n",
       "    <tr>\n",
       "      <th>2</th>\n",
       "      <td>F1-Score</td>\n",
       "      <td>0.390212</td>\n",
       "      <td>0.648373</td>\n",
       "      <td>0.631204</td>\n",
       "    </tr>\n",
       "    <tr>\n",
       "      <th>3</th>\n",
       "      <td>Accuracy</td>\n",
       "      <td>0.414894</td>\n",
       "      <td>0.670213</td>\n",
       "      <td>0.691489</td>\n",
       "    </tr>\n",
       "  </tbody>\n",
       "</table>\n",
       "</div>"
      ],
      "text/plain": [
       "      Metric  Logistic Regression       SVC  Random Forest\n",
       "0  Precision             0.413436  0.657985       0.631410\n",
       "1     Recall             0.424954  0.665042       0.650018\n",
       "2   F1-Score             0.390212  0.648373       0.631204\n",
       "3   Accuracy             0.414894  0.670213       0.691489"
      ]
     },
     "execution_count": 54,
     "metadata": {},
     "output_type": "execute_result"
    }
   ],
   "source": [
    "result_report = {\n",
    "    'Metric': ['Precision', 'Recall', 'F1-Score', 'Accuracy'],\n",
    "    'Logistic Regression': [precision_log_reg_full.mean(), recall_log_reg_full.mean(), f1_score_log_reg_full.mean(), acc_log_reg_full],\n",
    "    'SVC': [precision_svc_full.mean(), recall_svc_full.mean(), f1_score_svc_full.mean(), acc_svc_full],\n",
    "    'Random Forest': [precision_rf_full.mean(), recall_rf_full.mean(), f1_score_rf_full.mean(), acc_rf_full]\n",
    "}\n",
    "\n",
    "result_report_df = pd.DataFrame(result_report)\n",
    "\n",
    "result_report_df"
   ]
  },
  {
   "cell_type": "code",
   "execution_count": 55,
   "metadata": {},
   "outputs": [
    {
     "data": {
      "text/html": [
       "<style type=\"text/css\">\n",
       "#T_23165_row0_col1 {\n",
       "  background-color: #4da64d;\n",
       "  color: #f1f1f1;\n",
       "}\n",
       "#T_23165_row0_col2 {\n",
       "  background-color: #84c084;\n",
       "  color: #000000;\n",
       "}\n",
       "#T_23165_row0_col3, #T_23165_row2_col1, #T_23165_row2_col2, #T_23165_row2_col3 {\n",
       "  background-color: #ebf3eb;\n",
       "  color: #000000;\n",
       "}\n",
       "#T_23165_row1_col1, #T_23165_row3_col2, #T_23165_row3_col3 {\n",
       "  background-color: #008000;\n",
       "  color: #f1f1f1;\n",
       "}\n",
       "#T_23165_row1_col2 {\n",
       "  background-color: #379b37;\n",
       "  color: #f1f1f1;\n",
       "}\n",
       "#T_23165_row1_col3 {\n",
       "  background-color: #a2cfa2;\n",
       "  color: #000000;\n",
       "}\n",
       "#T_23165_row3_col1 {\n",
       "  background-color: #44a144;\n",
       "  color: #f1f1f1;\n",
       "}\n",
       "</style>\n",
       "<table id=\"T_23165\">\n",
       "  <thead>\n",
       "    <tr>\n",
       "      <th class=\"blank level0\" >&nbsp;</th>\n",
       "      <th id=\"T_23165_level0_col0\" class=\"col_heading level0 col0\" >Metric</th>\n",
       "      <th id=\"T_23165_level0_col1\" class=\"col_heading level0 col1\" >Logistic Regression</th>\n",
       "      <th id=\"T_23165_level0_col2\" class=\"col_heading level0 col2\" >SVC</th>\n",
       "      <th id=\"T_23165_level0_col3\" class=\"col_heading level0 col3\" >Random Forest</th>\n",
       "    </tr>\n",
       "  </thead>\n",
       "  <tbody>\n",
       "    <tr>\n",
       "      <th id=\"T_23165_level0_row0\" class=\"row_heading level0 row0\" >0</th>\n",
       "      <td id=\"T_23165_row0_col0\" class=\"data row0 col0\" >Precision</td>\n",
       "      <td id=\"T_23165_row0_col1\" class=\"data row0 col1\" >0.413436</td>\n",
       "      <td id=\"T_23165_row0_col2\" class=\"data row0 col2\" >0.657985</td>\n",
       "      <td id=\"T_23165_row0_col3\" class=\"data row0 col3\" >0.631410</td>\n",
       "    </tr>\n",
       "    <tr>\n",
       "      <th id=\"T_23165_level0_row1\" class=\"row_heading level0 row1\" >1</th>\n",
       "      <td id=\"T_23165_row1_col0\" class=\"data row1 col0\" >Recall</td>\n",
       "      <td id=\"T_23165_row1_col1\" class=\"data row1 col1\" >0.424954</td>\n",
       "      <td id=\"T_23165_row1_col2\" class=\"data row1 col2\" >0.665042</td>\n",
       "      <td id=\"T_23165_row1_col3\" class=\"data row1 col3\" >0.650018</td>\n",
       "    </tr>\n",
       "    <tr>\n",
       "      <th id=\"T_23165_level0_row2\" class=\"row_heading level0 row2\" >2</th>\n",
       "      <td id=\"T_23165_row2_col0\" class=\"data row2 col0\" >F1-Score</td>\n",
       "      <td id=\"T_23165_row2_col1\" class=\"data row2 col1\" >0.390212</td>\n",
       "      <td id=\"T_23165_row2_col2\" class=\"data row2 col2\" >0.648373</td>\n",
       "      <td id=\"T_23165_row2_col3\" class=\"data row2 col3\" >0.631204</td>\n",
       "    </tr>\n",
       "    <tr>\n",
       "      <th id=\"T_23165_level0_row3\" class=\"row_heading level0 row3\" >3</th>\n",
       "      <td id=\"T_23165_row3_col0\" class=\"data row3 col0\" >Accuracy</td>\n",
       "      <td id=\"T_23165_row3_col1\" class=\"data row3 col1\" >0.414894</td>\n",
       "      <td id=\"T_23165_row3_col2\" class=\"data row3 col2\" >0.670213</td>\n",
       "      <td id=\"T_23165_row3_col3\" class=\"data row3 col3\" >0.691489</td>\n",
       "    </tr>\n",
       "  </tbody>\n",
       "</table>\n"
      ],
      "text/plain": [
       "<pandas.io.formats.style.Styler at 0x7fde99199b40>"
      ]
     },
     "execution_count": 55,
     "metadata": {},
     "output_type": "execute_result"
    }
   ],
   "source": [
    "colmap = sns.light_palette(\"green\", as_cmap=True)\n",
    "result_report_df.style.background_gradient(cmap = colmap)"
   ]
  },
  {
   "cell_type": "code",
   "execution_count": 56,
   "metadata": {},
   "outputs": [
    {
     "data": {
      "text/html": [
       "<div>\n",
       "<style scoped>\n",
       "    .dataframe tbody tr th:only-of-type {\n",
       "        vertical-align: middle;\n",
       "    }\n",
       "\n",
       "    .dataframe tbody tr th {\n",
       "        vertical-align: top;\n",
       "    }\n",
       "\n",
       "    .dataframe thead th {\n",
       "        text-align: right;\n",
       "    }\n",
       "</style>\n",
       "<table border=\"1\" class=\"dataframe\">\n",
       "  <thead>\n",
       "    <tr style=\"text-align: right;\">\n",
       "      <th></th>\n",
       "      <th>Metric</th>\n",
       "      <th>Logistic Regression</th>\n",
       "      <th>SVC</th>\n",
       "      <th>Random Forest</th>\n",
       "    </tr>\n",
       "    <tr>\n",
       "      <th>Metric Type</th>\n",
       "      <th></th>\n",
       "      <th></th>\n",
       "      <th></th>\n",
       "      <th></th>\n",
       "    </tr>\n",
       "  </thead>\n",
       "  <tbody>\n",
       "    <tr>\n",
       "      <th></th>\n",
       "      <td>Non-Event (0)</td>\n",
       "      <td>0.468085</td>\n",
       "      <td>0.684211</td>\n",
       "      <td>0.725000</td>\n",
       "    </tr>\n",
       "    <tr>\n",
       "      <th>Precision</th>\n",
       "      <td>SI (1)</td>\n",
       "      <td>0.222222</td>\n",
       "      <td>0.423077</td>\n",
       "      <td>0.400000</td>\n",
       "    </tr>\n",
       "    <tr>\n",
       "      <th></th>\n",
       "      <td>SSC (2)</td>\n",
       "      <td>0.550000</td>\n",
       "      <td>0.866667</td>\n",
       "      <td>0.769231</td>\n",
       "    </tr>\n",
       "    <tr>\n",
       "      <th></th>\n",
       "      <td>Non-Event (0)</td>\n",
       "      <td>0.733333</td>\n",
       "      <td>0.866667</td>\n",
       "      <td>0.966667</td>\n",
       "    </tr>\n",
       "    <tr>\n",
       "      <th>Recall</th>\n",
       "      <td>SI (1)</td>\n",
       "      <td>0.285714</td>\n",
       "      <td>0.523810</td>\n",
       "      <td>0.285714</td>\n",
       "    </tr>\n",
       "    <tr>\n",
       "      <th></th>\n",
       "      <td>SSC (2)</td>\n",
       "      <td>0.255814</td>\n",
       "      <td>0.604651</td>\n",
       "      <td>0.697674</td>\n",
       "    </tr>\n",
       "    <tr>\n",
       "      <th></th>\n",
       "      <td>Non-Event (0)</td>\n",
       "      <td>0.571429</td>\n",
       "      <td>0.764706</td>\n",
       "      <td>0.828571</td>\n",
       "    </tr>\n",
       "    <tr>\n",
       "      <th>F1-Score</th>\n",
       "      <td>SI (1)</td>\n",
       "      <td>0.250000</td>\n",
       "      <td>0.468085</td>\n",
       "      <td>0.333333</td>\n",
       "    </tr>\n",
       "    <tr>\n",
       "      <th></th>\n",
       "      <td>SSC (2)</td>\n",
       "      <td>0.349206</td>\n",
       "      <td>0.712329</td>\n",
       "      <td>0.731707</td>\n",
       "    </tr>\n",
       "  </tbody>\n",
       "</table>\n",
       "</div>"
      ],
      "text/plain": [
       "                    Metric  Logistic Regression       SVC  Random Forest\n",
       "Metric Type                                                             \n",
       "             Non-Event (0)             0.468085  0.684211       0.725000\n",
       "Precision           SI (1)             0.222222  0.423077       0.400000\n",
       "                   SSC (2)             0.550000  0.866667       0.769231\n",
       "             Non-Event (0)             0.733333  0.866667       0.966667\n",
       "Recall              SI (1)             0.285714  0.523810       0.285714\n",
       "                   SSC (2)             0.255814  0.604651       0.697674\n",
       "             Non-Event (0)             0.571429  0.764706       0.828571\n",
       "F1-Score            SI (1)             0.250000  0.468085       0.333333\n",
       "                   SSC (2)             0.349206  0.712329       0.731707"
      ]
     },
     "execution_count": 56,
     "metadata": {},
     "output_type": "execute_result"
    }
   ],
   "source": [
    "result_report = {\n",
    "    'Metric Type': ['', 'Precision', '', '', 'Recall', '', '', 'F1-Score', '' ],\n",
    "    'Metric': ['Non-Event (0)', 'SI (1)', 'SSC (2)', 'Non-Event (0)', 'SI (1)', 'SSC (2)', 'Non-Event (0)', 'SI (1)', 'SSC (2)'],\n",
    "    'Logistic Regression': np.concatenate((precision_log_reg_full, recall_log_reg_full, f1_score_log_reg_full)),\n",
    "    'SVC': np.concatenate((precision_svc_full, recall_svc_full, f1_score_svc_full)),\n",
    "    'Random Forest': np.concatenate((precision_rf_full, recall_rf_full, f1_score_rf_full))\n",
    "}\n",
    "\n",
    "result_report_df = pd.DataFrame(result_report)\n",
    "\n",
    "result_report_df.set_index('Metric Type')"
   ]
  },
  {
   "cell_type": "code",
   "execution_count": 57,
   "metadata": {},
   "outputs": [
    {
     "data": {
      "text/html": [
       "<style type=\"text/css\">\n",
       "#T_ac103_row0_col2 {\n",
       "  background-color: #79bc79;\n",
       "  color: #000000;\n",
       "}\n",
       "#T_ac103_row0_col3 {\n",
       "  background-color: #61af61;\n",
       "  color: #f1f1f1;\n",
       "}\n",
       "#T_ac103_row0_col4 {\n",
       "  background-color: #53a953;\n",
       "  color: #f1f1f1;\n",
       "}\n",
       "#T_ac103_row1_col2, #T_ac103_row1_col3, #T_ac103_row4_col4 {\n",
       "  background-color: #ebf3eb;\n",
       "  color: #000000;\n",
       "}\n",
       "#T_ac103_row1_col4 {\n",
       "  background-color: #c4e0c4;\n",
       "  color: #000000;\n",
       "}\n",
       "#T_ac103_row2_col2 {\n",
       "  background-color: #54a954;\n",
       "  color: #f1f1f1;\n",
       "}\n",
       "#T_ac103_row2_col3, #T_ac103_row3_col2, #T_ac103_row3_col3, #T_ac103_row3_col4 {\n",
       "  background-color: #008000;\n",
       "  color: #f1f1f1;\n",
       "}\n",
       "#T_ac103_row2_col4 {\n",
       "  background-color: #44a144;\n",
       "  color: #f1f1f1;\n",
       "}\n",
       "#T_ac103_row4_col2 {\n",
       "  background-color: #cee5ce;\n",
       "  color: #000000;\n",
       "}\n",
       "#T_ac103_row4_col3 {\n",
       "  background-color: #b5d9b5;\n",
       "  color: #000000;\n",
       "}\n",
       "#T_ac103_row5_col2 {\n",
       "  background-color: #dcecdc;\n",
       "  color: #000000;\n",
       "}\n",
       "#T_ac103_row5_col3 {\n",
       "  background-color: #8bc48b;\n",
       "  color: #000000;\n",
       "}\n",
       "#T_ac103_row5_col4 {\n",
       "  background-color: #5dae5d;\n",
       "  color: #f1f1f1;\n",
       "}\n",
       "#T_ac103_row6_col2 {\n",
       "  background-color: #4ba54a;\n",
       "  color: #f1f1f1;\n",
       "}\n",
       "#T_ac103_row6_col3 {\n",
       "  background-color: #359a35;\n",
       "  color: #f1f1f1;\n",
       "}\n",
       "#T_ac103_row6_col4 {\n",
       "  background-color: #2f972f;\n",
       "  color: #f1f1f1;\n",
       "}\n",
       "#T_ac103_row7_col2 {\n",
       "  background-color: #dfeddf;\n",
       "  color: #000000;\n",
       "}\n",
       "#T_ac103_row7_col3 {\n",
       "  background-color: #d4e8d4;\n",
       "  color: #000000;\n",
       "}\n",
       "#T_ac103_row7_col4 {\n",
       "  background-color: #dbebdb;\n",
       "  color: #000000;\n",
       "}\n",
       "#T_ac103_row8_col2 {\n",
       "  background-color: #b1d7b1;\n",
       "  color: #000000;\n",
       "}\n",
       "#T_ac103_row8_col3 {\n",
       "  background-color: #52a852;\n",
       "  color: #f1f1f1;\n",
       "}\n",
       "#T_ac103_row8_col4 {\n",
       "  background-color: #51a851;\n",
       "  color: #f1f1f1;\n",
       "}\n",
       "</style>\n",
       "<table id=\"T_ac103\">\n",
       "  <thead>\n",
       "    <tr>\n",
       "      <th class=\"blank level0\" >&nbsp;</th>\n",
       "      <th id=\"T_ac103_level0_col0\" class=\"col_heading level0 col0\" >Metric Type</th>\n",
       "      <th id=\"T_ac103_level0_col1\" class=\"col_heading level0 col1\" >Metric</th>\n",
       "      <th id=\"T_ac103_level0_col2\" class=\"col_heading level0 col2\" >Logistic Regression</th>\n",
       "      <th id=\"T_ac103_level0_col3\" class=\"col_heading level0 col3\" >SVC</th>\n",
       "      <th id=\"T_ac103_level0_col4\" class=\"col_heading level0 col4\" >Random Forest</th>\n",
       "    </tr>\n",
       "  </thead>\n",
       "  <tbody>\n",
       "    <tr>\n",
       "      <th id=\"T_ac103_level0_row0\" class=\"row_heading level0 row0\" >0</th>\n",
       "      <td id=\"T_ac103_row0_col0\" class=\"data row0 col0\" ></td>\n",
       "      <td id=\"T_ac103_row0_col1\" class=\"data row0 col1\" >Non-Event (0)</td>\n",
       "      <td id=\"T_ac103_row0_col2\" class=\"data row0 col2\" >0.468085</td>\n",
       "      <td id=\"T_ac103_row0_col3\" class=\"data row0 col3\" >0.684211</td>\n",
       "      <td id=\"T_ac103_row0_col4\" class=\"data row0 col4\" >0.725000</td>\n",
       "    </tr>\n",
       "    <tr>\n",
       "      <th id=\"T_ac103_level0_row1\" class=\"row_heading level0 row1\" >1</th>\n",
       "      <td id=\"T_ac103_row1_col0\" class=\"data row1 col0\" >Precision</td>\n",
       "      <td id=\"T_ac103_row1_col1\" class=\"data row1 col1\" >SI (1)</td>\n",
       "      <td id=\"T_ac103_row1_col2\" class=\"data row1 col2\" >0.222222</td>\n",
       "      <td id=\"T_ac103_row1_col3\" class=\"data row1 col3\" >0.423077</td>\n",
       "      <td id=\"T_ac103_row1_col4\" class=\"data row1 col4\" >0.400000</td>\n",
       "    </tr>\n",
       "    <tr>\n",
       "      <th id=\"T_ac103_level0_row2\" class=\"row_heading level0 row2\" >2</th>\n",
       "      <td id=\"T_ac103_row2_col0\" class=\"data row2 col0\" ></td>\n",
       "      <td id=\"T_ac103_row2_col1\" class=\"data row2 col1\" >SSC (2)</td>\n",
       "      <td id=\"T_ac103_row2_col2\" class=\"data row2 col2\" >0.550000</td>\n",
       "      <td id=\"T_ac103_row2_col3\" class=\"data row2 col3\" >0.866667</td>\n",
       "      <td id=\"T_ac103_row2_col4\" class=\"data row2 col4\" >0.769231</td>\n",
       "    </tr>\n",
       "    <tr>\n",
       "      <th id=\"T_ac103_level0_row3\" class=\"row_heading level0 row3\" >3</th>\n",
       "      <td id=\"T_ac103_row3_col0\" class=\"data row3 col0\" ></td>\n",
       "      <td id=\"T_ac103_row3_col1\" class=\"data row3 col1\" >Non-Event (0)</td>\n",
       "      <td id=\"T_ac103_row3_col2\" class=\"data row3 col2\" >0.733333</td>\n",
       "      <td id=\"T_ac103_row3_col3\" class=\"data row3 col3\" >0.866667</td>\n",
       "      <td id=\"T_ac103_row3_col4\" class=\"data row3 col4\" >0.966667</td>\n",
       "    </tr>\n",
       "    <tr>\n",
       "      <th id=\"T_ac103_level0_row4\" class=\"row_heading level0 row4\" >4</th>\n",
       "      <td id=\"T_ac103_row4_col0\" class=\"data row4 col0\" >Recall</td>\n",
       "      <td id=\"T_ac103_row4_col1\" class=\"data row4 col1\" >SI (1)</td>\n",
       "      <td id=\"T_ac103_row4_col2\" class=\"data row4 col2\" >0.285714</td>\n",
       "      <td id=\"T_ac103_row4_col3\" class=\"data row4 col3\" >0.523810</td>\n",
       "      <td id=\"T_ac103_row4_col4\" class=\"data row4 col4\" >0.285714</td>\n",
       "    </tr>\n",
       "    <tr>\n",
       "      <th id=\"T_ac103_level0_row5\" class=\"row_heading level0 row5\" >5</th>\n",
       "      <td id=\"T_ac103_row5_col0\" class=\"data row5 col0\" ></td>\n",
       "      <td id=\"T_ac103_row5_col1\" class=\"data row5 col1\" >SSC (2)</td>\n",
       "      <td id=\"T_ac103_row5_col2\" class=\"data row5 col2\" >0.255814</td>\n",
       "      <td id=\"T_ac103_row5_col3\" class=\"data row5 col3\" >0.604651</td>\n",
       "      <td id=\"T_ac103_row5_col4\" class=\"data row5 col4\" >0.697674</td>\n",
       "    </tr>\n",
       "    <tr>\n",
       "      <th id=\"T_ac103_level0_row6\" class=\"row_heading level0 row6\" >6</th>\n",
       "      <td id=\"T_ac103_row6_col0\" class=\"data row6 col0\" ></td>\n",
       "      <td id=\"T_ac103_row6_col1\" class=\"data row6 col1\" >Non-Event (0)</td>\n",
       "      <td id=\"T_ac103_row6_col2\" class=\"data row6 col2\" >0.571429</td>\n",
       "      <td id=\"T_ac103_row6_col3\" class=\"data row6 col3\" >0.764706</td>\n",
       "      <td id=\"T_ac103_row6_col4\" class=\"data row6 col4\" >0.828571</td>\n",
       "    </tr>\n",
       "    <tr>\n",
       "      <th id=\"T_ac103_level0_row7\" class=\"row_heading level0 row7\" >7</th>\n",
       "      <td id=\"T_ac103_row7_col0\" class=\"data row7 col0\" >F1-Score</td>\n",
       "      <td id=\"T_ac103_row7_col1\" class=\"data row7 col1\" >SI (1)</td>\n",
       "      <td id=\"T_ac103_row7_col2\" class=\"data row7 col2\" >0.250000</td>\n",
       "      <td id=\"T_ac103_row7_col3\" class=\"data row7 col3\" >0.468085</td>\n",
       "      <td id=\"T_ac103_row7_col4\" class=\"data row7 col4\" >0.333333</td>\n",
       "    </tr>\n",
       "    <tr>\n",
       "      <th id=\"T_ac103_level0_row8\" class=\"row_heading level0 row8\" >8</th>\n",
       "      <td id=\"T_ac103_row8_col0\" class=\"data row8 col0\" ></td>\n",
       "      <td id=\"T_ac103_row8_col1\" class=\"data row8 col1\" >SSC (2)</td>\n",
       "      <td id=\"T_ac103_row8_col2\" class=\"data row8 col2\" >0.349206</td>\n",
       "      <td id=\"T_ac103_row8_col3\" class=\"data row8 col3\" >0.712329</td>\n",
       "      <td id=\"T_ac103_row8_col4\" class=\"data row8 col4\" >0.731707</td>\n",
       "    </tr>\n",
       "  </tbody>\n",
       "</table>\n"
      ],
      "text/plain": [
       "<pandas.io.formats.style.Styler at 0x7fdd750d4040>"
      ]
     },
     "execution_count": 57,
     "metadata": {},
     "output_type": "execute_result"
    }
   ],
   "source": [
    "result_report_df.style.background_gradient(cmap = colmap)"
   ]
  }
 ],
 "metadata": {
  "kernelspec": {
   "display_name": ".venv",
   "language": "python",
   "name": "python3"
  },
  "language_info": {
   "codemirror_mode": {
    "name": "ipython",
    "version": 3
   },
   "file_extension": ".py",
   "mimetype": "text/x-python",
   "name": "python",
   "nbconvert_exporter": "python",
   "pygments_lexer": "ipython3",
   "version": "3.10.12"
  }
 },
 "nbformat": 4,
 "nbformat_minor": 2
}
