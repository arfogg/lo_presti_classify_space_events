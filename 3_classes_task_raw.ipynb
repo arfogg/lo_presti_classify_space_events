{
 "cells": [
  {
   "cell_type": "markdown",
   "metadata": {},
   "source": [
    "### Multiclass task (non-event vs. SI vs. SSC) on original sequences\n",
    "1. Balance classes: undersample non-events, retaining only as many samples as the majority class between SI and SSC (namely SSC); oversample the minority class by applying SMOTE on the training set.\n",
    "2. Train multi-class classifiers, perform 10 folds cross-validation, and evaluate performances of different classifiers."
   ]
  },
  {
   "cell_type": "code",
   "execution_count": 1,
   "metadata": {},
   "outputs": [],
   "source": [
    "import pandas as pd\n",
    "import os\n",
    "import random \n",
    "import numpy as np\n",
    "from collections import Counter\n",
    "import matplotlib.pyplot as plt\n",
    "plt.style.use('ggplot')\n",
    "import seaborn as sns\n",
    "from sklearn.ensemble import RandomForestClassifier\n",
    "from sklearn.decomposition import PCA\n",
    "from classification_utils import fill_NaN, get_logistic_model, train_logistic_model\n",
    "from sklearn.model_selection import train_test_split\n",
    "from sklearn.metrics import confusion_matrix\n",
    "from sklearn.metrics import precision_score, recall_score, f1_score\n",
    "from sklearn.metrics import accuracy_score, classification_report, precision_recall_fscore_support\n",
    "from imblearn.over_sampling import SMOTE, SVMSMOTE\n",
    "from sklearn.model_selection import KFold\n",
    "from sklearn.svm import SVC\n",
    "from sklearn.model_selection import RepeatedKFold, StratifiedKFold, GridSearchCV\n",
    "from sklearn.utils import shuffle\n",
    "import torch\n",
    "import warnings\n",
    "warnings.filterwarnings('ignore')\n",
    "\n",
    "np.random.seed(2)\n",
    "random.seed(2)\n",
    "torch.manual_seed(2)\n",
    "torch.cuda.manual_seed_all(2)"
   ]
  },
  {
   "cell_type": "markdown",
   "metadata": {},
   "source": [
    "#### Paths"
   ]
  },
  {
   "cell_type": "code",
   "execution_count": 2,
   "metadata": {},
   "outputs": [],
   "source": [
    "ssc_path = 'labelled_data/SSC/'\n",
    "si_path = 'labelled_data/SI/'\n",
    "non_event_path = 'labelled_data/before_event/'\n",
    "multiclass_sample = 'labelled_data/multiclass_sample_SMOTE.txt'"
   ]
  },
  {
   "cell_type": "markdown",
   "metadata": {},
   "source": [
    "### Classification using Raw Data & SMOTE to balance classes"
   ]
  },
  {
   "cell_type": "markdown",
   "metadata": {},
   "source": [
    "#### Get data"
   ]
  },
  {
   "cell_type": "markdown",
   "metadata": {},
   "source": [
    "use always same sample for reproducibility"
   ]
  },
  {
   "cell_type": "code",
   "execution_count": 3,
   "metadata": {},
   "outputs": [
    {
     "name": "stdout",
     "output_type": "stream",
     "text": [
      "Counter({'SSC': 120, 'before_event': 120, 'SI': 73})\n"
     ]
    }
   ],
   "source": [
    "if os.path.exists(multiclass_sample):\n",
    "    # if I already extracted a sample, read it\n",
    "    all_seq_data_files = []\n",
    "    with open(multiclass_sample, 'r') as file:\n",
    "        for line in file:\n",
    "            all_seq_data_files.append(line.strip())\n",
    "    print( Counter([all_seq_data_files[i].split('/')[1] for i in range(len(all_seq_data_files))]) )\n",
    "\n",
    "    si_files, ssc_files, random_non_ev_files = [], [], []\n",
    "    for path in all_seq_data_files:\n",
    "        if path.split('/')[1] == 'SI':\n",
    "            si_files.append(path)\n",
    "        elif path.split('/')[1] == 'SSC':\n",
    "            ssc_files.append(path)\n",
    "        elif path.split('/')[1] == 'before_event':\n",
    "            random_non_ev_files.append(path)\n",
    "        else:\n",
    "            raise ValueError('File not belonging to any class!')\n",
    "else:\n",
    "\n",
    "    # get all data files paths\n",
    "    # use all SI and all SSC, and a sample of non-events \n",
    "    si_files = [si_path + item for item in os.listdir(si_path)] \n",
    "    ssc_files = [ssc_path + item for item in os.listdir(ssc_path)] \n",
    "    non_ev_files = [non_event_path + item for item in os.listdir(non_event_path)]\n",
    "\n",
    "    print('SI: {}, SSC: {}'.format(len(si_files), len(ssc_files)))\n",
    "\n",
    "    # number of non-event to random sample (take as many non-events as the majority class between SSC & SI)\n",
    "    sample_non_ev = np.max([len(si_files), len(ssc_files)])\n",
    "    print('Non-events: {}'.format(sample_non_ev))\n",
    "\n",
    "    # SAMPLE NON-EVENT\n",
    "    random_non_ev_files = random.sample(non_ev_files, sample_non_ev)\n",
    "    all_seq_data_files = si_files + ssc_files + random_non_ev_files\n",
    "\n",
    "    # save sampled used to use always the same in the following trials\n",
    "    with open(multiclass_sample, 'w') as file:\n",
    "        for string in all_seq_data_files:\n",
    "            file.write(string + '\\n')"
   ]
  },
  {
   "cell_type": "code",
   "execution_count": 4,
   "metadata": {},
   "outputs": [],
   "source": [
    "# initialize 2D tensors (each row is a different sequence)\n",
    "T = 20*60 + 1 \n",
    "seq_si = torch.zeros(len(si_files), T, dtype=torch.float32)\n",
    "seq_ssc = torch.zeros(len(ssc_files), T, dtype=torch.float32)\n",
    "seq_ne = torch.zeros(len(random_non_ev_files), T, dtype=torch.float32)\n",
    "\n",
    "lab_dict = {'SSC':seq_ssc, 'SI':seq_si, 'before_event':seq_ne} # which tensor to update based on class\n",
    "\n",
    "filling_method = 'linear_interpolation' \n",
    "\n",
    "indx_to_update = {'SSC':0, 'SI':0, 'before_event':0} # index of seq to update in each tensor \n",
    "for e in all_seq_data_files:\n",
    "    # get sequence\n",
    "    df = pd.read_csv(e)\n",
    "    seq = df.sort_values(by=['Date_UTC' if 'Date_UTC' in df.columns else 'Unnamed: 0']).dbn_nez\n",
    "\n",
    "    # get right tensor to fill\n",
    "    sequences_class_x = lab_dict[e.split('/')[1]]\n",
    "    \n",
    "    # deal with NaN\n",
    "    seq_filled = fill_NaN(seq, filling_method)\n",
    "\n",
    "    # convert from np array to pytorch tensor\n",
    "    seq_filled = torch.from_numpy(seq_filled)\n",
    "\n",
    "    # compute columns from which to start filling\n",
    "    starting_col_index = (T - seq_filled.numel()) // 2\n",
    "\n",
    "    # add data to sequences tensor\n",
    "    i = indx_to_update[e.split('/')[1]]\n",
    "    sequences_class_x[i,starting_col_index:starting_col_index + seq_filled.numel()] = seq_filled\n",
    "\n",
    "    # update counter (next row)\n",
    "    indx_to_update[e.split('/')[1]] += 1"
   ]
  },
  {
   "cell_type": "code",
   "execution_count": 5,
   "metadata": {},
   "outputs": [
    {
     "data": {
      "text/plain": [
       "(120, 73, 120)"
      ]
     },
     "execution_count": 5,
     "metadata": {},
     "output_type": "execute_result"
    }
   ],
   "source": [
    "len(seq_ne), len(seq_si), len(seq_ssc)"
   ]
  },
  {
   "cell_type": "code",
   "execution_count": 6,
   "metadata": {},
   "outputs": [],
   "source": [
    "# concat tensors and labels\n",
    "all_seqs = torch.cat([seq_si, seq_ssc, seq_ne], dim=0).numpy()  \n",
    "ys = len(seq_si)*['SI'] + len(seq_ssc)*['SSC'] + len(seq_ne)*['non-event']\n",
    "\n",
    "# to tensor\n",
    "seqs = torch.from_numpy(all_seqs)\n",
    "\n",
    "# labels to tensor + map classes to int\n",
    "# replace str with int code\n",
    "lab_to_int = {'non-event': 0, 'SI': 1, 'SSC': 2}\n",
    "y = list(map(lambda x: lab_to_int[x], ys))\n",
    "# to tensor\n",
    "y = torch.tensor(y)"
   ]
  },
  {
   "cell_type": "markdown",
   "metadata": {},
   "source": [
    "#### Split Train/Test sets"
   ]
  },
  {
   "cell_type": "code",
   "execution_count": 7,
   "metadata": {},
   "outputs": [],
   "source": [
    "# split train and test set\n",
    "X_train, X_test, y_train, y_test = train_test_split(seqs, y, test_size=0.3, shuffle=True, random_state=2)"
   ]
  },
  {
   "cell_type": "code",
   "execution_count": 8,
   "metadata": {},
   "outputs": [
    {
     "data": {
      "text/plain": [
       "(torch.Size([313, 1201]), torch.Size([219, 1201]), torch.Size([94, 1201]))"
      ]
     },
     "execution_count": 8,
     "metadata": {},
     "output_type": "execute_result"
    }
   ],
   "source": [
    "np.shape(seqs), np.shape(X_train), np.shape(X_test)"
   ]
  },
  {
   "cell_type": "markdown",
   "metadata": {},
   "source": [
    "#### Create synthetic sequences using SMOTE\n",
    "Picked as many non-events as the majority class between SSC and SI (aka SSC);\n",
    "use SMOTE (oversampling) to balance the classes.\n",
    "\n",
    "**NOTE**: apply SMOTE only on train set (test set should contain only real sequences)."
   ]
  },
  {
   "cell_type": "code",
   "execution_count": 9,
   "metadata": {},
   "outputs": [],
   "source": [
    "# SMOTE\n",
    "smote = SMOTE(k_neighbors=20, random_state=2)\n",
    "X_train_resampled_np, y_train_resampled_np = smote.fit_resample(X_train, y_train)\n",
    "\n",
    "# to tensor\n",
    "X_train_resampled, y_train_resampled = torch.tensor(X_train_resampled_np), torch.tensor(y_train_resampled_np)"
   ]
  },
  {
   "cell_type": "code",
   "execution_count": 10,
   "metadata": {},
   "outputs": [],
   "source": [
    "# shuffle so that synthetic sequences are not all the end\n",
    "X_train_resampled, y_train_resampled = shuffle(X_train_resampled, y_train_resampled, random_state=2)"
   ]
  },
  {
   "cell_type": "code",
   "execution_count": 11,
   "metadata": {},
   "outputs": [
    {
     "data": {
      "text/plain": [
       "Counter({0: 90, 2: 90, 1: 90})"
      ]
     },
     "execution_count": 11,
     "metadata": {},
     "output_type": "execute_result"
    }
   ],
   "source": [
    "Counter(y_train_resampled_np)"
   ]
  },
  {
   "cell_type": "markdown",
   "metadata": {},
   "source": [
    "#### Standardize data using training mean and variance"
   ]
  },
  {
   "cell_type": "code",
   "execution_count": 12,
   "metadata": {},
   "outputs": [],
   "source": [
    "mu_train = X_train_resampled.mean(dim=0)\n",
    "std_train = X_train_resampled.std(dim=0)\n",
    "\n",
    "Sx_train = (X_train_resampled - mu_train) / std_train\n",
    "Sx_test = (X_test - mu_train) / std_train"
   ]
  },
  {
   "cell_type": "markdown",
   "metadata": {},
   "source": [
    "__________"
   ]
  },
  {
   "cell_type": "markdown",
   "metadata": {},
   "source": [
    "#### Visualization"
   ]
  },
  {
   "cell_type": "code",
   "execution_count": 13,
   "metadata": {},
   "outputs": [],
   "source": [
    "timestep_event = Sx_train[:,T//2 + 1 -1] # 10*60 + 1 = event timestamp\n",
    "timestep_last = Sx_train[:,T -1] # 10*60 + 1 + 10*60 = last timestamp\n",
    "timestep_middle_event = Sx_train[:,int(T//2 + 1 + ((T//2) / 2) -1)] # middle pt between event timestamp and end window"
   ]
  },
  {
   "cell_type": "code",
   "execution_count": 14,
   "metadata": {},
   "outputs": [],
   "source": [
    "feats_df = pd.DataFrame({'timestep_event':timestep_event, 'timestep_middle_event':timestep_middle_event, 'timestep_last':timestep_last, \n",
    "                         'label':y_train_resampled})"
   ]
  },
  {
   "cell_type": "code",
   "execution_count": 15,
   "metadata": {},
   "outputs": [
    {
     "data": {
      "image/png": "[encoded data removed]",
      "text/plain": [
       "<Figure size 640x480 with 1 Axes>"
      ]
     },
     "metadata": {},
     "output_type": "display_data"
    }
   ],
   "source": [
    "plt.scatter(feats_df['timestep_event'], feats_df['timestep_last'], c=feats_df['label'].map({2: 'red', 1: 'red', 0: 'blue'}))\n",
    "\n",
    "plt.xlabel('Event Timestep')\n",
    "plt.ylabel('Last Timestep')\n",
    "plt.legend(handles=[plt.Line2D([0], [0], marker='o', color='w', label='2', markerfacecolor='red', markersize=10),\n",
    "                    plt.Line2D([0], [0], marker='o', color='w', label='1', markerfacecolor='red', markersize=10),\n",
    "                    plt.Line2D([0], [0], marker='o', color='w', label='0', markerfacecolor='blue', markersize=10)])\n",
    "\n",
    "plt.title('events vs non-events')\n",
    "plt.show()"
   ]
  },
  {
   "cell_type": "code",
   "execution_count": 16,
   "metadata": {},
   "outputs": [
    {
     "data": {
      "image/png": "[encoded data removed]",
      "text/plain": [
       "<Figure size 640x480 with 1 Axes>"
      ]
     },
     "metadata": {},
     "output_type": "display_data"
    }
   ],
   "source": [
    "plt.scatter(feats_df['timestep_event'], feats_df['timestep_last'], c=feats_df['label'].map({2: 'green', 1: 'red', 0: 'blue'}))\n",
    "\n",
    "plt.xlabel(r'$B_N$ at event onset')\n",
    "plt.ylabel(r'$B_N$ at event end')\n",
    "plt.legend(handles=[plt.Line2D([0], [0], marker='o', color='w', label='2', markerfacecolor='green', markersize=10),\n",
    "                    plt.Line2D([0], [0], marker='o', color='w', label='1', markerfacecolor='red', markersize=10),\n",
    "                    plt.Line2D([0], [0], marker='o', color='w', label='0', markerfacecolor='blue', markersize=10)])\n",
    "\n",
    "plt.title(r'$B_N$ Intensity Comparison: Beginning vs. End') # SSC (2) va SI (1) vs non-event (0)\n",
    "plt.show()"
   ]
  },
  {
   "cell_type": "code",
   "execution_count": 17,
   "metadata": {},
   "outputs": [
    {
     "data": {
      "image/png": "[encoded data removed]",
      "text/plain": [
       "<Figure size 640x480 with 1 Axes>"
      ]
     },
     "metadata": {},
     "output_type": "display_data"
    }
   ],
   "source": [
    "# columns\n",
    "feat_discriminante = 'timestep_event'\n",
    "feat_y = 'timestep_middle_event' \n",
    "feat_z = 'timestep_last' \n",
    "label = 'label'\n",
    "\n",
    "\n",
    "# 3D plot\n",
    "fig = plt.figure()\n",
    "ax = fig.add_subplot(111, projection='3d')\n",
    "\n",
    "colors = {2: 'green', 1: 'red', 0: 'blue'}\n",
    "\n",
    "for label_name, label_color in colors.items():\n",
    "    subset = feats_df[feats_df[label] == label_name]\n",
    "    ax.scatter(subset[feat_discriminante], subset[feat_y], subset[feat_z], c=label_color, label=label_name)\n",
    "\n",
    "ax.set_xlabel(feat_discriminante)\n",
    "ax.set_ylabel(feat_y)\n",
    "ax.set_zlabel(feat_z)\n",
    "\n",
    "ax.legend()\n",
    "\n",
    "plt.show()\n"
   ]
  },
  {
   "cell_type": "markdown",
   "metadata": {},
   "source": [
    "#### PCA"
   ]
  },
  {
   "cell_type": "code",
   "execution_count": 18,
   "metadata": {},
   "outputs": [
    {
     "name": "stdout",
     "output_type": "stream",
     "text": [
      "Explained variation per principal component: [0.70778733 0.15886378 0.05939176 0.03066458 0.01328978 0.01060366\n",
      " 0.00531437 0.00457897 0.00214467 0.001751  ]\n"
     ]
    },
    {
     "data": {
      "image/png": "[encoded data removed]",
      "text/plain": [
       "<Figure size 1000x500 with 1 Axes>"
      ]
     },
     "metadata": {},
     "output_type": "display_data"
    }
   ],
   "source": [
    "Sc_all_df = pd.DataFrame(Sx_train)\n",
    "\n",
    "# PCA \n",
    "num_pc = 10\n",
    "pca = PCA(n_components=num_pc) \n",
    "pca_result = pca.fit_transform(Sc_all_df) \n",
    "\n",
    "# put PC in feats_df \n",
    "feats = pd.DataFrame({})\n",
    "feats['pca-one'] = pca_result[:,0]\n",
    "feats['pca-two'] = pca_result[:,1] \n",
    "feats['pca-three'] = pca_result[:,2]\n",
    "\n",
    "print('Explained variation per principal component: {}'.format(pca.explained_variance_ratio_))\n",
    "\n",
    "# plot scatterplot of first PC on x axis and second PC on y axis\n",
    "plt.figure(figsize=(10,5))\n",
    "sns.scatterplot( \n",
    "    x='pca-one', \n",
    "    y='pca-two',\n",
    "    hue=y_train_resampled, \n",
    "    palette=sns.color_palette('Set1', 3),\n",
    "    data=feats,\n",
    "    legend='full')\n",
    "plt.show()"
   ]
  },
  {
   "cell_type": "markdown",
   "metadata": {},
   "source": [
    "______"
   ]
  },
  {
   "cell_type": "markdown",
   "metadata": {},
   "source": [
    "### Classification"
   ]
  },
  {
   "cell_type": "markdown",
   "metadata": {},
   "source": [
    "#### Logistic Regression with 10-folds cross validation"
   ]
  },
  {
   "cell_type": "code",
   "execution_count": 19,
   "metadata": {},
   "outputs": [
    {
     "name": "stdout",
     "output_type": "stream",
     "text": [
      "\n",
      "Fold 1/10:\n",
      "Training:\n",
      "Epoch 0, average loss = 1.330, accuracy = 0.374\n",
      "Epoch 1, average loss = 1.260, accuracy = 0.416\n",
      "Epoch 2, average loss = 1.171, accuracy = 0.300\n",
      "Epoch 3, average loss = 1.082, accuracy = 0.473\n",
      "Epoch 4, average loss = 1.057, accuracy = 0.580\n",
      "Epoch 5, average loss = 1.051, accuracy = 0.477\n",
      "Epoch 6, average loss = 1.031, accuracy = 0.584\n",
      "Epoch 7, average loss = 1.038, accuracy = 0.494\n",
      "Epoch 8, average loss = 1.020, accuracy = 0.605\n",
      "Epoch 9, average loss = 1.029, accuracy = 0.506\n",
      "\n",
      "Validation:\n",
      "Validation, average loss = 1.029, accuracy = 0.481\n",
      "\n",
      "Fold 2/10:\n",
      "Training:\n",
      "Epoch 0, average loss = 1.187, accuracy = 0.469\n",
      "Epoch 1, average loss = 1.201, accuracy = 0.379\n",
      "Epoch 2, average loss = 1.153, accuracy = 0.519\n",
      "Epoch 3, average loss = 1.068, accuracy = 0.457\n",
      "Epoch 4, average loss = 1.030, accuracy = 0.568\n",
      "Epoch 5, average loss = 1.010, accuracy = 0.556\n",
      "Epoch 6, average loss = 0.997, accuracy = 0.547\n",
      "Epoch 7, average loss = 0.983, accuracy = 0.560\n",
      "Epoch 8, average loss = 0.984, accuracy = 0.572\n",
      "Epoch 9, average loss = 0.967, accuracy = 0.588\n",
      "\n",
      "Validation:\n",
      "Validation, average loss = 1.055, accuracy = 0.481\n",
      "\n",
      "Fold 3/10:\n",
      "Training:\n",
      "Epoch 0, average loss = 1.360, accuracy = 0.469\n",
      "Epoch 1, average loss = 1.158, accuracy = 0.374\n",
      "Epoch 2, average loss = 1.089, accuracy = 0.523\n",
      "Epoch 3, average loss = 1.039, accuracy = 0.498\n",
      "Epoch 4, average loss = 1.027, accuracy = 0.510\n",
      "Epoch 5, average loss = 1.014, accuracy = 0.572\n",
      "Epoch 6, average loss = 1.010, accuracy = 0.539\n",
      "Epoch 7, average loss = 1.002, accuracy = 0.605\n",
      "Epoch 8, average loss = 1.006, accuracy = 0.551\n",
      "Epoch 9, average loss = 1.000, accuracy = 0.613\n",
      "\n",
      "Validation:\n",
      "Validation, average loss = 1.088, accuracy = 0.593\n",
      "\n",
      "Fold 4/10:\n",
      "Training:\n",
      "Epoch 0, average loss = 1.178, accuracy = 0.333\n",
      "Epoch 1, average loss = 1.120, accuracy = 0.490\n",
      "Epoch 2, average loss = 1.096, accuracy = 0.580\n",
      "Epoch 3, average loss = 1.057, accuracy = 0.457\n",
      "Epoch 4, average loss = 1.038, accuracy = 0.605\n",
      "Epoch 5, average loss = 1.036, accuracy = 0.519\n",
      "Epoch 6, average loss = 1.016, accuracy = 0.617\n",
      "Epoch 7, average loss = 1.021, accuracy = 0.547\n",
      "Epoch 8, average loss = 1.002, accuracy = 0.621\n",
      "Epoch 9, average loss = 1.008, accuracy = 0.564\n",
      "\n",
      "Validation:\n",
      "Validation, average loss = 1.230, accuracy = 0.519\n",
      "\n",
      "Fold 5/10:\n",
      "Training:\n",
      "Epoch 0, average loss = 1.122, accuracy = 0.490\n",
      "Epoch 1, average loss = 1.141, accuracy = 0.412\n",
      "Epoch 2, average loss = 1.108, accuracy = 0.514\n",
      "Epoch 3, average loss = 1.123, accuracy = 0.420\n",
      "Epoch 4, average loss = 1.069, accuracy = 0.539\n",
      "Epoch 5, average loss = 1.057, accuracy = 0.469\n",
      "Epoch 6, average loss = 1.003, accuracy = 0.572\n",
      "Epoch 7, average loss = 1.004, accuracy = 0.527\n",
      "Epoch 8, average loss = 0.980, accuracy = 0.601\n",
      "Epoch 9, average loss = 0.987, accuracy = 0.543\n",
      "\n",
      "Validation:\n",
      "Validation, average loss = 1.115, accuracy = 0.481\n",
      "\n",
      "Fold 6/10:\n",
      "Training:\n",
      "Epoch 0, average loss = 1.195, accuracy = 0.383\n",
      "Epoch 1, average loss = 1.112, accuracy = 0.494\n",
      "Epoch 2, average loss = 1.131, accuracy = 0.374\n",
      "Epoch 3, average loss = 1.059, accuracy = 0.519\n",
      "Epoch 4, average loss = 1.043, accuracy = 0.449\n",
      "Epoch 5, average loss = 1.000, accuracy = 0.556\n",
      "Epoch 6, average loss = 0.992, accuracy = 0.564\n",
      "Epoch 7, average loss = 0.978, accuracy = 0.609\n",
      "Epoch 8, average loss = 0.973, accuracy = 0.613\n",
      "Epoch 9, average loss = 0.964, accuracy = 0.621\n",
      "\n",
      "Validation:\n",
      "Validation, average loss = 1.003, accuracy = 0.593\n",
      "\n",
      "Fold 7/10:\n",
      "Training:\n",
      "Epoch 0, average loss = 1.208, accuracy = 0.387\n",
      "Epoch 1, average loss = 1.116, accuracy = 0.379\n",
      "Epoch 2, average loss = 1.097, accuracy = 0.428\n",
      "Epoch 3, average loss = 1.040, accuracy = 0.519\n",
      "Epoch 4, average loss = 1.047, accuracy = 0.539\n",
      "Epoch 5, average loss = 1.017, accuracy = 0.576\n",
      "Epoch 6, average loss = 1.014, accuracy = 0.601\n",
      "Epoch 7, average loss = 0.999, accuracy = 0.601\n",
      "Epoch 8, average loss = 0.996, accuracy = 0.605\n",
      "Epoch 9, average loss = 0.987, accuracy = 0.621\n",
      "\n",
      "Validation:\n",
      "Validation, average loss = 0.998, accuracy = 0.630\n",
      "\n",
      "Fold 8/10:\n",
      "Training:\n",
      "Epoch 0, average loss = 1.192, accuracy = 0.428\n",
      "Epoch 1, average loss = 1.156, accuracy = 0.362\n",
      "Epoch 2, average loss = 1.133, accuracy = 0.461\n",
      "Epoch 3, average loss = 1.070, accuracy = 0.395\n",
      "Epoch 4, average loss = 1.049, accuracy = 0.514\n",
      "Epoch 5, average loss = 1.005, accuracy = 0.490\n",
      "Epoch 6, average loss = 0.998, accuracy = 0.593\n",
      "Epoch 7, average loss = 0.979, accuracy = 0.605\n",
      "Epoch 8, average loss = 0.978, accuracy = 0.634\n",
      "Epoch 9, average loss = 0.966, accuracy = 0.601\n",
      "\n",
      "Validation:\n",
      "Validation, average loss = 1.051, accuracy = 0.407\n",
      "\n",
      "Fold 9/10:\n",
      "Training:\n",
      "Epoch 0, average loss = 1.302, accuracy = 0.428\n",
      "Epoch 1, average loss = 1.225, accuracy = 0.403\n",
      "Epoch 2, average loss = 1.121, accuracy = 0.465\n",
      "Epoch 3, average loss = 1.067, accuracy = 0.510\n",
      "Epoch 4, average loss = 1.035, accuracy = 0.498\n",
      "Epoch 5, average loss = 1.017, accuracy = 0.597\n",
      "Epoch 6, average loss = 1.006, accuracy = 0.535\n",
      "Epoch 7, average loss = 0.993, accuracy = 0.580\n",
      "Epoch 8, average loss = 0.989, accuracy = 0.576\n",
      "Epoch 9, average loss = 0.980, accuracy = 0.593\n",
      "\n",
      "Validation:\n",
      "Validation, average loss = 1.116, accuracy = 0.481\n",
      "\n",
      "Fold 10/10:\n",
      "Training:\n",
      "Epoch 0, average loss = 1.270, accuracy = 0.358\n",
      "Epoch 1, average loss = 1.143, accuracy = 0.420\n",
      "Epoch 2, average loss = 1.062, accuracy = 0.519\n",
      "Epoch 3, average loss = 1.030, accuracy = 0.457\n",
      "Epoch 4, average loss = 1.019, accuracy = 0.547\n",
      "Epoch 5, average loss = 0.999, accuracy = 0.510\n",
      "Epoch 6, average loss = 0.989, accuracy = 0.568\n",
      "Epoch 7, average loss = 0.976, accuracy = 0.564\n",
      "Epoch 8, average loss = 0.973, accuracy = 0.572\n",
      "Epoch 9, average loss = 0.960, accuracy = 0.593\n",
      "\n",
      "Validation:\n",
      "Validation, average loss = 1.190, accuracy = 0.444\n"
     ]
    }
   ],
   "source": [
    "def k_fold_cross_validation(X, y, num_folds, num_epochs, batch_size, random_seed=2):\n",
    "    kf = KFold(n_splits=num_folds, shuffle=True, random_state=random_seed)\n",
    "    fold = 0\n",
    "    results = {}\n",
    "\n",
    "    for train_index, val_index in kf.split(X):\n",
    "        # get fold\n",
    "        fold += 1\n",
    "        print(f'\\nFold {fold}/{num_folds}:')\n",
    "\n",
    "        X_train, X_val = X[train_index], X[val_index]\n",
    "        y_train, y_val = y[train_index], y[val_index]\n",
    "\n",
    "\n",
    "        # define logistic regression model\n",
    "        num_input = X_train.shape[-1]\n",
    "        num_classes = y_train.unique().numel()\n",
    "        model, optimizer, criterion = get_logistic_model(num_input, num_classes)\n",
    "\n",
    "        # train model\n",
    "        print('Training:')\n",
    "        n_samples_train = X_train.shape[0]\n",
    "        train_logistic_model(X_train, y_train, model, optimizer, criterion, num_epochs, n_samples_train, batch_size, verbose=True)\n",
    "\n",
    "\n",
    "        # compute accuracy on validation set\n",
    "        print('\\nValidation:')\n",
    "        resp_val = model.forward(X_val)\n",
    "        avg_loss_val = criterion(resp_val, y_val)\n",
    "\n",
    "        y_hat_val = resp_val.argmax(dim=1)\n",
    "        accuracy_val = (y_val == y_hat_val).float().mean()\n",
    "\n",
    "        print('Validation, average loss = {:1.3f}, accuracy = {:1.3f}'.format(avg_loss_val, accuracy_val))\n",
    "\n",
    "        # other metrics\n",
    "        precision = precision_score(y_val, y_hat_val, average='weighted')\n",
    "        recall = recall_score(y_val, y_hat_val, average='weighted')\n",
    "        f1 = f1_score(y_val, y_hat_val, average='weighted')\n",
    "\n",
    "        results[fold] = {'model':model, 'validation_accuracy':accuracy_val.item(),\n",
    "                         'precision':precision, 'recall':recall, 'F1':f1}\n",
    "\n",
    "    return results\n",
    "\n",
    "\n",
    "# 10-folds CV\n",
    "num_folds = 10\n",
    "num_epochs = 10\n",
    "batch_size = 32\n",
    "results = k_fold_cross_validation(Sx_train, y_train_resampled, num_folds, num_epochs, batch_size)"
   ]
  },
  {
   "cell_type": "code",
   "execution_count": 20,
   "metadata": {},
   "outputs": [
    {
     "data": {
      "text/plain": [
       "{1: {'model': Sequential(\n",
       "    (0): Linear(in_features=1201, out_features=3, bias=True)\n",
       "    (1): LogSoftmax(dim=1)\n",
       "  ),\n",
       "  'validation_accuracy': 0.48148149251937866,\n",
       "  'precision': 0.6351410934744267,\n",
       "  'recall': 0.48148148148148145,\n",
       "  'F1': 0.4938799762329175},\n",
       " 2: {'model': Sequential(\n",
       "    (0): Linear(in_features=1201, out_features=3, bias=True)\n",
       "    (1): LogSoftmax(dim=1)\n",
       "  ),\n",
       "  'validation_accuracy': 0.48148149251937866,\n",
       "  'precision': 0.4939393939393939,\n",
       "  'recall': 0.48148148148148145,\n",
       "  'F1': 0.48677248677248675},\n",
       " 3: {'model': Sequential(\n",
       "    (0): Linear(in_features=1201, out_features=3, bias=True)\n",
       "    (1): LogSoftmax(dim=1)\n",
       "  ),\n",
       "  'validation_accuracy': 0.5925925970077515,\n",
       "  'precision': 0.5894179894179894,\n",
       "  'recall': 0.5925925925925926,\n",
       "  'F1': 0.5737628384687207},\n",
       " 4: {'model': Sequential(\n",
       "    (0): Linear(in_features=1201, out_features=3, bias=True)\n",
       "    (1): LogSoftmax(dim=1)\n",
       "  ),\n",
       "  'validation_accuracy': 0.5185185074806213,\n",
       "  'precision': 0.5712962962962963,\n",
       "  'recall': 0.5185185185185185,\n",
       "  'F1': 0.5333800186741363},\n",
       " 5: {'model': Sequential(\n",
       "    (0): Linear(in_features=1201, out_features=3, bias=True)\n",
       "    (1): LogSoftmax(dim=1)\n",
       "  ),\n",
       "  'validation_accuracy': 0.48148149251937866,\n",
       "  'precision': 0.48930041152263376,\n",
       "  'recall': 0.48148148148148145,\n",
       "  'F1': 0.48232618583495784},\n",
       " 6: {'model': Sequential(\n",
       "    (0): Linear(in_features=1201, out_features=3, bias=True)\n",
       "    (1): LogSoftmax(dim=1)\n",
       "  ),\n",
       "  'validation_accuracy': 0.5925925970077515,\n",
       "  'precision': 0.6037037037037037,\n",
       "  'recall': 0.5925925925925926,\n",
       "  'F1': 0.5897707231040564},\n",
       " 7: {'model': Sequential(\n",
       "    (0): Linear(in_features=1201, out_features=3, bias=True)\n",
       "    (1): LogSoftmax(dim=1)\n",
       "  ),\n",
       "  'validation_accuracy': 0.6296296119689941,\n",
       "  'precision': 0.6556036556036557,\n",
       "  'recall': 0.6296296296296297,\n",
       "  'F1': 0.6191643323996265},\n",
       " 8: {'model': Sequential(\n",
       "    (0): Linear(in_features=1201, out_features=3, bias=True)\n",
       "    (1): LogSoftmax(dim=1)\n",
       "  ),\n",
       "  'validation_accuracy': 0.40740740299224854,\n",
       "  'precision': 0.4194444444444444,\n",
       "  'recall': 0.4074074074074074,\n",
       "  'F1': 0.4124527003783969},\n",
       " 9: {'model': Sequential(\n",
       "    (0): Linear(in_features=1201, out_features=3, bias=True)\n",
       "    (1): LogSoftmax(dim=1)\n",
       "  ),\n",
       "  'validation_accuracy': 0.48148149251937866,\n",
       "  'precision': 0.47460317460317464,\n",
       "  'recall': 0.48148148148148145,\n",
       "  'F1': 0.46642246642246643},\n",
       " 10: {'model': Sequential(\n",
       "    (0): Linear(in_features=1201, out_features=3, bias=True)\n",
       "    (1): LogSoftmax(dim=1)\n",
       "  ),\n",
       "  'validation_accuracy': 0.4444444477558136,\n",
       "  'precision': 0.4101010101010101,\n",
       "  'recall': 0.4444444444444444,\n",
       "  'F1': 0.41022205983842813}}"
      ]
     },
     "execution_count": 20,
     "metadata": {},
     "output_type": "execute_result"
    }
   ],
   "source": [
    "results"
   ]
  },
  {
   "cell_type": "code",
   "execution_count": 21,
   "metadata": {},
   "outputs": [
    {
     "name": "stdout",
     "output_type": "stream",
     "text": [
      "Average accuracy (10-folds Cross-Validation): 0.5111111134290696\n",
      "Average precision (10-folds Cross-Validation): 0.5342551173106729\n",
      "Average recall (10-folds Cross-Validation): 0.5111111111111112\n",
      "Average F1 (10-folds Cross-Validation): 0.5068153788126193\n"
     ]
    }
   ],
   "source": [
    "acc, precision, recall, f1 = 0, 0, 0, 0\n",
    "\n",
    "for k in results.keys():\n",
    "    acc += results[k]['validation_accuracy']\n",
    "    precision += results[k]['precision']\n",
    "    recall += results[k]['recall']\n",
    "    f1 += results[k]['F1']\n",
    "\n",
    "print('Average accuracy (10-folds Cross-Validation): {}'.format(acc/num_folds))\n",
    "print('Average precision (10-folds Cross-Validation): {}'.format(precision/num_folds))\n",
    "print('Average recall (10-folds Cross-Validation): {}'.format(recall/num_folds))\n",
    "print('Average F1 (10-folds Cross-Validation): {}'.format(f1/num_folds))"
   ]
  },
  {
   "cell_type": "code",
   "execution_count": 22,
   "metadata": {},
   "outputs": [
    {
     "name": "stdout",
     "output_type": "stream",
     "text": [
      "model with highest recall: fold 7, recall 0.6296296296296297\n"
     ]
    }
   ],
   "source": [
    "max_recall = 0\n",
    "for k in results.keys():\n",
    "    if results[k]['recall'] > max_recall:\n",
    "        max_recall = results[k]['recall']\n",
    "        new_best_model = k\n",
    "\n",
    "# model with highest recall\n",
    "print('model with highest recall: fold {}, recall {}'.format(new_best_model, \n",
    "                                                             results[new_best_model]['recall'] ))"
   ]
  },
  {
   "cell_type": "code",
   "execution_count": 23,
   "metadata": {},
   "outputs": [
    {
     "name": "stdout",
     "output_type": "stream",
     "text": [
      "Model accuracy:  0.457446813583374\n"
     ]
    }
   ],
   "source": [
    "best_model = results[new_best_model]['model']\n",
    "criterion = torch.nn.NLLLoss() # negative log likelihood loss\n",
    "\n",
    "# TEST SET\n",
    "# accuracy\n",
    "resp = best_model.forward(Sx_test)\n",
    "avg_loss = criterion(resp, y_test)\n",
    "\n",
    "y_hat = resp.argmax(dim=1)\n",
    "acc = (y_test == y_hat).float().mean()\n",
    "\n",
    "print('Model accuracy: ', acc.item())\n",
    "\n",
    "# confusion matrix\n",
    "preds_test = y_hat.numpy()\n",
    "true_test = y_test.numpy()\n",
    "confusion = confusion_matrix(true_test, preds_test)\n",
    "\n",
    "# probabilities of class assignment\n",
    "best_model.eval() \n",
    "with torch.no_grad():\n",
    "    logits = best_model(Sx_test)\n",
    "    probs = torch.softmax(logits, dim=1)"
   ]
  },
  {
   "cell_type": "code",
   "execution_count": 24,
   "metadata": {},
   "outputs": [
    {
     "data": {
      "text/plain": [
       "tensor([[4.6672e-01, 1.4370e-01, 3.8958e-01],\n",
       "        [6.9710e-01, 6.7016e-02, 2.3589e-01],\n",
       "        [1.3066e-01, 2.4634e-01, 6.2300e-01],\n",
       "        [1.2555e-01, 4.1383e-01, 4.6062e-01],\n",
       "        [2.0065e-01, 6.1790e-01, 1.8145e-01],\n",
       "        [4.1480e-01, 3.6213e-01, 2.2307e-01],\n",
       "        [5.5296e-01, 1.8030e-01, 2.6674e-01],\n",
       "        [5.3332e-01, 1.5533e-01, 3.1136e-01],\n",
       "        [3.9415e-01, 2.7770e-01, 3.2814e-01],\n",
       "        [2.3495e-01, 2.2232e-01, 5.4273e-01],\n",
       "        [4.1799e-01, 2.6936e-01, 3.1265e-01],\n",
       "        [5.2330e-01, 6.5335e-02, 4.1136e-01],\n",
       "        [5.1081e-01, 5.3659e-02, 4.3553e-01],\n",
       "        [3.0653e-01, 3.1113e-01, 3.8234e-01],\n",
       "        [4.1469e-01, 3.2853e-01, 2.5678e-01],\n",
       "        [2.5518e-01, 4.5626e-01, 2.8856e-01],\n",
       "        [3.4811e-01, 3.1407e-01, 3.3782e-01],\n",
       "        [3.8823e-01, 3.3811e-01, 2.7366e-01],\n",
       "        [3.7390e-01, 2.5604e-01, 3.7006e-01],\n",
       "        [1.0041e-01, 4.1267e-01, 4.8692e-01],\n",
       "        [1.6053e-01, 5.9816e-01, 2.4131e-01],\n",
       "        [3.7721e-01, 3.0306e-01, 3.1973e-01],\n",
       "        [3.1703e-01, 4.8607e-01, 1.9691e-01],\n",
       "        [2.4579e-01, 1.2075e-01, 6.3346e-01],\n",
       "        [2.6225e-01, 2.4052e-01, 4.9723e-01],\n",
       "        [2.9050e-01, 4.5055e-01, 2.5895e-01],\n",
       "        [6.8851e-02, 2.3582e-01, 6.9533e-01],\n",
       "        [4.9007e-01, 1.9981e-01, 3.1012e-01],\n",
       "        [1.9423e-01, 3.9679e-01, 4.0898e-01],\n",
       "        [3.5328e-01, 3.9671e-01, 2.5002e-01],\n",
       "        [4.2936e-01, 4.7175e-01, 9.8888e-02],\n",
       "        [4.2408e-01, 3.1552e-01, 2.6040e-01],\n",
       "        [3.9776e-01, 2.7177e-01, 3.3047e-01],\n",
       "        [3.3855e-01, 3.5234e-01, 3.0911e-01],\n",
       "        [2.1952e-01, 7.1078e-01, 6.9699e-02],\n",
       "        [4.0383e-01, 3.1273e-01, 2.8344e-01],\n",
       "        [4.1391e-01, 3.8282e-01, 2.0327e-01],\n",
       "        [8.5434e-03, 9.9101e-01, 4.4818e-04],\n",
       "        [5.6475e-01, 3.8983e-01, 4.5419e-02],\n",
       "        [4.4438e-01, 3.8242e-01, 1.7319e-01],\n",
       "        [3.9364e-01, 3.0145e-01, 3.0491e-01],\n",
       "        [3.1426e-01, 2.9739e-01, 3.8834e-01],\n",
       "        [4.0430e-01, 2.9755e-01, 2.9815e-01],\n",
       "        [2.4901e-01, 4.5258e-01, 2.9841e-01],\n",
       "        [6.7701e-01, 8.7701e-02, 2.3529e-01],\n",
       "        [8.8091e-01, 1.0732e-01, 1.1773e-02],\n",
       "        [4.1745e-01, 2.9698e-01, 2.8558e-01],\n",
       "        [1.0923e-01, 4.3892e-01, 4.5184e-01],\n",
       "        [3.2613e-01, 3.4873e-01, 3.2514e-01],\n",
       "        [3.5324e-01, 2.2049e-01, 4.2627e-01],\n",
       "        [4.6298e-01, 2.4410e-01, 2.9292e-01],\n",
       "        [3.7966e-01, 2.1182e-01, 4.0852e-01],\n",
       "        [4.2856e-01, 3.4697e-01, 2.2446e-01],\n",
       "        [3.4850e-01, 2.9304e-01, 3.5846e-01],\n",
       "        [4.5954e-01, 3.5183e-01, 1.8864e-01],\n",
       "        [3.4016e-01, 3.2775e-01, 3.3210e-01],\n",
       "        [4.1691e-01, 2.8575e-01, 2.9734e-01],\n",
       "        [4.0008e-01, 3.1156e-01, 2.8836e-01],\n",
       "        [7.0270e-01, 2.3216e-01, 6.5142e-02],\n",
       "        [5.1754e-01, 4.2365e-01, 5.8809e-02],\n",
       "        [5.0773e-01, 2.2162e-01, 2.7065e-01],\n",
       "        [1.6415e-01, 3.2503e-01, 5.1082e-01],\n",
       "        [3.7950e-01, 3.2053e-01, 2.9997e-01],\n",
       "        [2.9166e-01, 2.8045e-01, 4.2789e-01],\n",
       "        [6.3712e-01, 2.9579e-01, 6.7089e-02],\n",
       "        [7.2660e-01, 1.0686e-01, 1.6654e-01],\n",
       "        [5.1775e-01, 1.3647e-01, 3.4578e-01],\n",
       "        [2.9853e-01, 4.5660e-01, 2.4487e-01],\n",
       "        [3.9840e-01, 3.0768e-01, 2.9393e-01],\n",
       "        [3.2745e-01, 3.7911e-01, 2.9344e-01],\n",
       "        [4.4728e-01, 1.0329e-02, 5.4239e-01],\n",
       "        [4.1209e-01, 3.7174e-01, 2.1617e-01],\n",
       "        [4.1254e-01, 3.2452e-01, 2.6294e-01],\n",
       "        [3.8831e-01, 2.3809e-01, 3.7360e-01],\n",
       "        [3.6370e-01, 2.7344e-01, 3.6286e-01],\n",
       "        [3.6761e-01, 2.8500e-01, 3.4740e-01],\n",
       "        [4.0659e-01, 3.3983e-01, 2.5358e-01],\n",
       "        [9.8359e-01, 1.4726e-02, 1.6839e-03],\n",
       "        [7.6390e-01, 1.4448e-01, 9.1622e-02],\n",
       "        [2.5418e-01, 3.0861e-01, 4.3721e-01],\n",
       "        [2.3642e-01, 8.3820e-02, 6.7976e-01],\n",
       "        [3.9649e-01, 2.5170e-01, 3.5181e-01],\n",
       "        [1.5514e-01, 6.7819e-01, 1.6667e-01],\n",
       "        [1.3587e-01, 7.2951e-01, 1.3461e-01],\n",
       "        [4.2627e-01, 3.6020e-01, 2.1354e-01],\n",
       "        [3.4456e-01, 2.5925e-01, 3.9618e-01],\n",
       "        [2.6397e-01, 3.5588e-01, 3.8014e-01],\n",
       "        [4.3426e-01, 3.0473e-01, 2.6101e-01],\n",
       "        [4.0085e-01, 3.1591e-01, 2.8324e-01],\n",
       "        [2.6083e-01, 4.6128e-01, 2.7789e-01],\n",
       "        [2.4428e-01, 5.0182e-01, 2.5390e-01],\n",
       "        [3.6232e-01, 2.3749e-01, 4.0019e-01],\n",
       "        [3.4723e-01, 2.7123e-01, 3.8154e-01],\n",
       "        [7.0074e-01, 6.2660e-02, 2.3660e-01]])"
      ]
     },
     "execution_count": 24,
     "metadata": {},
     "output_type": "execute_result"
    }
   ],
   "source": [
    "probs"
   ]
  },
  {
   "cell_type": "code",
   "execution_count": 25,
   "metadata": {},
   "outputs": [
    {
     "data": {
      "text/plain": [
       "array([[27,  2,  1],\n",
       "       [ 5,  5, 11],\n",
       "       [21, 11, 11]])"
      ]
     },
     "execution_count": 25,
     "metadata": {},
     "output_type": "execute_result"
    }
   ],
   "source": [
    "confusion"
   ]
  },
  {
   "cell_type": "code",
   "execution_count": 26,
   "metadata": {},
   "outputs": [
    {
     "data": {
      "text/plain": [
       "Counter({2: 43, 0: 30, 1: 21})"
      ]
     },
     "execution_count": 26,
     "metadata": {},
     "output_type": "execute_result"
    }
   ],
   "source": [
    "Counter(y_test.numpy())"
   ]
  },
  {
   "cell_type": "code",
   "execution_count": 27,
   "metadata": {},
   "outputs": [
    {
     "data": {
      "image/png": "[encoded data removed]",
      "text/plain": [
       "<Figure size 640x480 with 1 Axes>"
      ]
     },
     "metadata": {},
     "output_type": "display_data"
    }
   ],
   "source": [
    "def plot_confusion_matrix(confusion):\n",
    "    plt.figure()\n",
    "    plt.imshow(confusion, cmap='viridis') \n",
    "\n",
    "    num_classes = confusion.shape[0]\n",
    "    tick_locs = np.arange(num_classes)\n",
    "    ticks = ['{}'.format(i) for i in range(num_classes)]\n",
    "\n",
    "    plt.xticks(tick_locs, ticks)\n",
    "    plt.yticks(tick_locs, ticks)\n",
    "\n",
    "    plt.ylabel('True')\n",
    "    plt.xlabel('Predicted')\n",
    "\n",
    "    for i in range(num_classes):\n",
    "        for j in range(num_classes):\n",
    "            lab = f'{confusion[i, j]}'\n",
    "\n",
    "            plt.text(j, i, lab, ha='center', va='center', color='black', fontsize=15, bbox=dict(boxstyle='round', fc='w'))\n",
    "\n",
    "    plt.title('Confusion Matrix')\n",
    "    plt.show()\n",
    "\n",
    "\n",
    "plot_confusion_matrix(confusion)\n"
   ]
  },
  {
   "cell_type": "code",
   "execution_count": 28,
   "metadata": {},
   "outputs": [
    {
     "data": {
      "text/plain": [
       "{'non-event': 0, 'SI': 1, 'SSC': 2}"
      ]
     },
     "execution_count": 28,
     "metadata": {},
     "output_type": "execute_result"
    }
   ],
   "source": [
    "lab_to_int # SI have the most problematic prediction"
   ]
  },
  {
   "cell_type": "code",
   "execution_count": 29,
   "metadata": {},
   "outputs": [
    {
     "name": "stdout",
     "output_type": "stream",
     "text": [
      "Precision: 0.44342095311236396\n",
      "Recall: 0.4574468085106383\n",
      "F1: 0.41740447879899306\n"
     ]
    }
   ],
   "source": [
    "precision = precision_score(true_test, preds_test, average='weighted')\n",
    "recall = recall_score(true_test, preds_test, average='weighted')\n",
    "f1 = f1_score(true_test, preds_test, average='weighted')\n",
    "\n",
    "print('Precision: {}\\nRecall: {}\\nF1: {}'.format(precision,recall,f1))"
   ]
  },
  {
   "cell_type": "code",
   "execution_count": 30,
   "metadata": {},
   "outputs": [
    {
     "name": "stdout",
     "output_type": "stream",
     "text": [
      "\t\tNon-Event (0)  SI (1)  SSC (2)\n",
      "Precision:\t[0.50943396 0.27777778 0.47826087]\n",
      "Recall:\t\t[0.9        0.23809524 0.25581395]\n",
      "F1:\t\t[0.65060241 0.25641026 0.33333333]\n"
     ]
    }
   ],
   "source": [
    "print('\\t\\tNon-Event (0)  SI (1)  SSC (2)\\nPrecision:\\t{}\\nRecall:\\t\\t{}\\nF1:\\t\\t{}'.format(\n",
    "                                                                                    precision_score(true_test, preds_test, average=None),\n",
    "                                                                                    recall_score(true_test, preds_test, average=None),\n",
    "                                                                                    f1_score(true_test, preds_test, average=None)))"
   ]
  },
  {
   "cell_type": "code",
   "execution_count": 31,
   "metadata": {},
   "outputs": [],
   "source": [
    "acc_log_reg_full = accuracy_score(true_test, preds_test)"
   ]
  },
  {
   "cell_type": "code",
   "execution_count": 32,
   "metadata": {},
   "outputs": [
    {
     "data": {
      "text/plain": [
       "(array([0.50943396, 0.27777778, 0.47826087]),\n",
       " array([0.9       , 0.23809524, 0.25581395]),\n",
       " array([0.65060241, 0.25641026, 0.33333333]),\n",
       " array([30, 21, 43]))"
      ]
     },
     "execution_count": 32,
     "metadata": {},
     "output_type": "execute_result"
    }
   ],
   "source": [
    "precision_log_reg_full, recall_log_reg_full, f1_score_log_reg_full, support_log_reg_full = precision_recall_fscore_support(true_test, preds_test)\n",
    "precision_log_reg_full, recall_log_reg_full, f1_score_log_reg_full, support_log_reg_full "
   ]
  },
  {
   "cell_type": "markdown",
   "metadata": {},
   "source": [
    "___________"
   ]
  },
  {
   "cell_type": "markdown",
   "metadata": {},
   "source": [
    "#### Support Vector Classifier with Grid Search and 10-folds cross validation"
   ]
  },
  {
   "cell_type": "code",
   "execution_count": 33,
   "metadata": {},
   "outputs": [
    {
     "data": {
      "text/plain": [
       "{'C': 10.0,\n",
       " 'class_weight': {0: 1, 1: 1.5, 2: 1.2},\n",
       " 'gamma': 'scale',\n",
       " 'kernel': 'rbf'}"
      ]
     },
     "execution_count": 33,
     "metadata": {},
     "output_type": "execute_result"
    }
   ],
   "source": [
    "# SVC parameters\n",
    "param_grid = { \n",
    "        'C': [ 0.1,  1. , 2., 10. ], # regularization\n",
    "        'class_weight':[{0:1, 1:2.2, 2:1},\n",
    "                        {0:1, # class : weight\n",
    "                         1:2, # give weight 2 to class 1 (SI event), and weight 1 to the other two, since SI are the most misclassified\n",
    "                         2:1},  \n",
    "                        {0:1, 1:1.5, 2:1.2},\n",
    "                        {0:1, 1:2, 2:1.5}\n",
    "                        ],\n",
    "        'kernel': ['poly', 'rbf', 'sigmoid'],\n",
    "        'gamma': ['scale', 'auto'] # kernel coefficent for poly, rbf, sigmoid\n",
    "        }\n",
    "\n",
    "\n",
    "# 10 folds CV\n",
    "n_splits, n_repeats = 10, 5\n",
    "cv = RepeatedKFold(n_splits=n_splits, n_repeats=n_repeats, random_state=2)\n",
    "grid_search = GridSearchCV(estimator=SVC(), \n",
    "                            param_grid=param_grid, \n",
    "                            scoring='accuracy', \n",
    "                            refit='accuracy', \n",
    "                            n_jobs=-1, \n",
    "                            cv=cv)\n",
    "gridCV = grid_search.fit(Sx_train, y_train_resampled)\n",
    "gridCV.best_params_"
   ]
  },
  {
   "cell_type": "code",
   "execution_count": 34,
   "metadata": {},
   "outputs": [],
   "source": [
    "svc = SVC(**gridCV.best_params_, probability=True).fit(Sx_train, y_train_resampled)"
   ]
  },
  {
   "cell_type": "code",
   "execution_count": 35,
   "metadata": {},
   "outputs": [
    {
     "data": {
      "text/plain": [
       "array([[25,  4,  1],\n",
       "       [ 8,  9,  4],\n",
       "       [ 4, 14, 25]])"
      ]
     },
     "execution_count": 35,
     "metadata": {},
     "output_type": "execute_result"
    }
   ],
   "source": [
    "svm_preds = svc.predict(Sx_test)\n",
    "confusion = confusion_matrix(y_test, svm_preds)\n",
    "confusion"
   ]
  },
  {
   "cell_type": "code",
   "execution_count": 36,
   "metadata": {},
   "outputs": [
    {
     "data": {
      "text/plain": [
       "array([[2.65790627e-03, 7.36281192e-02, 9.23713975e-01],\n",
       "       [2.06513057e-04, 1.79252508e-02, 9.81868236e-01],\n",
       "       [2.19504902e-04, 6.49701186e-01, 3.50079309e-01],\n",
       "       [1.59754116e-04, 8.71259098e-02, 9.12714336e-01],\n",
       "       [2.25699896e-02, 2.18619070e-01, 7.58810940e-01],\n",
       "       [7.29463049e-01, 1.91445807e-01, 7.90911434e-02],\n",
       "       [5.95892861e-01, 2.58175505e-01, 1.45931634e-01],\n",
       "       [4.31332493e-01, 1.21294998e-01, 4.47372509e-01],\n",
       "       [4.52544609e-01, 3.73513068e-01, 1.73942324e-01],\n",
       "       [1.09356708e-01, 1.97304839e-02, 8.70912808e-01],\n",
       "       [2.76432685e-01, 3.00005489e-01, 4.23561826e-01],\n",
       "       [1.54369625e-01, 1.99985617e-02, 8.25631813e-01],\n",
       "       [4.95472183e-03, 1.24130632e-01, 8.70914647e-01],\n",
       "       [5.72435742e-02, 5.97765424e-01, 3.44991001e-01],\n",
       "       [7.77825495e-01, 1.04096718e-01, 1.18077786e-01],\n",
       "       [4.78845182e-02, 5.04722602e-01, 4.47392880e-01],\n",
       "       [4.16512422e-02, 4.35482603e-01, 5.22866155e-01],\n",
       "       [7.05961997e-01, 1.70466484e-01, 1.23571519e-01],\n",
       "       [6.13218153e-01, 2.25241294e-01, 1.61540553e-01],\n",
       "       [1.08451480e-04, 6.66676975e-01, 3.33214574e-01],\n",
       "       [3.02011418e-02, 3.72696002e-01, 5.97102857e-01],\n",
       "       [4.17658077e-01, 4.17271415e-01, 1.65070508e-01],\n",
       "       [5.10833262e-01, 3.84119197e-01, 1.05047541e-01],\n",
       "       [7.56024861e-01, 6.98097405e-02, 1.74165399e-01],\n",
       "       [3.71211522e-02, 1.03203874e-01, 8.59674974e-01],\n",
       "       [2.46910306e-01, 5.93482545e-01, 1.59607148e-01],\n",
       "       [1.81950143e-03, 1.97517607e-01, 8.00662892e-01],\n",
       "       [2.02178501e-02, 7.18119510e-02, 9.07970199e-01],\n",
       "       [1.16876092e-02, 3.04547053e-01, 6.83765338e-01],\n",
       "       [5.64231787e-01, 2.23086999e-01, 2.12681214e-01],\n",
       "       [3.40737325e-03, 1.65801585e-01, 8.30791042e-01],\n",
       "       [8.47314745e-01, 9.79469756e-02, 5.47382794e-02],\n",
       "       [4.74219363e-01, 3.61416237e-01, 1.64364400e-01],\n",
       "       [3.47377496e-01, 3.30497819e-01, 3.22124685e-01],\n",
       "       [9.01528309e-02, 7.78150147e-01, 1.31697022e-01],\n",
       "       [7.10835233e-01, 1.65058837e-01, 1.24105931e-01],\n",
       "       [6.67484417e-01, 2.61218579e-01, 7.12970040e-02],\n",
       "       [2.30447758e-03, 1.39915759e-01, 8.57779763e-01],\n",
       "       [1.59404725e-01, 3.35494478e-01, 5.05100797e-01],\n",
       "       [5.67472223e-01, 3.53060110e-01, 7.94676665e-02],\n",
       "       [5.43688269e-01, 2.79619275e-01, 1.76692455e-01],\n",
       "       [1.21897335e-01, 3.62499392e-01, 5.15603273e-01],\n",
       "       [5.89671674e-01, 2.71419697e-01, 1.38908629e-01],\n",
       "       [2.55148396e-02, 3.70281891e-01, 6.04203270e-01],\n",
       "       [2.35174973e-03, 3.83083566e-02, 9.59339894e-01],\n",
       "       [3.48022638e-03, 1.82774676e-01, 8.13745097e-01],\n",
       "       [7.37628430e-01, 1.49707584e-01, 1.12663986e-01],\n",
       "       [5.55944311e-04, 1.53113331e-01, 8.46330724e-01],\n",
       "       [1.79004408e-01, 3.15638767e-01, 5.05356825e-01],\n",
       "       [7.97670585e-01, 5.25286235e-02, 1.49800792e-01],\n",
       "       [7.84248305e-01, 1.39507600e-01, 7.62440949e-02],\n",
       "       [2.71334611e-01, 3.00525273e-01, 4.28140117e-01],\n",
       "       [8.41975530e-01, 1.20586539e-01, 3.74379304e-02],\n",
       "       [1.72113350e-01, 5.12136142e-01, 3.15750508e-01],\n",
       "       [8.22193380e-01, 7.43386813e-02, 1.03467939e-01],\n",
       "       [2.14023222e-01, 3.80866971e-01, 4.05109807e-01],\n",
       "       [5.76411687e-01, 2.77512588e-01, 1.46075724e-01],\n",
       "       [6.82411818e-01, 1.84663176e-01, 1.32925006e-01],\n",
       "       [1.21944426e-01, 5.29172390e-01, 3.48883184e-01],\n",
       "       [2.15044514e-03, 1.76998131e-01, 8.20851424e-01],\n",
       "       [6.63454683e-01, 2.66114360e-01, 7.04309573e-02],\n",
       "       [3.18235822e-03, 4.62152819e-01, 5.34664823e-01],\n",
       "       [3.82693062e-01, 4.38911858e-01, 1.78395080e-01],\n",
       "       [5.64349274e-02, 2.66300472e-01, 6.77264600e-01],\n",
       "       [2.30127530e-02, 2.99208084e-01, 6.77779163e-01],\n",
       "       [9.79040965e-01, 1.66731894e-02, 4.28584550e-03],\n",
       "       [6.73721054e-01, 2.13510892e-01, 1.12768054e-01],\n",
       "       [1.40513307e-01, 6.40227785e-01, 2.19258908e-01],\n",
       "       [6.26425054e-01, 2.21061860e-01, 1.52513086e-01],\n",
       "       [4.15356656e-01, 3.96437478e-01, 1.88205865e-01],\n",
       "       [1.99178831e-04, 1.96562431e-02, 9.80144578e-01],\n",
       "       [7.63481597e-01, 1.65186767e-01, 7.13316364e-02],\n",
       "       [7.96220091e-01, 1.18163906e-01, 8.56160030e-02],\n",
       "       [8.21908203e-02, 2.64682398e-01, 6.53126782e-01],\n",
       "       [1.23117600e-01, 2.34831522e-01, 6.42050877e-01],\n",
       "       [3.85061739e-01, 3.89242102e-01, 2.25696159e-01],\n",
       "       [7.98994862e-01, 1.29881394e-01, 7.11237442e-02],\n",
       "       [9.89431662e-03, 1.62418218e-01, 8.27687465e-01],\n",
       "       [1.37148091e-01, 2.79564751e-01, 5.83287158e-01],\n",
       "       [1.60020508e-02, 6.21048947e-01, 3.62949002e-01],\n",
       "       [2.39337955e-03, 7.46839994e-02, 9.22922621e-01],\n",
       "       [6.51885345e-01, 1.55528769e-01, 1.92585887e-01],\n",
       "       [8.75515363e-04, 4.75704487e-01, 5.23419998e-01],\n",
       "       [1.28764994e-03, 5.39974679e-01, 4.58737671e-01],\n",
       "       [7.45502022e-01, 1.95722597e-01, 5.87753808e-02],\n",
       "       [1.21365895e-01, 2.05050518e-01, 6.73583586e-01],\n",
       "       [2.93393216e-02, 5.17287181e-01, 4.53373497e-01],\n",
       "       [8.60380966e-01, 8.09471436e-02, 5.86718905e-02],\n",
       "       [7.20308981e-01, 1.60341586e-01, 1.19349433e-01],\n",
       "       [8.25598518e-02, 5.80637809e-01, 3.36802339e-01],\n",
       "       [5.04978486e-02, 5.87732511e-01, 3.61769640e-01],\n",
       "       [7.88036895e-01, 9.13757898e-02, 1.20587315e-01],\n",
       "       [9.51304955e-02, 3.35017882e-01, 5.69851623e-01],\n",
       "       [2.27008826e-04, 1.86012358e-02, 9.81171755e-01]])"
      ]
     },
     "execution_count": 36,
     "metadata": {},
     "output_type": "execute_result"
    }
   ],
   "source": [
    "# probabilities class assignment\n",
    "svc_probs = svc.predict_proba(Sx_test)\n",
    "svc_probs"
   ]
  },
  {
   "cell_type": "code",
   "execution_count": 37,
   "metadata": {},
   "outputs": [
    {
     "data": {
      "image/png": "[encoded data removed]",
      "text/plain": [
       "<Figure size 640x480 with 1 Axes>"
      ]
     },
     "metadata": {},
     "output_type": "display_data"
    }
   ],
   "source": [
    "plot_confusion_matrix(confusion)"
   ]
  },
  {
   "cell_type": "code",
   "execution_count": 38,
   "metadata": {},
   "outputs": [
    {
     "name": "stdout",
     "output_type": "stream",
     "text": [
      "Accuracy on Test Set: 0.6276595744680851\n"
     ]
    }
   ],
   "source": [
    "print('Accuracy on Test Set: {}'.format(accuracy_score(y_test, svm_preds)))"
   ]
  },
  {
   "cell_type": "code",
   "execution_count": 39,
   "metadata": {},
   "outputs": [
    {
     "name": "stdout",
     "output_type": "stream",
     "text": [
      "Precision: 0.6713149319532298\n",
      "Recall: 0.6276595744680851\n",
      "F1: 0.635267175489501\n"
     ]
    }
   ],
   "source": [
    "precision = precision_score(y_test, svm_preds, average='weighted')\n",
    "recall = recall_score(y_test, svm_preds, average='weighted')\n",
    "f1 = f1_score(y_test, svm_preds, average='weighted')\n",
    "\n",
    "print('Precision: {}\\nRecall: {}\\nF1: {}'.format(precision,recall,f1))"
   ]
  },
  {
   "cell_type": "code",
   "execution_count": 40,
   "metadata": {},
   "outputs": [
    {
     "name": "stdout",
     "output_type": "stream",
     "text": [
      "\t\tNon-Event (0)  SI (1)  SSC (2)\n",
      "Precision:\t[0.67567568 0.33333333 0.83333333]\n",
      "Recall:\t\t[0.83333333 0.42857143 0.58139535]\n",
      "F1:\t\t[0.74626866 0.375      0.68493151]\n"
     ]
    }
   ],
   "source": [
    "print('\\t\\tNon-Event (0)  SI (1)  SSC (2)\\nPrecision:\\t{}\\nRecall:\\t\\t{}\\nF1:\\t\\t{}'.format(\n",
    "                                                                                    precision_score(y_test, svm_preds, average=None),\n",
    "                                                                                    recall_score(y_test, svm_preds, average=None),\n",
    "                                                                                    f1_score(y_test, svm_preds, average=None)))"
   ]
  },
  {
   "cell_type": "code",
   "execution_count": 41,
   "metadata": {},
   "outputs": [
    {
     "name": "stdout",
     "output_type": "stream",
     "text": [
      "              precision    recall  f1-score   support\n",
      "\n",
      "           0       0.68      0.83      0.75        30\n",
      "           1       0.33      0.43      0.38        21\n",
      "           2       0.83      0.58      0.68        43\n",
      "\n",
      "    accuracy                           0.63        94\n",
      "   macro avg       0.61      0.61      0.60        94\n",
      "weighted avg       0.67      0.63      0.64        94\n",
      "\n"
     ]
    }
   ],
   "source": [
    "print(classification_report(y_test, svm_preds))"
   ]
  },
  {
   "cell_type": "code",
   "execution_count": 42,
   "metadata": {},
   "outputs": [
    {
     "data": {
      "text/plain": [
       "(array([0.67567568, 0.33333333, 0.83333333]),\n",
       " array([0.83333333, 0.42857143, 0.58139535]),\n",
       " array([0.74626866, 0.375     , 0.68493151]),\n",
       " array([30, 21, 43]))"
      ]
     },
     "execution_count": 42,
     "metadata": {},
     "output_type": "execute_result"
    }
   ],
   "source": [
    "acc_svc_full = accuracy_score(y_test, svm_preds)\n",
    "precision_svc_full, recall_svc_full, f1_score_svc_full, support_svc_full = precision_recall_fscore_support(y_test, svm_preds)\n",
    "precision_svc_full, recall_svc_full, f1_score_svc_full, support_svc_full"
   ]
  },
  {
   "cell_type": "markdown",
   "metadata": {},
   "source": [
    "__________"
   ]
  },
  {
   "cell_type": "markdown",
   "metadata": {},
   "source": [
    "#### Random Forest with Grid Search opt and 10 folds CV"
   ]
  },
  {
   "cell_type": "code",
   "execution_count": 43,
   "metadata": {},
   "outputs": [
    {
     "data": {
      "text/html": [
       "<style>#sk-container-id-1 {color: black;}#sk-container-id-1 pre{padding: 0;}#sk-container-id-1 div.sk-toggleable {background-color: white;}#sk-container-id-1 label.sk-toggleable__label {cursor: pointer;display: block;width: 100%;margin-bottom: 0;padding: 0.3em;box-sizing: border-box;text-align: center;}#sk-container-id-1 label.sk-toggleable__label-arrow:before {content: \"▸\";float: left;margin-right: 0.25em;color: #696969;}#sk-container-id-1 label.sk-toggleable__label-arrow:hover:before {color: black;}#sk-container-id-1 div.sk-estimator:hover label.sk-toggleable__label-arrow:before {color: black;}#sk-container-id-1 div.sk-toggleable__content {max-height: 0;max-width: 0;overflow: hidden;text-align: left;background-color: #f0f8ff;}#sk-container-id-1 div.sk-toggleable__content pre {margin: 0.2em;color: black;border-radius: 0.25em;background-color: #f0f8ff;}#sk-container-id-1 input.sk-toggleable__control:checked~div.sk-toggleable__content {max-height: 200px;max-width: 100%;overflow: auto;}#sk-container-id-1 input.sk-toggleable__control:checked~label.sk-toggleable__label-arrow:before {content: \"▾\";}#sk-container-id-1 div.sk-estimator input.sk-toggleable__control:checked~label.sk-toggleable__label {background-color: #d4ebff;}#sk-container-id-1 div.sk-label input.sk-toggleable__control:checked~label.sk-toggleable__label {background-color: #d4ebff;}#sk-container-id-1 input.sk-hidden--visually {border: 0;clip: rect(1px 1px 1px 1px);clip: rect(1px, 1px, 1px, 1px);height: 1px;margin: -1px;overflow: hidden;padding: 0;position: absolute;width: 1px;}#sk-container-id-1 div.sk-estimator {font-family: monospace;background-color: #f0f8ff;border: 1px dotted black;border-radius: 0.25em;box-sizing: border-box;margin-bottom: 0.5em;}#sk-container-id-1 div.sk-estimator:hover {background-color: #d4ebff;}#sk-container-id-1 div.sk-parallel-item::after {content: \"\";width: 100%;border-bottom: 1px solid gray;flex-grow: 1;}#sk-container-id-1 div.sk-label:hover label.sk-toggleable__label {background-color: #d4ebff;}#sk-container-id-1 div.sk-serial::before {content: \"\";position: absolute;border-left: 1px solid gray;box-sizing: border-box;top: 0;bottom: 0;left: 50%;z-index: 0;}#sk-container-id-1 div.sk-serial {display: flex;flex-direction: column;align-items: center;background-color: white;padding-right: 0.2em;padding-left: 0.2em;position: relative;}#sk-container-id-1 div.sk-item {position: relative;z-index: 1;}#sk-container-id-1 div.sk-parallel {display: flex;align-items: stretch;justify-content: center;background-color: white;position: relative;}#sk-container-id-1 div.sk-item::before, #sk-container-id-1 div.sk-parallel-item::before {content: \"\";position: absolute;border-left: 1px solid gray;box-sizing: border-box;top: 0;bottom: 0;left: 50%;z-index: -1;}#sk-container-id-1 div.sk-parallel-item {display: flex;flex-direction: column;z-index: 1;position: relative;background-color: white;}#sk-container-id-1 div.sk-parallel-item:first-child::after {align-self: flex-end;width: 50%;}#sk-container-id-1 div.sk-parallel-item:last-child::after {align-self: flex-start;width: 50%;}#sk-container-id-1 div.sk-parallel-item:only-child::after {width: 0;}#sk-container-id-1 div.sk-dashed-wrapped {border: 1px dashed gray;margin: 0 0.4em 0.5em 0.4em;box-sizing: border-box;padding-bottom: 0.4em;background-color: white;}#sk-container-id-1 div.sk-label label {font-family: monospace;font-weight: bold;display: inline-block;line-height: 1.2em;}#sk-container-id-1 div.sk-label-container {text-align: center;}#sk-container-id-1 div.sk-container {/* jupyter's `normalize.less` sets `[hidden] { display: none; }` but bootstrap.min.css set `[hidden] { display: none !important; }` so we also need the `!important` here to be able to override the default hidden behavior on the sphinx rendered scikit-learn.org. See: https://github.com/scikit-learn/scikit-learn/issues/21755 */display: inline-block !important;position: relative;}#sk-container-id-1 div.sk-text-repr-fallback {display: none;}</style><div id=\"sk-container-id-1\" class=\"sk-top-container\"><div class=\"sk-text-repr-fallback\"><pre>GridSearchCV(cv=StratifiedKFold(n_splits=10, random_state=2, shuffle=True),\n",
       "             estimator=RandomForestClassifier(random_state=2), n_jobs=-1,\n",
       "             param_grid={&#x27;bootstrap&#x27;: [True, False],\n",
       "                         &#x27;min_samples_leaf&#x27;: [1, 2, 4],\n",
       "                         &#x27;min_samples_split&#x27;: [2, 5, 10],\n",
       "                         &#x27;n_estimators&#x27;: [50, 100, 150]},\n",
       "             scoring=&#x27;accuracy&#x27;)</pre><b>In a Jupyter environment, please rerun this cell to show the HTML representation or trust the notebook. <br />On GitHub, the HTML representation is unable to render, please try loading this page with nbviewer.org.</b></div><div class=\"sk-container\" hidden><div class=\"sk-item sk-dashed-wrapped\"><div class=\"sk-label-container\"><div class=\"sk-label sk-toggleable\"><input class=\"sk-toggleable__control sk-hidden--visually\" id=\"sk-estimator-id-1\" type=\"checkbox\" ><label for=\"sk-estimator-id-1\" class=\"sk-toggleable__label sk-toggleable__label-arrow\">GridSearchCV</label><div class=\"sk-toggleable__content\"><pre>GridSearchCV(cv=StratifiedKFold(n_splits=10, random_state=2, shuffle=True),\n",
       "             estimator=RandomForestClassifier(random_state=2), n_jobs=-1,\n",
       "             param_grid={&#x27;bootstrap&#x27;: [True, False],\n",
       "                         &#x27;min_samples_leaf&#x27;: [1, 2, 4],\n",
       "                         &#x27;min_samples_split&#x27;: [2, 5, 10],\n",
       "                         &#x27;n_estimators&#x27;: [50, 100, 150]},\n",
       "             scoring=&#x27;accuracy&#x27;)</pre></div></div></div><div class=\"sk-parallel\"><div class=\"sk-parallel-item\"><div class=\"sk-item\"><div class=\"sk-label-container\"><div class=\"sk-label sk-toggleable\"><input class=\"sk-toggleable__control sk-hidden--visually\" id=\"sk-estimator-id-2\" type=\"checkbox\" ><label for=\"sk-estimator-id-2\" class=\"sk-toggleable__label sk-toggleable__label-arrow\">estimator: RandomForestClassifier</label><div class=\"sk-toggleable__content\"><pre>RandomForestClassifier(random_state=2)</pre></div></div></div><div class=\"sk-serial\"><div class=\"sk-item\"><div class=\"sk-estimator sk-toggleable\"><input class=\"sk-toggleable__control sk-hidden--visually\" id=\"sk-estimator-id-3\" type=\"checkbox\" ><label for=\"sk-estimator-id-3\" class=\"sk-toggleable__label sk-toggleable__label-arrow\">RandomForestClassifier</label><div class=\"sk-toggleable__content\"><pre>RandomForestClassifier(random_state=2)</pre></div></div></div></div></div></div></div></div></div></div>"
      ],
      "text/plain": [
       "GridSearchCV(cv=StratifiedKFold(n_splits=10, random_state=2, shuffle=True),\n",
       "             estimator=RandomForestClassifier(random_state=2), n_jobs=-1,\n",
       "             param_grid={'bootstrap': [True, False],\n",
       "                         'min_samples_leaf': [1, 2, 4],\n",
       "                         'min_samples_split': [2, 5, 10],\n",
       "                         'n_estimators': [50, 100, 150]},\n",
       "             scoring='accuracy')"
      ]
     },
     "execution_count": 43,
     "metadata": {},
     "output_type": "execute_result"
    }
   ],
   "source": [
    "rf_classifier = RandomForestClassifier(random_state=2)\n",
    "\n",
    "param_grid = {\n",
    "    'n_estimators': [50, 100, 150],\n",
    "    'min_samples_split': [2, 5, 10],\n",
    "    'min_samples_leaf': [1, 2, 4],\n",
    "    'bootstrap': [True, False]\n",
    "}\n",
    "\n",
    "# 10 folds CV\n",
    "n_splits = 10\n",
    "cv = StratifiedKFold(n_splits=n_splits, shuffle=True, random_state=2)\n",
    "\n",
    "# grid search with 10-fold cross-validation\n",
    "grid_search_rf = GridSearchCV(estimator=rf_classifier, \n",
    "                           param_grid=param_grid, \n",
    "                           scoring='accuracy', \n",
    "                           n_jobs=-1,\n",
    "                           cv=cv)\n",
    "grid_search_rf.fit(Sx_train.numpy(), y_train_resampled.numpy()) # must be numpy array"
   ]
  },
  {
   "cell_type": "code",
   "execution_count": 44,
   "metadata": {},
   "outputs": [
    {
     "data": {
      "text/plain": [
       "{'bootstrap': True,\n",
       " 'min_samples_leaf': 2,\n",
       " 'min_samples_split': 2,\n",
       " 'n_estimators': 100}"
      ]
     },
     "execution_count": 44,
     "metadata": {},
     "output_type": "execute_result"
    }
   ],
   "source": [
    "grid_search_rf.best_params_"
   ]
  },
  {
   "cell_type": "code",
   "execution_count": 45,
   "metadata": {},
   "outputs": [
    {
     "data": {
      "text/plain": [
       "0.7037037037037037"
      ]
     },
     "execution_count": 45,
     "metadata": {},
     "output_type": "execute_result"
    }
   ],
   "source": [
    "# best accuracy score\n",
    "grid_search_rf.best_score_"
   ]
  },
  {
   "cell_type": "code",
   "execution_count": 46,
   "metadata": {},
   "outputs": [],
   "source": [
    "rf = RandomForestClassifier(**grid_search_rf.best_params_, random_state=2).fit(Sx_train.numpy(), y_train_resampled.numpy())"
   ]
  },
  {
   "cell_type": "code",
   "execution_count": 47,
   "metadata": {},
   "outputs": [
    {
     "name": "stdout",
     "output_type": "stream",
     "text": [
      "Test Accuracy:  0.7553191489361702\n"
     ]
    }
   ],
   "source": [
    "y_pred_rf = rf.predict(Sx_test.numpy())\n",
    "acc_rf_full = accuracy_score(y_test.numpy(), y_pred_rf)\n",
    "print('Test Accuracy: ', acc_rf_full)"
   ]
  },
  {
   "cell_type": "code",
   "execution_count": 48,
   "metadata": {},
   "outputs": [],
   "source": [
    "# get probabilities\n",
    "probs_rf_forest = rf.predict_proba(Sx_test.numpy())"
   ]
  },
  {
   "cell_type": "code",
   "execution_count": 49,
   "metadata": {},
   "outputs": [
    {
     "data": {
      "image/png": "[encoded data removed]",
      "text/plain": [
       "<Figure size 640x480 with 1 Axes>"
      ]
     },
     "metadata": {},
     "output_type": "display_data"
    }
   ],
   "source": [
    "confusion_rf = confusion_matrix(y_test.numpy(), y_pred_rf)\n",
    "plot_confusion_matrix(confusion_rf)"
   ]
  },
  {
   "cell_type": "code",
   "execution_count": 50,
   "metadata": {},
   "outputs": [
    {
     "name": "stdout",
     "output_type": "stream",
     "text": [
      "              precision    recall  f1-score   support\n",
      "\n",
      "           0       0.78      0.93      0.85        30\n",
      "           1       0.59      0.48      0.53        21\n",
      "           2       0.80      0.77      0.79        43\n",
      "\n",
      "    accuracy                           0.76        94\n",
      "   macro avg       0.72      0.73      0.72        94\n",
      "weighted avg       0.75      0.76      0.75        94\n",
      "\n"
     ]
    }
   ],
   "source": [
    "print(classification_report(y_test.numpy(), y_pred_rf))"
   ]
  },
  {
   "cell_type": "code",
   "execution_count": 51,
   "metadata": {},
   "outputs": [
    {
     "data": {
      "text/plain": [
       "(array([0.77777778, 0.58823529, 0.80487805]),\n",
       " array([0.93333333, 0.47619048, 0.76744186]),\n",
       " array([0.84848485, 0.52631579, 0.78571429]),\n",
       " array([30, 21, 43]))"
      ]
     },
     "execution_count": 51,
     "metadata": {},
     "output_type": "execute_result"
    }
   ],
   "source": [
    "precision_rf_full, recall_rf_full, f1_score_rf_full, support_rf_full = precision_recall_fscore_support(y_test.numpy(), y_pred_rf)\n",
    "precision_rf_full, recall_rf_full, f1_score_rf_full, support_rf_full "
   ]
  },
  {
   "cell_type": "code",
   "execution_count": 52,
   "metadata": {},
   "outputs": [
    {
     "name": "stdout",
     "output_type": "stream",
     "text": [
      "Precision: 0.7478301128443074\n",
      "Recall: 0.7553191489361702\n",
      "F1: 0.7477967161617778\n"
     ]
    }
   ],
   "source": [
    "precision_rf = precision_score(y_test.numpy(), y_pred_rf, average='weighted')\n",
    "recall_rf = recall_score(y_test.numpy(), y_pred_rf, average='weighted')\n",
    "f1_rf = f1_score(y_test.numpy(), y_pred_rf, average='weighted')\n",
    "\n",
    "print('Precision: {}\\nRecall: {}\\nF1: {}'.format(precision_rf, recall_rf, f1_rf))"
   ]
  },
  {
   "cell_type": "markdown",
   "metadata": {},
   "source": [
    "_______"
   ]
  },
  {
   "cell_type": "markdown",
   "metadata": {},
   "source": [
    "#### Summarize performances"
   ]
  },
  {
   "cell_type": "code",
   "execution_count": 53,
   "metadata": {},
   "outputs": [
    {
     "data": {
      "text/html": [
       "<div>\n",
       "<style scoped>\n",
       "    .dataframe tbody tr th:only-of-type {\n",
       "        vertical-align: middle;\n",
       "    }\n",
       "\n",
       "    .dataframe tbody tr th {\n",
       "        vertical-align: top;\n",
       "    }\n",
       "\n",
       "    .dataframe thead th {\n",
       "        text-align: right;\n",
       "    }\n",
       "</style>\n",
       "<table border=\"1\" class=\"dataframe\">\n",
       "  <thead>\n",
       "    <tr style=\"text-align: right;\">\n",
       "      <th></th>\n",
       "      <th>Metric</th>\n",
       "      <th>Logistic Regression</th>\n",
       "      <th>SVC</th>\n",
       "      <th>Random Forest</th>\n",
       "    </tr>\n",
       "  </thead>\n",
       "  <tbody>\n",
       "    <tr>\n",
       "      <th>0</th>\n",
       "      <td>Precision</td>\n",
       "      <td>0.421824</td>\n",
       "      <td>0.614114</td>\n",
       "      <td>0.723630</td>\n",
       "    </tr>\n",
       "    <tr>\n",
       "      <th>1</th>\n",
       "      <td>Recall</td>\n",
       "      <td>0.464636</td>\n",
       "      <td>0.614433</td>\n",
       "      <td>0.725655</td>\n",
       "    </tr>\n",
       "    <tr>\n",
       "      <th>2</th>\n",
       "      <td>F1-Score</td>\n",
       "      <td>0.413449</td>\n",
       "      <td>0.602067</td>\n",
       "      <td>0.720172</td>\n",
       "    </tr>\n",
       "    <tr>\n",
       "      <th>3</th>\n",
       "      <td>Accuracy</td>\n",
       "      <td>0.457447</td>\n",
       "      <td>0.627660</td>\n",
       "      <td>0.755319</td>\n",
       "    </tr>\n",
       "  </tbody>\n",
       "</table>\n",
       "</div>"
      ],
      "text/plain": [
       "      Metric  Logistic Regression       SVC  Random Forest\n",
       "0  Precision             0.421824  0.614114       0.723630\n",
       "1     Recall             0.464636  0.614433       0.725655\n",
       "2   F1-Score             0.413449  0.602067       0.720172\n",
       "3   Accuracy             0.457447  0.627660       0.755319"
      ]
     },
     "execution_count": 53,
     "metadata": {},
     "output_type": "execute_result"
    }
   ],
   "source": [
    "result_report = {\n",
    "    'Metric': ['Precision', 'Recall', 'F1-Score', 'Accuracy'],\n",
    "    'Logistic Regression': [precision_log_reg_full.mean(), recall_log_reg_full.mean(), f1_score_log_reg_full.mean(), acc_log_reg_full],\n",
    "    'SVC': [precision_svc_full.mean(), recall_svc_full.mean(), f1_score_svc_full.mean(), acc_svc_full],\n",
    "    'Random Forest': [precision_rf_full.mean(), recall_rf_full.mean(), f1_score_rf_full.mean(), acc_rf_full]\n",
    "}\n",
    "\n",
    "result_report_df = pd.DataFrame(result_report)\n",
    "\n",
    "result_report_df"
   ]
  },
  {
   "cell_type": "code",
   "execution_count": 54,
   "metadata": {},
   "outputs": [
    {
     "data": {
      "text/html": [
       "<style type=\"text/css\">\n",
       "#T_75e93_row0_col1 {\n",
       "  background-color: #c5e0c5;\n",
       "  color: #000000;\n",
       "}\n",
       "#T_75e93_row0_col2 {\n",
       "  background-color: #7cbd7c;\n",
       "  color: #000000;\n",
       "}\n",
       "#T_75e93_row0_col3 {\n",
       "  background-color: #d4e8d4;\n",
       "  color: #000000;\n",
       "}\n",
       "#T_75e93_row1_col1, #T_75e93_row3_col2, #T_75e93_row3_col3 {\n",
       "  background-color: #008000;\n",
       "  color: #f1f1f1;\n",
       "}\n",
       "#T_75e93_row1_col2 {\n",
       "  background-color: #79bc79;\n",
       "  color: #000000;\n",
       "}\n",
       "#T_75e93_row1_col3 {\n",
       "  background-color: #c7e1c7;\n",
       "  color: #000000;\n",
       "}\n",
       "#T_75e93_row2_col1, #T_75e93_row2_col2, #T_75e93_row2_col3 {\n",
       "  background-color: #ebf3eb;\n",
       "  color: #000000;\n",
       "}\n",
       "#T_75e93_row3_col1 {\n",
       "  background-color: #209020;\n",
       "  color: #f1f1f1;\n",
       "}\n",
       "</style>\n",
       "<table id=\"T_75e93\">\n",
       "  <thead>\n",
       "    <tr>\n",
       "      <th class=\"blank level0\" >&nbsp;</th>\n",
       "      <th id=\"T_75e93_level0_col0\" class=\"col_heading level0 col0\" >Metric</th>\n",
       "      <th id=\"T_75e93_level0_col1\" class=\"col_heading level0 col1\" >Logistic Regression</th>\n",
       "      <th id=\"T_75e93_level0_col2\" class=\"col_heading level0 col2\" >SVC</th>\n",
       "      <th id=\"T_75e93_level0_col3\" class=\"col_heading level0 col3\" >Random Forest</th>\n",
       "    </tr>\n",
       "  </thead>\n",
       "  <tbody>\n",
       "    <tr>\n",
       "      <th id=\"T_75e93_level0_row0\" class=\"row_heading level0 row0\" >0</th>\n",
       "      <td id=\"T_75e93_row0_col0\" class=\"data row0 col0\" >Precision</td>\n",
       "      <td id=\"T_75e93_row0_col1\" class=\"data row0 col1\" >0.421824</td>\n",
       "      <td id=\"T_75e93_row0_col2\" class=\"data row0 col2\" >0.614114</td>\n",
       "      <td id=\"T_75e93_row0_col3\" class=\"data row0 col3\" >0.723630</td>\n",
       "    </tr>\n",
       "    <tr>\n",
       "      <th id=\"T_75e93_level0_row1\" class=\"row_heading level0 row1\" >1</th>\n",
       "      <td id=\"T_75e93_row1_col0\" class=\"data row1 col0\" >Recall</td>\n",
       "      <td id=\"T_75e93_row1_col1\" class=\"data row1 col1\" >0.464636</td>\n",
       "      <td id=\"T_75e93_row1_col2\" class=\"data row1 col2\" >0.614433</td>\n",
       "      <td id=\"T_75e93_row1_col3\" class=\"data row1 col3\" >0.725655</td>\n",
       "    </tr>\n",
       "    <tr>\n",
       "      <th id=\"T_75e93_level0_row2\" class=\"row_heading level0 row2\" >2</th>\n",
       "      <td id=\"T_75e93_row2_col0\" class=\"data row2 col0\" >F1-Score</td>\n",
       "      <td id=\"T_75e93_row2_col1\" class=\"data row2 col1\" >0.413449</td>\n",
       "      <td id=\"T_75e93_row2_col2\" class=\"data row2 col2\" >0.602067</td>\n",
       "      <td id=\"T_75e93_row2_col3\" class=\"data row2 col3\" >0.720172</td>\n",
       "    </tr>\n",
       "    <tr>\n",
       "      <th id=\"T_75e93_level0_row3\" class=\"row_heading level0 row3\" >3</th>\n",
       "      <td id=\"T_75e93_row3_col0\" class=\"data row3 col0\" >Accuracy</td>\n",
       "      <td id=\"T_75e93_row3_col1\" class=\"data row3 col1\" >0.457447</td>\n",
       "      <td id=\"T_75e93_row3_col2\" class=\"data row3 col2\" >0.627660</td>\n",
       "      <td id=\"T_75e93_row3_col3\" class=\"data row3 col3\" >0.755319</td>\n",
       "    </tr>\n",
       "  </tbody>\n",
       "</table>\n"
      ],
      "text/plain": [
       "<pandas.io.formats.style.Styler at 0x7f7bd0149600>"
      ]
     },
     "execution_count": 54,
     "metadata": {},
     "output_type": "execute_result"
    }
   ],
   "source": [
    "colmap = sns.light_palette(\"green\", as_cmap=True)\n",
    "result_report_df.style.background_gradient(cmap = colmap)"
   ]
  },
  {
   "cell_type": "code",
   "execution_count": 55,
   "metadata": {},
   "outputs": [
    {
     "data": {
      "text/html": [
       "<div>\n",
       "<style scoped>\n",
       "    .dataframe tbody tr th:only-of-type {\n",
       "        vertical-align: middle;\n",
       "    }\n",
       "\n",
       "    .dataframe tbody tr th {\n",
       "        vertical-align: top;\n",
       "    }\n",
       "\n",
       "    .dataframe thead th {\n",
       "        text-align: right;\n",
       "    }\n",
       "</style>\n",
       "<table border=\"1\" class=\"dataframe\">\n",
       "  <thead>\n",
       "    <tr style=\"text-align: right;\">\n",
       "      <th></th>\n",
       "      <th>Metric</th>\n",
       "      <th>Logistic Regression</th>\n",
       "      <th>SVC</th>\n",
       "      <th>Random Forest</th>\n",
       "    </tr>\n",
       "    <tr>\n",
       "      <th>Metric Type</th>\n",
       "      <th></th>\n",
       "      <th></th>\n",
       "      <th></th>\n",
       "      <th></th>\n",
       "    </tr>\n",
       "  </thead>\n",
       "  <tbody>\n",
       "    <tr>\n",
       "      <th></th>\n",
       "      <td>Non-Event (0)</td>\n",
       "      <td>0.509434</td>\n",
       "      <td>0.675676</td>\n",
       "      <td>0.777778</td>\n",
       "    </tr>\n",
       "    <tr>\n",
       "      <th>Precision</th>\n",
       "      <td>SI (1)</td>\n",
       "      <td>0.277778</td>\n",
       "      <td>0.333333</td>\n",
       "      <td>0.588235</td>\n",
       "    </tr>\n",
       "    <tr>\n",
       "      <th></th>\n",
       "      <td>SSC (2)</td>\n",
       "      <td>0.478261</td>\n",
       "      <td>0.833333</td>\n",
       "      <td>0.804878</td>\n",
       "    </tr>\n",
       "    <tr>\n",
       "      <th></th>\n",
       "      <td>Non-Event (0)</td>\n",
       "      <td>0.900000</td>\n",
       "      <td>0.833333</td>\n",
       "      <td>0.933333</td>\n",
       "    </tr>\n",
       "    <tr>\n",
       "      <th>Recall</th>\n",
       "      <td>SI (1)</td>\n",
       "      <td>0.238095</td>\n",
       "      <td>0.428571</td>\n",
       "      <td>0.476190</td>\n",
       "    </tr>\n",
       "    <tr>\n",
       "      <th></th>\n",
       "      <td>SSC (2)</td>\n",
       "      <td>0.255814</td>\n",
       "      <td>0.581395</td>\n",
       "      <td>0.767442</td>\n",
       "    </tr>\n",
       "    <tr>\n",
       "      <th></th>\n",
       "      <td>Non-Event (0)</td>\n",
       "      <td>0.650602</td>\n",
       "      <td>0.746269</td>\n",
       "      <td>0.848485</td>\n",
       "    </tr>\n",
       "    <tr>\n",
       "      <th>F1-Score</th>\n",
       "      <td>SI (1)</td>\n",
       "      <td>0.256410</td>\n",
       "      <td>0.375000</td>\n",
       "      <td>0.526316</td>\n",
       "    </tr>\n",
       "    <tr>\n",
       "      <th></th>\n",
       "      <td>SSC (2)</td>\n",
       "      <td>0.333333</td>\n",
       "      <td>0.684932</td>\n",
       "      <td>0.785714</td>\n",
       "    </tr>\n",
       "  </tbody>\n",
       "</table>\n",
       "</div>"
      ],
      "text/plain": [
       "                    Metric  Logistic Regression       SVC  Random Forest\n",
       "Metric Type                                                             \n",
       "             Non-Event (0)             0.509434  0.675676       0.777778\n",
       "Precision           SI (1)             0.277778  0.333333       0.588235\n",
       "                   SSC (2)             0.478261  0.833333       0.804878\n",
       "             Non-Event (0)             0.900000  0.833333       0.933333\n",
       "Recall              SI (1)             0.238095  0.428571       0.476190\n",
       "                   SSC (2)             0.255814  0.581395       0.767442\n",
       "             Non-Event (0)             0.650602  0.746269       0.848485\n",
       "F1-Score            SI (1)             0.256410  0.375000       0.526316\n",
       "                   SSC (2)             0.333333  0.684932       0.785714"
      ]
     },
     "execution_count": 55,
     "metadata": {},
     "output_type": "execute_result"
    }
   ],
   "source": [
    "result_report = {\n",
    "    'Metric Type': ['', 'Precision', '', '', 'Recall', '', '', 'F1-Score', '' ],\n",
    "    'Metric': ['Non-Event (0)', 'SI (1)', 'SSC (2)', 'Non-Event (0)', 'SI (1)', 'SSC (2)', 'Non-Event (0)', 'SI (1)', 'SSC (2)'],\n",
    "    'Logistic Regression': np.concatenate((precision_log_reg_full, recall_log_reg_full, f1_score_log_reg_full)),\n",
    "    'SVC': np.concatenate((precision_svc_full, recall_svc_full, f1_score_svc_full)),\n",
    "    'Random Forest': np.concatenate((precision_rf_full, recall_rf_full, f1_score_rf_full))\n",
    "}\n",
    "\n",
    "result_report_df = pd.DataFrame(result_report)\n",
    "\n",
    "result_report_df.set_index('Metric Type')"
   ]
  },
  {
   "cell_type": "code",
   "execution_count": 56,
   "metadata": {},
   "outputs": [
    {
     "data": {
      "text/html": [
       "<style type=\"text/css\">\n",
       "#T_ba61e_row0_col2 {\n",
       "  background-color: #8bc48b;\n",
       "  color: #000000;\n",
       "}\n",
       "#T_ba61e_row0_col3 {\n",
       "  background-color: #4aa44a;\n",
       "  color: #f1f1f1;\n",
       "}\n",
       "#T_ba61e_row0_col4 {\n",
       "  background-color: #50a750;\n",
       "  color: #f1f1f1;\n",
       "}\n",
       "#T_ba61e_row1_col2 {\n",
       "  background-color: #ddecdd;\n",
       "  color: #000000;\n",
       "}\n",
       "#T_ba61e_row1_col3, #T_ba61e_row4_col2, #T_ba61e_row4_col4 {\n",
       "  background-color: #ebf3eb;\n",
       "  color: #000000;\n",
       "}\n",
       "#T_ba61e_row1_col4 {\n",
       "  background-color: #b2d7b1;\n",
       "  color: #000000;\n",
       "}\n",
       "#T_ba61e_row2_col2 {\n",
       "  background-color: #96c996;\n",
       "  color: #000000;\n",
       "}\n",
       "#T_ba61e_row2_col3, #T_ba61e_row3_col2, #T_ba61e_row3_col3, #T_ba61e_row3_col4 {\n",
       "  background-color: #008000;\n",
       "  color: #f1f1f1;\n",
       "}\n",
       "#T_ba61e_row2_col4 {\n",
       "  background-color: #41a041;\n",
       "  color: #f1f1f1;\n",
       "}\n",
       "#T_ba61e_row4_col3 {\n",
       "  background-color: #beddbe;\n",
       "  color: #000000;\n",
       "}\n",
       "#T_ba61e_row5_col2 {\n",
       "  background-color: #e5f0e5;\n",
       "  color: #000000;\n",
       "}\n",
       "#T_ba61e_row5_col3 {\n",
       "  background-color: #76ba76;\n",
       "  color: #f1f1f1;\n",
       "}\n",
       "#T_ba61e_row5_col4 {\n",
       "  background-color: #55a955;\n",
       "  color: #f1f1f1;\n",
       "}\n",
       "#T_ba61e_row6_col2 {\n",
       "  background-color: #58ab58;\n",
       "  color: #f1f1f1;\n",
       "}\n",
       "#T_ba61e_row6_col3 {\n",
       "  background-color: #289428;\n",
       "  color: #f1f1f1;\n",
       "}\n",
       "#T_ba61e_row6_col4 {\n",
       "  background-color: #2b952b;\n",
       "  color: #f1f1f1;\n",
       "}\n",
       "#T_ba61e_row7_col2 {\n",
       "  background-color: #e4f0e4;\n",
       "  color: #000000;\n",
       "}\n",
       "#T_ba61e_row7_col3 {\n",
       "  background-color: #d7e9d7;\n",
       "  color: #000000;\n",
       "}\n",
       "#T_ba61e_row7_col4 {\n",
       "  background-color: #d1e6d1;\n",
       "  color: #000000;\n",
       "}\n",
       "#T_ba61e_row8_col2 {\n",
       "  background-color: #c9e3c9;\n",
       "  color: #000000;\n",
       "}\n",
       "#T_ba61e_row8_col3 {\n",
       "  background-color: #45a245;\n",
       "  color: #f1f1f1;\n",
       "}\n",
       "#T_ba61e_row8_col4 {\n",
       "  background-color: #4ba54b;\n",
       "  color: #f1f1f1;\n",
       "}\n",
       "</style>\n",
       "<table id=\"T_ba61e\">\n",
       "  <thead>\n",
       "    <tr>\n",
       "      <th class=\"blank level0\" >&nbsp;</th>\n",
       "      <th id=\"T_ba61e_level0_col0\" class=\"col_heading level0 col0\" >Metric Type</th>\n",
       "      <th id=\"T_ba61e_level0_col1\" class=\"col_heading level0 col1\" >Metric</th>\n",
       "      <th id=\"T_ba61e_level0_col2\" class=\"col_heading level0 col2\" >Logistic Regression</th>\n",
       "      <th id=\"T_ba61e_level0_col3\" class=\"col_heading level0 col3\" >SVC</th>\n",
       "      <th id=\"T_ba61e_level0_col4\" class=\"col_heading level0 col4\" >Random Forest</th>\n",
       "    </tr>\n",
       "  </thead>\n",
       "  <tbody>\n",
       "    <tr>\n",
       "      <th id=\"T_ba61e_level0_row0\" class=\"row_heading level0 row0\" >0</th>\n",
       "      <td id=\"T_ba61e_row0_col0\" class=\"data row0 col0\" ></td>\n",
       "      <td id=\"T_ba61e_row0_col1\" class=\"data row0 col1\" >Non-Event (0)</td>\n",
       "      <td id=\"T_ba61e_row0_col2\" class=\"data row0 col2\" >0.509434</td>\n",
       "      <td id=\"T_ba61e_row0_col3\" class=\"data row0 col3\" >0.675676</td>\n",
       "      <td id=\"T_ba61e_row0_col4\" class=\"data row0 col4\" >0.777778</td>\n",
       "    </tr>\n",
       "    <tr>\n",
       "      <th id=\"T_ba61e_level0_row1\" class=\"row_heading level0 row1\" >1</th>\n",
       "      <td id=\"T_ba61e_row1_col0\" class=\"data row1 col0\" >Precision</td>\n",
       "      <td id=\"T_ba61e_row1_col1\" class=\"data row1 col1\" >SI (1)</td>\n",
       "      <td id=\"T_ba61e_row1_col2\" class=\"data row1 col2\" >0.277778</td>\n",
       "      <td id=\"T_ba61e_row1_col3\" class=\"data row1 col3\" >0.333333</td>\n",
       "      <td id=\"T_ba61e_row1_col4\" class=\"data row1 col4\" >0.588235</td>\n",
       "    </tr>\n",
       "    <tr>\n",
       "      <th id=\"T_ba61e_level0_row2\" class=\"row_heading level0 row2\" >2</th>\n",
       "      <td id=\"T_ba61e_row2_col0\" class=\"data row2 col0\" ></td>\n",
       "      <td id=\"T_ba61e_row2_col1\" class=\"data row2 col1\" >SSC (2)</td>\n",
       "      <td id=\"T_ba61e_row2_col2\" class=\"data row2 col2\" >0.478261</td>\n",
       "      <td id=\"T_ba61e_row2_col3\" class=\"data row2 col3\" >0.833333</td>\n",
       "      <td id=\"T_ba61e_row2_col4\" class=\"data row2 col4\" >0.804878</td>\n",
       "    </tr>\n",
       "    <tr>\n",
       "      <th id=\"T_ba61e_level0_row3\" class=\"row_heading level0 row3\" >3</th>\n",
       "      <td id=\"T_ba61e_row3_col0\" class=\"data row3 col0\" ></td>\n",
       "      <td id=\"T_ba61e_row3_col1\" class=\"data row3 col1\" >Non-Event (0)</td>\n",
       "      <td id=\"T_ba61e_row3_col2\" class=\"data row3 col2\" >0.900000</td>\n",
       "      <td id=\"T_ba61e_row3_col3\" class=\"data row3 col3\" >0.833333</td>\n",
       "      <td id=\"T_ba61e_row3_col4\" class=\"data row3 col4\" >0.933333</td>\n",
       "    </tr>\n",
       "    <tr>\n",
       "      <th id=\"T_ba61e_level0_row4\" class=\"row_heading level0 row4\" >4</th>\n",
       "      <td id=\"T_ba61e_row4_col0\" class=\"data row4 col0\" >Recall</td>\n",
       "      <td id=\"T_ba61e_row4_col1\" class=\"data row4 col1\" >SI (1)</td>\n",
       "      <td id=\"T_ba61e_row4_col2\" class=\"data row4 col2\" >0.238095</td>\n",
       "      <td id=\"T_ba61e_row4_col3\" class=\"data row4 col3\" >0.428571</td>\n",
       "      <td id=\"T_ba61e_row4_col4\" class=\"data row4 col4\" >0.476190</td>\n",
       "    </tr>\n",
       "    <tr>\n",
       "      <th id=\"T_ba61e_level0_row5\" class=\"row_heading level0 row5\" >5</th>\n",
       "      <td id=\"T_ba61e_row5_col0\" class=\"data row5 col0\" ></td>\n",
       "      <td id=\"T_ba61e_row5_col1\" class=\"data row5 col1\" >SSC (2)</td>\n",
       "      <td id=\"T_ba61e_row5_col2\" class=\"data row5 col2\" >0.255814</td>\n",
       "      <td id=\"T_ba61e_row5_col3\" class=\"data row5 col3\" >0.581395</td>\n",
       "      <td id=\"T_ba61e_row5_col4\" class=\"data row5 col4\" >0.767442</td>\n",
       "    </tr>\n",
       "    <tr>\n",
       "      <th id=\"T_ba61e_level0_row6\" class=\"row_heading level0 row6\" >6</th>\n",
       "      <td id=\"T_ba61e_row6_col0\" class=\"data row6 col0\" ></td>\n",
       "      <td id=\"T_ba61e_row6_col1\" class=\"data row6 col1\" >Non-Event (0)</td>\n",
       "      <td id=\"T_ba61e_row6_col2\" class=\"data row6 col2\" >0.650602</td>\n",
       "      <td id=\"T_ba61e_row6_col3\" class=\"data row6 col3\" >0.746269</td>\n",
       "      <td id=\"T_ba61e_row6_col4\" class=\"data row6 col4\" >0.848485</td>\n",
       "    </tr>\n",
       "    <tr>\n",
       "      <th id=\"T_ba61e_level0_row7\" class=\"row_heading level0 row7\" >7</th>\n",
       "      <td id=\"T_ba61e_row7_col0\" class=\"data row7 col0\" >F1-Score</td>\n",
       "      <td id=\"T_ba61e_row7_col1\" class=\"data row7 col1\" >SI (1)</td>\n",
       "      <td id=\"T_ba61e_row7_col2\" class=\"data row7 col2\" >0.256410</td>\n",
       "      <td id=\"T_ba61e_row7_col3\" class=\"data row7 col3\" >0.375000</td>\n",
       "      <td id=\"T_ba61e_row7_col4\" class=\"data row7 col4\" >0.526316</td>\n",
       "    </tr>\n",
       "    <tr>\n",
       "      <th id=\"T_ba61e_level0_row8\" class=\"row_heading level0 row8\" >8</th>\n",
       "      <td id=\"T_ba61e_row8_col0\" class=\"data row8 col0\" ></td>\n",
       "      <td id=\"T_ba61e_row8_col1\" class=\"data row8 col1\" >SSC (2)</td>\n",
       "      <td id=\"T_ba61e_row8_col2\" class=\"data row8 col2\" >0.333333</td>\n",
       "      <td id=\"T_ba61e_row8_col3\" class=\"data row8 col3\" >0.684932</td>\n",
       "      <td id=\"T_ba61e_row8_col4\" class=\"data row8 col4\" >0.785714</td>\n",
       "    </tr>\n",
       "  </tbody>\n",
       "</table>\n"
      ],
      "text/plain": [
       "<pandas.io.formats.style.Styler at 0x7f7ce87a3eb0>"
      ]
     },
     "execution_count": 56,
     "metadata": {},
     "output_type": "execute_result"
    }
   ],
   "source": [
    "result_report_df.style.background_gradient(cmap = colmap)"
   ]
  }
 ],
 "metadata": {
  "kernelspec": {
   "display_name": ".venv",
   "language": "python",
   "name": "python3"
  },
  "language_info": {
   "codemirror_mode": {
    "name": "ipython",
    "version": 3
   },
   "file_extension": ".py",
   "mimetype": "text/x-python",
   "name": "python",
   "nbconvert_exporter": "python",
   "pygments_lexer": "ipython3",
   "version": "3.10.12"
  }
 },
 "nbformat": 4,
 "nbformat_minor": 2
}
