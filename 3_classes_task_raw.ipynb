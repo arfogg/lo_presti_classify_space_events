{
 "cells": [
  {
   "cell_type": "markdown",
   "metadata": {},
   "source": [
    "### Multiclass task (non-event vs. SI vs. SSC) on original sequences\n",
    "1. Balance classes: undersample non-events, retaining only as many samples as the majority class between SI and SSC (namely SSC); oversample the minority class by applying SMOTE on the training set.\n",
    "2. Train multi-class classifiers, perform 10 folds cross-validation, and evaluate performances of different classifiers."
   ]
  },
  {
   "cell_type": "code",
   "execution_count": 1,
   "metadata": {},
   "outputs": [],
   "source": [
    "import pandas as pd\n",
    "import os\n",
    "import random \n",
    "import numpy as np\n",
    "from collections import Counter\n",
    "import matplotlib.pyplot as plt\n",
    "plt.style.use('ggplot')\n",
    "import seaborn as sns\n",
    "from sklearn.ensemble import RandomForestClassifier\n",
    "from sklearn.decomposition import PCA\n",
    "from classification_utils import fill_NaN, get_logistic_model, train_logistic_model\n",
    "from sklearn.model_selection import train_test_split\n",
    "from sklearn.metrics import confusion_matrix\n",
    "from sklearn.metrics import precision_score, recall_score, f1_score\n",
    "from sklearn.metrics import accuracy_score, classification_report, precision_recall_fscore_support\n",
    "from imblearn.over_sampling import SMOTE, SVMSMOTE\n",
    "from sklearn.model_selection import KFold\n",
    "from sklearn.svm import SVC\n",
    "from sklearn.model_selection import RepeatedKFold, StratifiedKFold, GridSearchCV\n",
    "from sklearn.utils import shuffle\n",
    "import torch\n",
    "import warnings\n",
    "warnings.filterwarnings('ignore')\n",
    "\n",
    "np.random.seed(2)\n",
    "random.seed(2)\n",
    "torch.manual_seed(2)\n",
    "torch.cuda.manual_seed_all(2)"
   ]
  },
  {
   "cell_type": "markdown",
   "metadata": {},
   "source": [
    "#### Paths"
   ]
  },
  {
   "cell_type": "code",
   "execution_count": 2,
   "metadata": {},
   "outputs": [],
   "source": [
    "ssc_path = 'labelled_data/SSC/'\n",
    "si_path = 'labelled_data/SI/'\n",
    "non_event_path = 'labelled_data/before_event/'\n",
    "multiclass_sample = 'labelled_data/multiclass_sample_SMOTE.txt'"
   ]
  },
  {
   "cell_type": "markdown",
   "metadata": {},
   "source": [
    "### Classification using Raw Data & SMOTE to balance classes"
   ]
  },
  {
   "cell_type": "markdown",
   "metadata": {},
   "source": [
    "#### Get data"
   ]
  },
  {
   "cell_type": "markdown",
   "metadata": {},
   "source": [
    "use always same sample for reproducibility"
   ]
  },
  {
   "cell_type": "code",
   "execution_count": 3,
   "metadata": {},
   "outputs": [
    {
     "name": "stdout",
     "output_type": "stream",
     "text": [
      "SI: 73, SSC: 120\n",
      "Non-events: 120\n"
     ]
    }
   ],
   "source": [
    "if os.path.exists(multiclass_sample):\n",
    "    # if I already extracted a sample, read it\n",
    "    all_seq_data_files = []\n",
    "    with open(multiclass_sample, 'r') as file:\n",
    "        for line in file:\n",
    "            all_seq_data_files.append(line.strip())\n",
    "    print( Counter([all_seq_data_files[i].split('/')[1] for i in range(len(all_seq_data_files))]) )\n",
    "\n",
    "    si_files, ssc_files, random_non_ev_files = [], [], []\n",
    "    for path in all_seq_data_files:\n",
    "        if path.split('/')[1] == 'SI':\n",
    "            si_files.append(path)\n",
    "        elif path.split('/')[1] == 'SSC':\n",
    "            ssc_files.append(path)\n",
    "        elif path.split('/')[1] == 'before_event':\n",
    "            random_non_ev_files.append(path)\n",
    "        else:\n",
    "            raise ValueError('File not belonging to any class!')\n",
    "else:\n",
    "\n",
    "    # get all data files paths\n",
    "    # use all SI and all SSC, and a sample of non-events \n",
    "    si_files = [si_path + item for item in os.listdir(si_path)] \n",
    "    ssc_files = [ssc_path + item for item in os.listdir(ssc_path)] \n",
    "    non_ev_files = [non_event_path + item for item in os.listdir(non_event_path)]\n",
    "\n",
    "    print('SI: {}, SSC: {}'.format(len(si_files), len(ssc_files)))\n",
    "\n",
    "    # number of non-event to random sample (take as many non-events as the majority class between SSC & SI)\n",
    "    sample_non_ev = np.max([len(si_files), len(ssc_files)])\n",
    "    print('Non-events: {}'.format(sample_non_ev))\n",
    "\n",
    "    # SAMPLE NON-EVENT\n",
    "    random_non_ev_files = random.sample(non_ev_files, sample_non_ev)\n",
    "    all_seq_data_files = si_files + ssc_files + random_non_ev_files\n",
    "\n",
    "    # save sampled used to use always the same in the following trials\n",
    "    with open(multiclass_sample, 'w') as file:\n",
    "        for string in all_seq_data_files:\n",
    "            file.write(string + '\\n')"
   ]
  },
  {
   "cell_type": "code",
   "execution_count": 4,
   "metadata": {},
   "outputs": [],
   "source": [
    "# initialize 2D tensors (each row is a different sequence)\n",
    "T = 20*60 + 1 \n",
    "seq_si = torch.zeros(len(si_files), T, dtype=torch.float32)\n",
    "seq_ssc = torch.zeros(len(ssc_files), T, dtype=torch.float32)\n",
    "seq_ne = torch.zeros(len(random_non_ev_files), T, dtype=torch.float32)\n",
    "\n",
    "lab_dict = {'SSC':seq_ssc, 'SI':seq_si, 'before_event':seq_ne} # which tensor to update based on class\n",
    "\n",
    "filling_method = 'linear_interpolation' \n",
    "\n",
    "indx_to_update = {'SSC':0, 'SI':0, 'before_event':0} # index of seq to update in each tensor \n",
    "for e in all_seq_data_files:\n",
    "    # get sequence\n",
    "    df = pd.read_csv(e)\n",
    "    seq = df.sort_values(by=['Date_UTC' if 'Date_UTC' in df.columns else 'Unnamed: 0']).dbn_nez\n",
    "\n",
    "    # get right tensor to fill\n",
    "    sequences_class_x = lab_dict[e.split('/')[1]]\n",
    "    \n",
    "    # deal with NaN\n",
    "    seq_filled = fill_NaN(seq, filling_method)\n",
    "\n",
    "    # convert from np array to pytorch tensor\n",
    "    seq_filled = torch.from_numpy(seq_filled)\n",
    "\n",
    "    # compute columns from which to start filling\n",
    "    starting_col_index = (T - seq_filled.numel()) // 2\n",
    "\n",
    "    # add data to sequences tensor\n",
    "    i = indx_to_update[e.split('/')[1]]\n",
    "    sequences_class_x[i,starting_col_index:starting_col_index + seq_filled.numel()] = seq_filled\n",
    "\n",
    "    # update counter (next row)\n",
    "    indx_to_update[e.split('/')[1]] += 1"
   ]
  },
  {
   "cell_type": "code",
   "execution_count": 5,
   "metadata": {},
   "outputs": [
    {
     "data": {
      "text/plain": [
       "(120, 73, 120)"
      ]
     },
     "execution_count": 5,
     "metadata": {},
     "output_type": "execute_result"
    }
   ],
   "source": [
    "len(seq_ne), len(seq_si), len(seq_ssc)"
   ]
  },
  {
   "cell_type": "code",
   "execution_count": 6,
   "metadata": {},
   "outputs": [],
   "source": [
    "# concat tensors and labels\n",
    "all_seqs = torch.cat([seq_si, seq_ssc, seq_ne], dim=0).numpy()  \n",
    "ys = len(seq_si)*['SI'] + len(seq_ssc)*['SSC'] + len(seq_ne)*['non-event']\n",
    "\n",
    "# to tensor\n",
    "seqs = torch.from_numpy(all_seqs)\n",
    "\n",
    "# labels to tensor + map classes to int\n",
    "# replace str with int code\n",
    "lab_to_int = {'non-event': 0, 'SI': 1, 'SSC': 2}\n",
    "y = list(map(lambda x: lab_to_int[x], ys))\n",
    "# to tensor\n",
    "y = torch.tensor(y)"
   ]
  },
  {
   "cell_type": "markdown",
   "metadata": {},
   "source": [
    "#### Split Train/Test sets"
   ]
  },
  {
   "cell_type": "code",
   "execution_count": 7,
   "metadata": {},
   "outputs": [],
   "source": [
    "# split train and test set\n",
    "X_train, X_test, y_train, y_test = train_test_split(seqs, y, test_size=0.3, shuffle=True, random_state=2)"
   ]
  },
  {
   "cell_type": "code",
   "execution_count": 8,
   "metadata": {},
   "outputs": [
    {
     "data": {
      "text/plain": [
       "(torch.Size([313, 1201]), torch.Size([219, 1201]), torch.Size([94, 1201]))"
      ]
     },
     "execution_count": 8,
     "metadata": {},
     "output_type": "execute_result"
    }
   ],
   "source": [
    "np.shape(seqs), np.shape(X_train), np.shape(X_test)"
   ]
  },
  {
   "cell_type": "markdown",
   "metadata": {},
   "source": [
    "#### Create synthetic sequences using SMOTE\n",
    "Picked as many non-events as the majority class between SSC and SI (aka SSC);\n",
    "use SMOTE (oversampling) to balance the classes.\n",
    "\n",
    "**NOTE**: apply SMOTE only on train set (test set should contain only real sequences)."
   ]
  },
  {
   "cell_type": "code",
   "execution_count": 9,
   "metadata": {},
   "outputs": [],
   "source": [
    "# SMOTE\n",
    "smote = SVMSMOTE(k_neighbors=5, random_state=2)\n",
    "X_train_resampled_np, y_train_resampled_np = smote.fit_resample(X_train, y_train)\n",
    "\n",
    "# to tensor\n",
    "X_train_resampled, y_train_resampled = torch.tensor(X_train_resampled_np), torch.tensor(y_train_resampled_np)"
   ]
  },
  {
   "cell_type": "code",
   "execution_count": 10,
   "metadata": {},
   "outputs": [],
   "source": [
    "# shuffle so that synthetic sequences are not all the end\n",
    "X_train_resampled, y_train_resampled = shuffle(X_train_resampled, y_train_resampled, random_state=2)"
   ]
  },
  {
   "cell_type": "code",
   "execution_count": 11,
   "metadata": {},
   "outputs": [
    {
     "data": {
      "text/plain": [
       "Counter({0: 90, 2: 90, 1: 70})"
      ]
     },
     "execution_count": 11,
     "metadata": {},
     "output_type": "execute_result"
    }
   ],
   "source": [
    "Counter(y_train_resampled_np)"
   ]
  },
  {
   "cell_type": "markdown",
   "metadata": {},
   "source": [
    "#### Standardize data using training mean and variance"
   ]
  },
  {
   "cell_type": "code",
   "execution_count": 12,
   "metadata": {},
   "outputs": [],
   "source": [
    "mu_train = X_train_resampled.mean(dim=0)\n",
    "std_train = X_train_resampled.std(dim=0)\n",
    "\n",
    "Sx_train = (X_train_resampled - mu_train) / std_train\n",
    "Sx_test = (X_test - mu_train) / std_train"
   ]
  },
  {
   "cell_type": "markdown",
   "metadata": {},
   "source": [
    "__________"
   ]
  },
  {
   "cell_type": "markdown",
   "metadata": {},
   "source": [
    "#### Visualization"
   ]
  },
  {
   "cell_type": "code",
   "execution_count": 13,
   "metadata": {},
   "outputs": [],
   "source": [
    "timestep_event = Sx_train[:,T//2 + 1 -1] # 10*60 + 1 = event timestamp\n",
    "timestep_last = Sx_train[:,T -1] # 10*60 + 1 + 10*60 = last timestamp\n",
    "timestep_middle_event = Sx_train[:,int(T//2 + 1 + ((T//2) / 2) -1)] # middle pt between event timestamp and end window"
   ]
  },
  {
   "cell_type": "code",
   "execution_count": 14,
   "metadata": {},
   "outputs": [],
   "source": [
    "feats_df = pd.DataFrame({'timestep_event':timestep_event, 'timestep_middle_event':timestep_middle_event, 'timestep_last':timestep_last, \n",
    "                         'label':y_train_resampled})"
   ]
  },
  {
   "cell_type": "code",
   "execution_count": 15,
   "metadata": {},
   "outputs": [
    {
     "data": {
      "image/png": "[encoded data removed]",
      "text/plain": [
       "<Figure size 640x480 with 1 Axes>"
      ]
     },
     "metadata": {},
     "output_type": "display_data"
    }
   ],
   "source": [
    "plt.scatter(feats_df['timestep_event'], feats_df['timestep_last'], c=feats_df['label'].map({2: 'red', 1: 'red', 0: 'blue'}))\n",
    "\n",
    "plt.xlabel('Event Timestep')\n",
    "plt.ylabel('Last Timestep')\n",
    "plt.legend(handles=[plt.Line2D([0], [0], marker='o', color='w', label='2', markerfacecolor='red', markersize=10),\n",
    "                    plt.Line2D([0], [0], marker='o', color='w', label='1', markerfacecolor='red', markersize=10),\n",
    "                    plt.Line2D([0], [0], marker='o', color='w', label='0', markerfacecolor='blue', markersize=10)])\n",
    "\n",
    "plt.title('events vs non-events')\n",
    "plt.show()"
   ]
  },
  {
   "cell_type": "code",
   "execution_count": 16,
   "metadata": {},
   "outputs": [
    {
     "data": {
      "image/png": "[encoded data removed]",
      "text/plain": [
       "<Figure size 640x480 with 1 Axes>"
      ]
     },
     "metadata": {},
     "output_type": "display_data"
    }
   ],
   "source": [
    "plt.scatter(feats_df['timestep_event'], feats_df['timestep_last'], c=feats_df['label'].map({2: 'green', 1: 'red', 0: 'blue'}))\n",
    "\n",
    "plt.xlabel(r'$B_N$ at event onset')\n",
    "plt.ylabel(r'$B_N$ at event end')\n",
    "plt.legend(handles=[plt.Line2D([0], [0], marker='o', color='w', label='2', markerfacecolor='green', markersize=10),\n",
    "                    plt.Line2D([0], [0], marker='o', color='w', label='1', markerfacecolor='red', markersize=10),\n",
    "                    plt.Line2D([0], [0], marker='o', color='w', label='0', markerfacecolor='blue', markersize=10)])\n",
    "\n",
    "plt.title(r'$B_N$ Intensity Comparison: Beginning vs. End') # SSC (2) va SI (1) vs non-event (0)\n",
    "plt.show()"
   ]
  },
  {
   "cell_type": "code",
   "execution_count": 17,
   "metadata": {},
   "outputs": [
    {
     "data": {
      "image/png": "[encoded data removed]",
      "text/plain": [
       "<Figure size 640x480 with 1 Axes>"
      ]
     },
     "metadata": {},
     "output_type": "display_data"
    }
   ],
   "source": [
    "# columns\n",
    "feat_discriminante = 'timestep_event'\n",
    "feat_y = 'timestep_middle_event' \n",
    "feat_z = 'timestep_last' \n",
    "label = 'label'\n",
    "\n",
    "\n",
    "# 3D plot\n",
    "fig = plt.figure()\n",
    "ax = fig.add_subplot(111, projection='3d')\n",
    "\n",
    "colors = {2: 'green', 1: 'red', 0: 'blue'}\n",
    "\n",
    "for label_name, label_color in colors.items():\n",
    "    subset = feats_df[feats_df[label] == label_name]\n",
    "    ax.scatter(subset[feat_discriminante], subset[feat_y], subset[feat_z], c=label_color, label=label_name)\n",
    "\n",
    "ax.set_xlabel(feat_discriminante)\n",
    "ax.set_ylabel(feat_y)\n",
    "ax.set_zlabel(feat_z)\n",
    "\n",
    "ax.legend()\n",
    "\n",
    "plt.show()\n"
   ]
  },
  {
   "cell_type": "markdown",
   "metadata": {},
   "source": [
    "#### PCA"
   ]
  },
  {
   "cell_type": "code",
   "execution_count": 18,
   "metadata": {},
   "outputs": [
    {
     "name": "stdout",
     "output_type": "stream",
     "text": [
      "Explained variation per principal component: [0.66262954 0.17882052 0.07955409 0.035251   0.01551055 0.01081045\n",
      " 0.00496295 0.00411476 0.00188949 0.00155277]\n"
     ]
    },
    {
     "data": {
      "image/png": "[encoded data removed]",
      "text/plain": [
       "<Figure size 1000x500 with 1 Axes>"
      ]
     },
     "metadata": {},
     "output_type": "display_data"
    }
   ],
   "source": [
    "Sc_all_df = pd.DataFrame(Sx_train)\n",
    "\n",
    "# PCA \n",
    "num_pc = 10\n",
    "pca = PCA(n_components=num_pc) \n",
    "pca_result = pca.fit_transform(Sc_all_df) \n",
    "\n",
    "# put PC in feats_df \n",
    "feats = pd.DataFrame({})\n",
    "feats['pca-one'] = pca_result[:,0]\n",
    "feats['pca-two'] = pca_result[:,1] \n",
    "feats['pca-three'] = pca_result[:,2]\n",
    "\n",
    "print('Explained variation per principal component: {}'.format(pca.explained_variance_ratio_))\n",
    "\n",
    "# plot scatterplot of first PC on x axis and second PC on y axis\n",
    "plt.figure(figsize=(10,5))\n",
    "sns.scatterplot( \n",
    "    x='pca-one', \n",
    "    y='pca-two',\n",
    "    hue=y_train_resampled, \n",
    "    palette=sns.color_palette('Set1', 3),\n",
    "    data=feats,\n",
    "    legend='full')\n",
    "plt.show()"
   ]
  },
  {
   "cell_type": "markdown",
   "metadata": {},
   "source": [
    "______"
   ]
  },
  {
   "cell_type": "markdown",
   "metadata": {},
   "source": [
    "### Classification"
   ]
  },
  {
   "cell_type": "markdown",
   "metadata": {},
   "source": [
    "#### Logistic Regression with 10-folds cross validation"
   ]
  },
  {
   "cell_type": "code",
   "execution_count": 19,
   "metadata": {},
   "outputs": [
    {
     "name": "stdout",
     "output_type": "stream",
     "text": [
      "\n",
      "Fold 1/10:\n",
      "Training:\n",
      "Epoch 0, average loss = 1.150, accuracy = 0.400\n",
      "Epoch 1, average loss = 1.074, accuracy = 0.498\n",
      "Epoch 2, average loss = 1.030, accuracy = 0.467\n",
      "Epoch 3, average loss = 1.002, accuracy = 0.560\n",
      "Epoch 4, average loss = 0.989, accuracy = 0.613\n",
      "Epoch 5, average loss = 0.979, accuracy = 0.604\n",
      "Epoch 6, average loss = 0.970, accuracy = 0.604\n",
      "Epoch 7, average loss = 0.964, accuracy = 0.613\n",
      "Epoch 8, average loss = 0.958, accuracy = 0.618\n",
      "Epoch 9, average loss = 0.952, accuracy = 0.609\n",
      "\n",
      "Validation:\n",
      "Validation, average loss = 1.061, accuracy = 0.480\n",
      "\n",
      "Fold 2/10:\n",
      "Training:\n",
      "Epoch 0, average loss = 1.264, accuracy = 0.329\n",
      "Epoch 1, average loss = 1.106, accuracy = 0.498\n",
      "Epoch 2, average loss = 1.082, accuracy = 0.462\n",
      "Epoch 3, average loss = 1.019, accuracy = 0.573\n",
      "Epoch 4, average loss = 1.028, accuracy = 0.560\n",
      "Epoch 5, average loss = 0.995, accuracy = 0.591\n",
      "Epoch 6, average loss = 0.990, accuracy = 0.627\n",
      "Epoch 7, average loss = 0.986, accuracy = 0.609\n",
      "Epoch 8, average loss = 0.974, accuracy = 0.636\n",
      "Epoch 9, average loss = 0.975, accuracy = 0.609\n",
      "\n",
      "Validation:\n",
      "Validation, average loss = 1.113, accuracy = 0.440\n",
      "\n",
      "Fold 3/10:\n",
      "Training:\n",
      "Epoch 0, average loss = 1.138, accuracy = 0.436\n",
      "Epoch 1, average loss = 1.114, accuracy = 0.373\n",
      "Epoch 2, average loss = 1.089, accuracy = 0.538\n",
      "Epoch 3, average loss = 1.076, accuracy = 0.404\n",
      "Epoch 4, average loss = 1.056, accuracy = 0.560\n",
      "Epoch 5, average loss = 1.028, accuracy = 0.489\n",
      "Epoch 6, average loss = 1.006, accuracy = 0.573\n",
      "Epoch 7, average loss = 0.999, accuracy = 0.520\n",
      "Epoch 8, average loss = 0.997, accuracy = 0.600\n",
      "Epoch 9, average loss = 0.990, accuracy = 0.551\n",
      "\n",
      "Validation:\n",
      "Validation, average loss = 0.895, accuracy = 0.720\n",
      "\n",
      "Fold 4/10:\n",
      "Training:\n",
      "Epoch 0, average loss = 1.150, accuracy = 0.351\n",
      "Epoch 1, average loss = 1.081, accuracy = 0.511\n",
      "Epoch 2, average loss = 1.052, accuracy = 0.440\n",
      "Epoch 3, average loss = 1.014, accuracy = 0.564\n",
      "Epoch 4, average loss = 1.021, accuracy = 0.542\n",
      "Epoch 5, average loss = 0.996, accuracy = 0.573\n",
      "Epoch 6, average loss = 1.000, accuracy = 0.564\n",
      "Epoch 7, average loss = 0.985, accuracy = 0.596\n",
      "Epoch 8, average loss = 0.984, accuracy = 0.604\n",
      "Epoch 9, average loss = 0.977, accuracy = 0.587\n",
      "\n",
      "Validation:\n",
      "Validation, average loss = 0.893, accuracy = 0.680\n",
      "\n",
      "Fold 5/10:\n",
      "Training:\n",
      "Epoch 0, average loss = 1.178, accuracy = 0.484\n",
      "Epoch 1, average loss = 1.084, accuracy = 0.409\n",
      "Epoch 2, average loss = 1.080, accuracy = 0.551\n",
      "Epoch 3, average loss = 1.026, accuracy = 0.520\n",
      "Epoch 4, average loss = 1.024, accuracy = 0.600\n",
      "Epoch 5, average loss = 0.991, accuracy = 0.569\n",
      "Epoch 6, average loss = 0.992, accuracy = 0.596\n",
      "Epoch 7, average loss = 0.968, accuracy = 0.631\n",
      "Epoch 8, average loss = 0.970, accuracy = 0.591\n",
      "Epoch 9, average loss = 0.955, accuracy = 0.604\n",
      "\n",
      "Validation:\n",
      "Validation, average loss = 1.179, accuracy = 0.400\n",
      "\n",
      "Fold 6/10:\n",
      "Training:\n",
      "Epoch 0, average loss = 1.250, accuracy = 0.369\n",
      "Epoch 1, average loss = 1.171, accuracy = 0.453\n",
      "Epoch 2, average loss = 1.152, accuracy = 0.373\n",
      "Epoch 3, average loss = 1.080, accuracy = 0.529\n",
      "Epoch 4, average loss = 1.048, accuracy = 0.458\n",
      "Epoch 5, average loss = 1.028, accuracy = 0.564\n",
      "Epoch 6, average loss = 1.014, accuracy = 0.529\n",
      "Epoch 7, average loss = 0.995, accuracy = 0.604\n",
      "Epoch 8, average loss = 0.985, accuracy = 0.582\n",
      "Epoch 9, average loss = 0.977, accuracy = 0.627\n",
      "\n",
      "Validation:\n",
      "Validation, average loss = 1.047, accuracy = 0.560\n",
      "\n",
      "Fold 7/10:\n",
      "Training:\n",
      "Epoch 0, average loss = 1.163, accuracy = 0.356\n",
      "Epoch 1, average loss = 1.152, accuracy = 0.462\n",
      "Epoch 2, average loss = 1.139, accuracy = 0.396\n",
      "Epoch 3, average loss = 1.109, accuracy = 0.502\n",
      "Epoch 4, average loss = 1.086, accuracy = 0.444\n",
      "Epoch 5, average loss = 1.030, accuracy = 0.551\n",
      "Epoch 6, average loss = 1.016, accuracy = 0.524\n",
      "Epoch 7, average loss = 0.994, accuracy = 0.564\n",
      "Epoch 8, average loss = 0.975, accuracy = 0.591\n",
      "Epoch 9, average loss = 0.969, accuracy = 0.578\n",
      "\n",
      "Validation:\n",
      "Validation, average loss = 1.068, accuracy = 0.480\n",
      "\n",
      "Fold 8/10:\n",
      "Training:\n",
      "Epoch 0, average loss = 1.194, accuracy = 0.440\n",
      "Epoch 1, average loss = 1.115, accuracy = 0.449\n",
      "Epoch 2, average loss = 1.046, accuracy = 0.560\n",
      "Epoch 3, average loss = 1.035, accuracy = 0.440\n",
      "Epoch 4, average loss = 1.017, accuracy = 0.542\n",
      "Epoch 5, average loss = 1.007, accuracy = 0.524\n",
      "Epoch 6, average loss = 0.995, accuracy = 0.578\n",
      "Epoch 7, average loss = 0.986, accuracy = 0.578\n",
      "Epoch 8, average loss = 0.980, accuracy = 0.609\n",
      "Epoch 9, average loss = 0.974, accuracy = 0.613\n",
      "\n",
      "Validation:\n",
      "Validation, average loss = 0.973, accuracy = 0.760\n",
      "\n",
      "Fold 9/10:\n",
      "Training:\n",
      "Epoch 0, average loss = 1.267, accuracy = 0.347\n",
      "Epoch 1, average loss = 1.147, accuracy = 0.520\n",
      "Epoch 2, average loss = 1.156, accuracy = 0.382\n",
      "Epoch 3, average loss = 1.080, accuracy = 0.569\n",
      "Epoch 4, average loss = 1.054, accuracy = 0.467\n",
      "Epoch 5, average loss = 1.009, accuracy = 0.591\n",
      "Epoch 6, average loss = 1.007, accuracy = 0.560\n",
      "Epoch 7, average loss = 0.982, accuracy = 0.613\n",
      "Epoch 8, average loss = 0.993, accuracy = 0.573\n",
      "Epoch 9, average loss = 0.968, accuracy = 0.604\n",
      "\n",
      "Validation:\n",
      "Validation, average loss = 1.247, accuracy = 0.600\n",
      "\n",
      "Fold 10/10:\n",
      "Training:\n",
      "Epoch 0, average loss = 1.176, accuracy = 0.498\n",
      "Epoch 1, average loss = 1.073, accuracy = 0.484\n",
      "Epoch 2, average loss = 1.097, accuracy = 0.502\n",
      "Epoch 3, average loss = 1.051, accuracy = 0.578\n",
      "Epoch 4, average loss = 1.009, accuracy = 0.547\n",
      "Epoch 5, average loss = 0.998, accuracy = 0.604\n",
      "Epoch 6, average loss = 0.984, accuracy = 0.578\n",
      "Epoch 7, average loss = 0.974, accuracy = 0.618\n",
      "Epoch 8, average loss = 0.963, accuracy = 0.613\n",
      "Epoch 9, average loss = 0.958, accuracy = 0.618\n",
      "\n",
      "Validation:\n",
      "Validation, average loss = 1.161, accuracy = 0.320\n"
     ]
    }
   ],
   "source": [
    "def k_fold_cross_validation(X, y, num_folds, num_epochs, batch_size, random_seed=2):\n",
    "    kf = KFold(n_splits=num_folds, shuffle=True, random_state=random_seed)\n",
    "    fold = 0\n",
    "    results = {}\n",
    "\n",
    "    for train_index, val_index in kf.split(X):\n",
    "        # get fold\n",
    "        fold += 1\n",
    "        print(f'\\nFold {fold}/{num_folds}:')\n",
    "\n",
    "        X_train, X_val = X[train_index], X[val_index]\n",
    "        y_train, y_val = y[train_index], y[val_index]\n",
    "\n",
    "\n",
    "        # define logistic regression model\n",
    "        num_input = X_train.shape[-1]\n",
    "        num_classes = y_train.unique().numel()\n",
    "        model, optimizer, criterion = get_logistic_model(num_input, num_classes)\n",
    "\n",
    "        # train model\n",
    "        print('Training:')\n",
    "        n_samples_train = X_train.shape[0]\n",
    "        train_logistic_model(X_train, y_train, model, optimizer, criterion, num_epochs, n_samples_train, batch_size, verbose=True)\n",
    "\n",
    "\n",
    "        # compute accuracy on validation set\n",
    "        print('\\nValidation:')\n",
    "        resp_val = model.forward(X_val)\n",
    "        avg_loss_val = criterion(resp_val, y_val)\n",
    "\n",
    "        y_hat_val = resp_val.argmax(dim=1)\n",
    "        accuracy_val = (y_val == y_hat_val).float().mean()\n",
    "\n",
    "        print('Validation, average loss = {:1.3f}, accuracy = {:1.3f}'.format(avg_loss_val, accuracy_val))\n",
    "\n",
    "        # other metrics\n",
    "        precision = precision_score(y_val, y_hat_val, average='weighted')\n",
    "        recall = recall_score(y_val, y_hat_val, average='weighted')\n",
    "        f1 = f1_score(y_val, y_hat_val, average='weighted')\n",
    "\n",
    "        results[fold] = {'model':model, 'validation_accuracy':accuracy_val.item(),\n",
    "                         'precision':precision, 'recall':recall, 'F1':f1}\n",
    "\n",
    "    return results\n",
    "\n",
    "\n",
    "# 10-folds CV\n",
    "num_folds = 10\n",
    "num_epochs = 10\n",
    "batch_size = 32\n",
    "results = k_fold_cross_validation(Sx_train, y_train_resampled, num_folds, num_epochs, batch_size)"
   ]
  },
  {
   "cell_type": "code",
   "execution_count": 20,
   "metadata": {},
   "outputs": [
    {
     "data": {
      "text/plain": [
       "{1: {'model': Sequential(\n",
       "    (0): Linear(in_features=1201, out_features=3, bias=True)\n",
       "    (1): LogSoftmax(dim=1)\n",
       "  ),\n",
       "  'validation_accuracy': 0.47999998927116394,\n",
       "  'precision': 0.5017142857142857,\n",
       "  'recall': 0.48,\n",
       "  'F1': 0.48666666666666664},\n",
       " 2: {'model': Sequential(\n",
       "    (0): Linear(in_features=1201, out_features=3, bias=True)\n",
       "    (1): LogSoftmax(dim=1)\n",
       "  ),\n",
       "  'validation_accuracy': 0.4399999976158142,\n",
       "  'precision': 0.2911888111888112,\n",
       "  'recall': 0.44,\n",
       "  'F1': 0.35030303030303034},\n",
       " 3: {'model': Sequential(\n",
       "    (0): Linear(in_features=1201, out_features=3, bias=True)\n",
       "    (1): LogSoftmax(dim=1)\n",
       "  ),\n",
       "  'validation_accuracy': 0.7200000286102295,\n",
       "  'precision': 0.7251868131868132,\n",
       "  'recall': 0.72,\n",
       "  'F1': 0.717878787878788},\n",
       " 4: {'model': Sequential(\n",
       "    (0): Linear(in_features=1201, out_features=3, bias=True)\n",
       "    (1): LogSoftmax(dim=1)\n",
       "  ),\n",
       "  'validation_accuracy': 0.6800000071525574,\n",
       "  'precision': 0.6755555555555556,\n",
       "  'recall': 0.68,\n",
       "  'F1': 0.6683333333333334},\n",
       " 5: {'model': Sequential(\n",
       "    (0): Linear(in_features=1201, out_features=3, bias=True)\n",
       "    (1): LogSoftmax(dim=1)\n",
       "  ),\n",
       "  'validation_accuracy': 0.4000000059604645,\n",
       "  'precision': 0.4076190476190476,\n",
       "  'recall': 0.4,\n",
       "  'F1': 0.37923232323232325},\n",
       " 6: {'model': Sequential(\n",
       "    (0): Linear(in_features=1201, out_features=3, bias=True)\n",
       "    (1): LogSoftmax(dim=1)\n",
       "  ),\n",
       "  'validation_accuracy': 0.5600000023841858,\n",
       "  'precision': 0.6066666666666667,\n",
       "  'recall': 0.56,\n",
       "  'F1': 0.5767005749668289},\n",
       " 7: {'model': Sequential(\n",
       "    (0): Linear(in_features=1201, out_features=3, bias=True)\n",
       "    (1): LogSoftmax(dim=1)\n",
       "  ),\n",
       "  'validation_accuracy': 0.47999998927116394,\n",
       "  'precision': 0.584879120879121,\n",
       "  'recall': 0.48,\n",
       "  'F1': 0.47254901960784307},\n",
       " 8: {'model': Sequential(\n",
       "    (0): Linear(in_features=1201, out_features=3, bias=True)\n",
       "    (1): LogSoftmax(dim=1)\n",
       "  ),\n",
       "  'validation_accuracy': 0.7599999904632568,\n",
       "  'precision': 0.8026666666666666,\n",
       "  'recall': 0.76,\n",
       "  'F1': 0.7523076923076922},\n",
       " 9: {'model': Sequential(\n",
       "    (0): Linear(in_features=1201, out_features=3, bias=True)\n",
       "    (1): LogSoftmax(dim=1)\n",
       "  ),\n",
       "  'validation_accuracy': 0.6000000238418579,\n",
       "  'precision': 0.6,\n",
       "  'recall': 0.6,\n",
       "  'F1': 0.5596666666666666},\n",
       " 10: {'model': Sequential(\n",
       "    (0): Linear(in_features=1201, out_features=3, bias=True)\n",
       "    (1): LogSoftmax(dim=1)\n",
       "  ),\n",
       "  'validation_accuracy': 0.3199999928474426,\n",
       "  'precision': 0.47372549019607846,\n",
       "  'recall': 0.32,\n",
       "  'F1': 0.30272727272727273}}"
      ]
     },
     "execution_count": 20,
     "metadata": {},
     "output_type": "execute_result"
    }
   ],
   "source": [
    "results"
   ]
  },
  {
   "cell_type": "code",
   "execution_count": 21,
   "metadata": {},
   "outputs": [
    {
     "name": "stdout",
     "output_type": "stream",
     "text": [
      "Average accuracy (10-folds Cross-Validation): 0.5440000027418137\n",
      "Average precision (10-folds Cross-Validation): 0.5669202457673046\n",
      "Average recall (10-folds Cross-Validation): 0.5439999999999999\n",
      "Average F1 (10-folds Cross-Validation): 0.5266365367690445\n"
     ]
    }
   ],
   "source": [
    "acc, precision, recall, f1 = 0, 0, 0, 0\n",
    "\n",
    "for k in results.keys():\n",
    "    acc += results[k]['validation_accuracy']\n",
    "    precision += results[k]['precision']\n",
    "    recall += results[k]['recall']\n",
    "    f1 += results[k]['F1']\n",
    "\n",
    "print('Average accuracy (10-folds Cross-Validation): {}'.format(acc/num_folds))\n",
    "print('Average precision (10-folds Cross-Validation): {}'.format(precision/num_folds))\n",
    "print('Average recall (10-folds Cross-Validation): {}'.format(recall/num_folds))\n",
    "print('Average F1 (10-folds Cross-Validation): {}'.format(f1/num_folds))"
   ]
  },
  {
   "cell_type": "code",
   "execution_count": 22,
   "metadata": {},
   "outputs": [
    {
     "name": "stdout",
     "output_type": "stream",
     "text": [
      "model with highest recall: fold 8, recall 0.76\n"
     ]
    }
   ],
   "source": [
    "max_recall = 0\n",
    "for k in results.keys():\n",
    "    if results[k]['recall'] > max_recall:\n",
    "        max_recall = results[k]['recall']\n",
    "        new_best_model = k\n",
    "\n",
    "# model with highest recall\n",
    "print('model with highest recall: fold {}, recall {}'.format(new_best_model, \n",
    "                                                             results[new_best_model]['recall'] ))"
   ]
  },
  {
   "cell_type": "code",
   "execution_count": 23,
   "metadata": {},
   "outputs": [
    {
     "name": "stdout",
     "output_type": "stream",
     "text": [
      "Model accuracy:  0.457446813583374\n"
     ]
    }
   ],
   "source": [
    "best_model = results[new_best_model]['model']\n",
    "criterion = torch.nn.NLLLoss() # negative log likelihood loss\n",
    "\n",
    "# TEST SET\n",
    "# accuracy\n",
    "resp = best_model.forward(Sx_test)\n",
    "avg_loss = criterion(resp, y_test)\n",
    "\n",
    "y_hat = resp.argmax(dim=1)\n",
    "acc = (y_test == y_hat).float().mean()\n",
    "\n",
    "print('Model accuracy: ', acc.item())\n",
    "\n",
    "# confusion matrix\n",
    "preds_test = y_hat.numpy()\n",
    "true_test = y_test.numpy()\n",
    "confusion = confusion_matrix(true_test, preds_test)\n",
    "\n",
    "# probabilities of class assignment\n",
    "best_model.eval() \n",
    "with torch.no_grad():\n",
    "    logits = best_model(Sx_test)\n",
    "    probs = torch.softmax(logits, dim=1)"
   ]
  },
  {
   "cell_type": "code",
   "execution_count": 24,
   "metadata": {},
   "outputs": [
    {
     "data": {
      "text/plain": [
       "tensor([[0.3084, 0.1222, 0.5694],\n",
       "        [0.7388, 0.1006, 0.1606],\n",
       "        [0.1415, 0.2541, 0.6043],\n",
       "        [0.1452, 0.4260, 0.4288],\n",
       "        [0.2965, 0.6413, 0.0622],\n",
       "        [0.4271, 0.3897, 0.1832],\n",
       "        [0.5333, 0.1802, 0.2865],\n",
       "        [0.4436, 0.2395, 0.3168],\n",
       "        [0.3942, 0.2659, 0.3399],\n",
       "        [0.2342, 0.1771, 0.5888],\n",
       "        [0.3987, 0.2716, 0.3298],\n",
       "        [0.5884, 0.1147, 0.2969],\n",
       "        [0.5092, 0.0448, 0.4460],\n",
       "        [0.3593, 0.3278, 0.3129],\n",
       "        [0.4325, 0.3362, 0.2312],\n",
       "        [0.2824, 0.4622, 0.2554],\n",
       "        [0.3224, 0.2849, 0.3927],\n",
       "        [0.4019, 0.3413, 0.2568],\n",
       "        [0.3746, 0.2307, 0.3947],\n",
       "        [0.1096, 0.3475, 0.5429],\n",
       "        [0.2039, 0.6234, 0.1728],\n",
       "        [0.3531, 0.2585, 0.3884],\n",
       "        [0.3334, 0.4462, 0.2204],\n",
       "        [0.1855, 0.0823, 0.7323],\n",
       "        [0.2314, 0.2245, 0.5441],\n",
       "        [0.3059, 0.4317, 0.2624],\n",
       "        [0.0640, 0.3269, 0.6091],\n",
       "        [0.4070, 0.2335, 0.3595],\n",
       "        [0.1753, 0.2890, 0.5356],\n",
       "        [0.4106, 0.3831, 0.2064],\n",
       "        [0.4404, 0.4011, 0.1585],\n",
       "        [0.4189, 0.3167, 0.2644],\n",
       "        [0.3922, 0.2593, 0.3485],\n",
       "        [0.3455, 0.3462, 0.3083],\n",
       "        [0.2543, 0.6350, 0.1108],\n",
       "        [0.4125, 0.3133, 0.2743],\n",
       "        [0.4200, 0.4252, 0.1548],\n",
       "        [0.0250, 0.9302, 0.0448],\n",
       "        [0.5948, 0.3608, 0.0444],\n",
       "        [0.4523, 0.4004, 0.1473],\n",
       "        [0.4003, 0.2975, 0.3023],\n",
       "        [0.3348, 0.2902, 0.3750],\n",
       "        [0.4090, 0.2917, 0.2993],\n",
       "        [0.3080, 0.4878, 0.2042],\n",
       "        [0.7064, 0.1156, 0.1780],\n",
       "        [0.8853, 0.1022, 0.0125],\n",
       "        [0.4213, 0.3011, 0.2776],\n",
       "        [0.1334, 0.4687, 0.3979],\n",
       "        [0.3534, 0.3619, 0.2847],\n",
       "        [0.3206, 0.1799, 0.4995],\n",
       "        [0.4474, 0.2447, 0.3079],\n",
       "        [0.4138, 0.2753, 0.3110],\n",
       "        [0.4568, 0.3532, 0.1900],\n",
       "        [0.3392, 0.2755, 0.3853],\n",
       "        [0.4776, 0.3476, 0.1747],\n",
       "        [0.3328, 0.3219, 0.3453],\n",
       "        [0.4149, 0.2793, 0.3058],\n",
       "        [0.4071, 0.3099, 0.2831],\n",
       "        [0.7088, 0.1862, 0.1049],\n",
       "        [0.5496, 0.3583, 0.0921],\n",
       "        [0.4821, 0.2252, 0.2927],\n",
       "        [0.1871, 0.3527, 0.4602],\n",
       "        [0.3701, 0.2913, 0.3386],\n",
       "        [0.3096, 0.2598, 0.4306],\n",
       "        [0.6493, 0.2542, 0.0966],\n",
       "        [0.6478, 0.1047, 0.2476],\n",
       "        [0.5606, 0.1539, 0.2855],\n",
       "        [0.3298, 0.4744, 0.1957],\n",
       "        [0.4046, 0.3060, 0.2894],\n",
       "        [0.3460, 0.3821, 0.2719],\n",
       "        [0.3024, 0.0162, 0.6815],\n",
       "        [0.4269, 0.4040, 0.1691],\n",
       "        [0.4189, 0.3300, 0.2511],\n",
       "        [0.4103, 0.2532, 0.3365],\n",
       "        [0.3256, 0.2850, 0.3894],\n",
       "        [0.3696, 0.2707, 0.3597],\n",
       "        [0.4157, 0.3482, 0.2361],\n",
       "        [0.9766, 0.0185, 0.0048],\n",
       "        [0.8245, 0.1191, 0.0564],\n",
       "        [0.2764, 0.2981, 0.4255],\n",
       "        [0.2848, 0.1119, 0.6033],\n",
       "        [0.4093, 0.2713, 0.3193],\n",
       "        [0.1797, 0.5857, 0.2346],\n",
       "        [0.1245, 0.5633, 0.3121],\n",
       "        [0.4333, 0.3646, 0.2021],\n",
       "        [0.4043, 0.3047, 0.2910],\n",
       "        [0.2646, 0.3362, 0.3992],\n",
       "        [0.4267, 0.3146, 0.2587],\n",
       "        [0.4069, 0.3156, 0.2775],\n",
       "        [0.2895, 0.4638, 0.2467],\n",
       "        [0.2787, 0.5178, 0.2035],\n",
       "        [0.3495, 0.2117, 0.4388],\n",
       "        [0.3985, 0.2834, 0.3180],\n",
       "        [0.7377, 0.1123, 0.1500]])"
      ]
     },
     "execution_count": 24,
     "metadata": {},
     "output_type": "execute_result"
    }
   ],
   "source": [
    "probs"
   ]
  },
  {
   "cell_type": "code",
   "execution_count": 25,
   "metadata": {},
   "outputs": [
    {
     "data": {
      "text/plain": [
       "array([[26,  2,  2],\n",
       "       [ 6,  5, 10],\n",
       "       [20, 11, 12]])"
      ]
     },
     "execution_count": 25,
     "metadata": {},
     "output_type": "execute_result"
    }
   ],
   "source": [
    "confusion"
   ]
  },
  {
   "cell_type": "code",
   "execution_count": 26,
   "metadata": {},
   "outputs": [
    {
     "data": {
      "text/plain": [
       "Counter({2: 43, 0: 30, 1: 21})"
      ]
     },
     "execution_count": 26,
     "metadata": {},
     "output_type": "execute_result"
    }
   ],
   "source": [
    "Counter(y_test.numpy())"
   ]
  },
  {
   "cell_type": "code",
   "execution_count": 27,
   "metadata": {},
   "outputs": [
    {
     "data": {
      "image/png": "[encoded data removed]",
      "text/plain": [
       "<Figure size 640x480 with 1 Axes>"
      ]
     },
     "metadata": {},
     "output_type": "display_data"
    }
   ],
   "source": [
    "def plot_confusion_matrix(confusion):\n",
    "    plt.figure()\n",
    "    plt.imshow(confusion, cmap='viridis') \n",
    "\n",
    "    num_classes = confusion.shape[0]\n",
    "    tick_locs = np.arange(num_classes)\n",
    "    ticks = ['{}'.format(i) for i in range(num_classes)]\n",
    "\n",
    "    plt.xticks(tick_locs, ticks)\n",
    "    plt.yticks(tick_locs, ticks)\n",
    "\n",
    "    plt.ylabel('True')\n",
    "    plt.xlabel('Predicted')\n",
    "\n",
    "    for i in range(num_classes):\n",
    "        for j in range(num_classes):\n",
    "            lab = f'{confusion[i, j]}'\n",
    "\n",
    "            plt.text(j, i, lab, ha='center', va='center', color='black', fontsize=15, bbox=dict(boxstyle='round', fc='w'))\n",
    "\n",
    "    plt.title('Confusion Matrix')\n",
    "    plt.show()\n",
    "\n",
    "\n",
    "plot_confusion_matrix(confusion)\n"
   ]
  },
  {
   "cell_type": "code",
   "execution_count": 28,
   "metadata": {},
   "outputs": [
    {
     "data": {
      "text/plain": [
       "{'non-event': 0, 'SI': 1, 'SSC': 2}"
      ]
     },
     "execution_count": 28,
     "metadata": {},
     "output_type": "execute_result"
    }
   ],
   "source": [
    "lab_to_int # SI have the most problematic prediction"
   ]
  },
  {
   "cell_type": "code",
   "execution_count": 29,
   "metadata": {},
   "outputs": [
    {
     "name": "stdout",
     "output_type": "stream",
     "text": [
      "Precision: 0.45035460992907805\n",
      "Recall: 0.4574468085106383\n",
      "F1: 0.42353181599090095\n"
     ]
    }
   ],
   "source": [
    "precision = precision_score(true_test, preds_test, average='weighted')\n",
    "recall = recall_score(true_test, preds_test, average='weighted')\n",
    "f1 = f1_score(true_test, preds_test, average='weighted')\n",
    "\n",
    "print('Precision: {}\\nRecall: {}\\nF1: {}'.format(precision,recall,f1))"
   ]
  },
  {
   "cell_type": "code",
   "execution_count": 30,
   "metadata": {},
   "outputs": [
    {
     "name": "stdout",
     "output_type": "stream",
     "text": [
      "\t\tNon-Event (0)  SI (1)  SSC (2)\n",
      "Precision:\t[0.5        0.27777778 0.5       ]\n",
      "Recall:\t\t[0.86666667 0.23809524 0.27906977]\n",
      "F1:\t\t[0.63414634 0.25641026 0.35820896]\n"
     ]
    }
   ],
   "source": [
    "print('\\t\\tNon-Event (0)  SI (1)  SSC (2)\\nPrecision:\\t{}\\nRecall:\\t\\t{}\\nF1:\\t\\t{}'.format(\n",
    "                                                                                    precision_score(true_test, preds_test, average=None),\n",
    "                                                                                    recall_score(true_test, preds_test, average=None),\n",
    "                                                                                    f1_score(true_test, preds_test, average=None)))"
   ]
  },
  {
   "cell_type": "code",
   "execution_count": 31,
   "metadata": {},
   "outputs": [],
   "source": [
    "acc_log_reg_full = accuracy_score(true_test, preds_test)"
   ]
  },
  {
   "cell_type": "code",
   "execution_count": 32,
   "metadata": {},
   "outputs": [
    {
     "data": {
      "text/plain": [
       "(array([0.5       , 0.27777778, 0.5       ]),\n",
       " array([0.86666667, 0.23809524, 0.27906977]),\n",
       " array([0.63414634, 0.25641026, 0.35820896]),\n",
       " array([30, 21, 43]))"
      ]
     },
     "execution_count": 32,
     "metadata": {},
     "output_type": "execute_result"
    }
   ],
   "source": [
    "precision_log_reg_full, recall_log_reg_full, f1_score_log_reg_full, support_log_reg_full = precision_recall_fscore_support(true_test, preds_test)\n",
    "precision_log_reg_full, recall_log_reg_full, f1_score_log_reg_full, support_log_reg_full "
   ]
  },
  {
   "cell_type": "markdown",
   "metadata": {},
   "source": [
    "___________"
   ]
  },
  {
   "cell_type": "markdown",
   "metadata": {},
   "source": [
    "#### Support Vector Classifier with Grid Search and 10-folds cross validation"
   ]
  },
  {
   "cell_type": "code",
   "execution_count": 33,
   "metadata": {},
   "outputs": [
    {
     "data": {
      "text/plain": [
       "{'C': 10.0,\n",
       " 'class_weight': {0: 1, 1: 1.5, 2: 1.2},\n",
       " 'gamma': 'scale',\n",
       " 'kernel': 'rbf'}"
      ]
     },
     "execution_count": 33,
     "metadata": {},
     "output_type": "execute_result"
    }
   ],
   "source": [
    "# SVC parameters\n",
    "param_grid = { \n",
    "        'C': [ 0.1,  1. , 2., 10. ], # regularization\n",
    "        'class_weight':[{0:1, 1:2.2, 2:1},\n",
    "                        {0:1, # class : weight\n",
    "                         1:2, # give weight 2 to class 1 (SI event), and weight 1 to the other two, since SI are the most misclassified\n",
    "                         2:1},  \n",
    "                        {0:1, 1:1.5, 2:1.2},\n",
    "                        {0:1, 1:2, 2:1.5}\n",
    "                        ],\n",
    "        'kernel': ['poly', 'rbf', 'sigmoid'],\n",
    "        'gamma': ['scale', 'auto'] # kernel coefficent for poly, rbf, sigmoid\n",
    "        }\n",
    "\n",
    "\n",
    "# 10 folds CV\n",
    "n_splits, n_repeats = 10, 5\n",
    "cv = RepeatedKFold(n_splits=n_splits, n_repeats=n_repeats, random_state=2)\n",
    "grid_search = GridSearchCV(estimator=SVC(), \n",
    "                            param_grid=param_grid, \n",
    "                            scoring='accuracy', \n",
    "                            refit='accuracy', \n",
    "                            n_jobs=-1, \n",
    "                            cv=cv)\n",
    "gridCV = grid_search.fit(Sx_train, y_train_resampled)\n",
    "gridCV.best_params_"
   ]
  },
  {
   "cell_type": "code",
   "execution_count": 34,
   "metadata": {},
   "outputs": [],
   "source": [
    "svc = SVC(**gridCV.best_params_, probability=True).fit(Sx_train, y_train_resampled)"
   ]
  },
  {
   "cell_type": "code",
   "execution_count": 35,
   "metadata": {},
   "outputs": [
    {
     "data": {
      "text/plain": [
       "array([[29,  0,  1],\n",
       "       [ 9,  6,  6],\n",
       "       [ 7, 10, 26]])"
      ]
     },
     "execution_count": 35,
     "metadata": {},
     "output_type": "execute_result"
    }
   ],
   "source": [
    "svm_preds = svc.predict(Sx_test)\n",
    "confusion = confusion_matrix(y_test, svm_preds)\n",
    "confusion"
   ]
  },
  {
   "cell_type": "code",
   "execution_count": 36,
   "metadata": {},
   "outputs": [
    {
     "data": {
      "text/plain": [
       "array([[1.31295153e-03, 4.15977203e-02, 9.57089328e-01],\n",
       "       [1.19132734e-04, 1.15081422e-02, 9.88372725e-01],\n",
       "       [1.54024518e-04, 4.01033456e-01, 5.98812519e-01],\n",
       "       [7.18714672e-05, 5.74435583e-02, 9.42484570e-01],\n",
       "       [2.91998272e-02, 3.19091299e-01, 6.51708874e-01],\n",
       "       [7.62293341e-01, 1.56367787e-01, 8.13388721e-02],\n",
       "       [6.09784860e-01, 8.61748122e-02, 3.04040328e-01],\n",
       "       [3.56823408e-01, 7.24074371e-02, 5.70769155e-01],\n",
       "       [5.70706964e-01, 2.66051133e-01, 1.63241903e-01],\n",
       "       [2.76450775e-02, 1.42844386e-02, 9.58070484e-01],\n",
       "       [3.46202782e-01, 2.86194958e-01, 3.67602260e-01],\n",
       "       [2.21365164e-01, 2.43602435e-02, 7.54274593e-01],\n",
       "       [2.55455120e-03, 7.23972193e-02, 9.25048229e-01],\n",
       "       [3.59438013e-02, 4.03109426e-01, 5.60946772e-01],\n",
       "       [7.65975496e-01, 1.11098755e-01, 1.22925749e-01],\n",
       "       [8.60489841e-02, 5.56403231e-01, 3.57547785e-01],\n",
       "       [5.64970145e-02, 4.99607873e-01, 4.43895113e-01],\n",
       "       [6.96570335e-01, 1.70775939e-01, 1.32653726e-01],\n",
       "       [6.05696551e-01, 1.16291862e-01, 2.78011587e-01],\n",
       "       [9.18274414e-05, 5.48118692e-01, 4.51789480e-01],\n",
       "       [2.14425344e-02, 3.13163011e-01, 6.65394454e-01],\n",
       "       [5.43613138e-01, 2.02888934e-01, 2.53497928e-01],\n",
       "       [5.04363070e-01, 3.73717408e-01, 1.21919522e-01],\n",
       "       [7.51465880e-01, 6.90525857e-02, 1.79481534e-01],\n",
       "       [1.69549443e-02, 9.48285661e-02, 8.88216490e-01],\n",
       "       [2.77483096e-01, 4.99496625e-01, 2.23020278e-01],\n",
       "       [6.59879245e-04, 1.44921242e-01, 8.54418878e-01],\n",
       "       [2.35520298e-02, 8.02798561e-02, 8.96168114e-01],\n",
       "       [9.42555468e-03, 3.04839939e-01, 6.85734506e-01],\n",
       "       [5.61374700e-01, 2.23175858e-01, 2.15449441e-01],\n",
       "       [5.32827928e-03, 1.03690255e-01, 8.90981466e-01],\n",
       "       [8.25865013e-01, 1.05686502e-01, 6.84484851e-02],\n",
       "       [5.91698328e-01, 2.55647378e-01, 1.52654293e-01],\n",
       "       [3.62137169e-01, 3.14794419e-01, 3.23068412e-01],\n",
       "       [1.28142370e-01, 6.89703864e-01, 1.82153766e-01],\n",
       "       [7.15836866e-01, 1.60127413e-01, 1.24035720e-01],\n",
       "       [7.33796417e-01, 1.93036693e-01, 7.31668902e-02],\n",
       "       [3.33010804e-04, 9.38856105e-02, 9.05781379e-01],\n",
       "       [2.84369826e-01, 2.94124010e-01, 4.21506164e-01],\n",
       "       [6.59375931e-01, 2.68410972e-01, 7.22130966e-02],\n",
       "       [6.05690207e-01, 2.40789027e-01, 1.53520766e-01],\n",
       "       [1.35704535e-01, 3.19487024e-01, 5.44808441e-01],\n",
       "       [6.64249403e-01, 2.13001012e-01, 1.22749586e-01],\n",
       "       [2.29413045e-02, 3.89670459e-01, 5.87388237e-01],\n",
       "       [5.15918934e-03, 3.72131792e-02, 9.57627631e-01],\n",
       "       [1.74976699e-03, 1.51375192e-01, 8.46875041e-01],\n",
       "       [7.52077387e-01, 1.40975941e-01, 1.06946673e-01],\n",
       "       [1.44579937e-04, 6.16945879e-02, 9.38160832e-01],\n",
       "       [2.28430845e-01, 3.02240445e-01, 4.69328709e-01],\n",
       "       [5.07520977e-01, 3.04413429e-02, 4.62037680e-01],\n",
       "       [7.99926899e-01, 1.21802745e-01, 7.82703560e-02],\n",
       "       [2.00132655e-01, 1.09689894e-01, 6.90177450e-01],\n",
       "       [8.47304991e-01, 1.10714675e-01, 4.19803336e-02],\n",
       "       [2.39348728e-01, 4.71537331e-01, 2.89113942e-01],\n",
       "       [7.73813009e-01, 8.96463923e-02, 1.36540598e-01],\n",
       "       [2.39616100e-01, 3.32245626e-01, 4.28138274e-01],\n",
       "       [6.40516110e-01, 2.27268954e-01, 1.32214936e-01],\n",
       "       [6.92942920e-01, 1.76197596e-01, 1.30859483e-01],\n",
       "       [1.90501792e-01, 2.80029343e-01, 5.29468865e-01],\n",
       "       [3.87326455e-03, 1.16849442e-01, 8.79277293e-01],\n",
       "       [8.14092107e-01, 1.32137619e-01, 5.37702746e-02],\n",
       "       [2.41262437e-03, 3.91476240e-01, 6.06111136e-01],\n",
       "       [4.75658831e-01, 3.61981461e-01, 1.62359708e-01],\n",
       "       [5.43401165e-02, 2.39770863e-01, 7.05889021e-01],\n",
       "       [4.85778324e-02, 2.25895450e-01, 7.25526718e-01],\n",
       "       [9.67824283e-01, 2.60220863e-02, 6.15363039e-03],\n",
       "       [8.55195922e-01, 5.94936087e-02, 8.53104697e-02],\n",
       "       [2.63004815e-01, 5.54757495e-01, 1.82237690e-01],\n",
       "       [6.61235088e-01, 2.00867089e-01, 1.37897822e-01],\n",
       "       [4.83667982e-01, 3.32864321e-01, 1.83467697e-01],\n",
       "       [6.08245693e-05, 1.09227629e-02, 9.89016412e-01],\n",
       "       [7.84234760e-01, 1.38462002e-01, 7.73032373e-02],\n",
       "       [7.80916149e-01, 1.22384270e-01, 9.66995812e-02],\n",
       "       [1.58928351e-01, 2.49400550e-01, 5.91671099e-01],\n",
       "       [7.85654734e-02, 1.61587141e-01, 7.59847386e-01],\n",
       "       [4.75958049e-01, 3.19986718e-01, 2.04055232e-01],\n",
       "       [7.87858033e-01, 1.28657847e-01, 8.34841200e-02],\n",
       "       [2.75618643e-03, 1.46427300e-01, 8.50816514e-01],\n",
       "       [1.74508603e-01, 1.68113724e-01, 6.57377673e-01],\n",
       "       [9.23957720e-03, 4.90601391e-01, 5.00159032e-01],\n",
       "       [1.10718824e-03, 1.20714439e-01, 8.78178373e-01],\n",
       "       [6.98321956e-01, 1.38986678e-01, 1.62691367e-01],\n",
       "       [5.21531203e-04, 2.95691031e-01, 7.03787437e-01],\n",
       "       [5.60071654e-04, 3.09356644e-01, 6.90083284e-01],\n",
       "       [7.70922727e-01, 1.67868045e-01, 6.12092285e-02],\n",
       "       [1.64278790e-01, 1.91557812e-01, 6.44163398e-01],\n",
       "       [2.72993555e-02, 5.49750174e-01, 4.22950471e-01],\n",
       "       [8.39685096e-01, 8.86132495e-02, 7.17016548e-02],\n",
       "       [7.17939916e-01, 1.58950845e-01, 1.23109239e-01],\n",
       "       [1.30789730e-01, 6.23228618e-01, 2.45981652e-01],\n",
       "       [8.22904434e-02, 5.92442409e-01, 3.25267148e-01],\n",
       "       [5.97324382e-01, 4.49711449e-02, 3.57704473e-01],\n",
       "       [7.49054399e-02, 2.34610459e-01, 6.90484101e-01],\n",
       "       [9.17787611e-05, 1.01481572e-02, 9.89760064e-01]])"
      ]
     },
     "execution_count": 36,
     "metadata": {},
     "output_type": "execute_result"
    }
   ],
   "source": [
    "# probabilities class assignment\n",
    "svc_probs = svc.predict_proba(Sx_test)\n",
    "svc_probs"
   ]
  },
  {
   "cell_type": "code",
   "execution_count": 37,
   "metadata": {},
   "outputs": [
    {
     "data": {
      "image/png": "[encoded data removed]",
      "text/plain": [
       "<Figure size 640x480 with 1 Axes>"
      ]
     },
     "metadata": {},
     "output_type": "display_data"
    }
   ],
   "source": [
    "plot_confusion_matrix(confusion)"
   ]
  },
  {
   "cell_type": "code",
   "execution_count": 38,
   "metadata": {},
   "outputs": [
    {
     "name": "stdout",
     "output_type": "stream",
     "text": [
      "Accuracy on Test Set: 0.648936170212766\n"
     ]
    }
   ],
   "source": [
    "print('Accuracy on Test Set: {}'.format(accuracy_score(y_test, svm_preds)))"
   ]
  },
  {
   "cell_type": "code",
   "execution_count": 39,
   "metadata": {},
   "outputs": [
    {
     "name": "stdout",
     "output_type": "stream",
     "text": [
      "Precision: 0.6498629916183107\n",
      "Recall: 0.648936170212766\n",
      "F1: 0.6322538664084018\n"
     ]
    }
   ],
   "source": [
    "precision = precision_score(y_test, svm_preds, average='weighted')\n",
    "recall = recall_score(y_test, svm_preds, average='weighted')\n",
    "f1 = f1_score(y_test, svm_preds, average='weighted')\n",
    "\n",
    "print('Precision: {}\\nRecall: {}\\nF1: {}'.format(precision,recall,f1))"
   ]
  },
  {
   "cell_type": "code",
   "execution_count": 40,
   "metadata": {},
   "outputs": [
    {
     "name": "stdout",
     "output_type": "stream",
     "text": [
      "\t\tNon-Event (0)  SI (1)  SSC (2)\n",
      "Precision:\t[0.64444444 0.375      0.78787879]\n",
      "Recall:\t\t[0.96666667 0.28571429 0.60465116]\n",
      "F1:\t\t[0.77333333 0.32432432 0.68421053]\n"
     ]
    }
   ],
   "source": [
    "print('\\t\\tNon-Event (0)  SI (1)  SSC (2)\\nPrecision:\\t{}\\nRecall:\\t\\t{}\\nF1:\\t\\t{}'.format(\n",
    "                                                                                    precision_score(y_test, svm_preds, average=None),\n",
    "                                                                                    recall_score(y_test, svm_preds, average=None),\n",
    "                                                                                    f1_score(y_test, svm_preds, average=None)))"
   ]
  },
  {
   "cell_type": "code",
   "execution_count": 41,
   "metadata": {},
   "outputs": [
    {
     "name": "stdout",
     "output_type": "stream",
     "text": [
      "              precision    recall  f1-score   support\n",
      "\n",
      "           0       0.64      0.97      0.77        30\n",
      "           1       0.38      0.29      0.32        21\n",
      "           2       0.79      0.60      0.68        43\n",
      "\n",
      "    accuracy                           0.65        94\n",
      "   macro avg       0.60      0.62      0.59        94\n",
      "weighted avg       0.65      0.65      0.63        94\n",
      "\n"
     ]
    }
   ],
   "source": [
    "print(classification_report(y_test, svm_preds))"
   ]
  },
  {
   "cell_type": "code",
   "execution_count": 42,
   "metadata": {},
   "outputs": [
    {
     "data": {
      "text/plain": [
       "(array([0.64444444, 0.375     , 0.78787879]),\n",
       " array([0.96666667, 0.28571429, 0.60465116]),\n",
       " array([0.77333333, 0.32432432, 0.68421053]),\n",
       " array([30, 21, 43]))"
      ]
     },
     "execution_count": 42,
     "metadata": {},
     "output_type": "execute_result"
    }
   ],
   "source": [
    "acc_svc_full = accuracy_score(y_test, svm_preds)\n",
    "precision_svc_full, recall_svc_full, f1_score_svc_full, support_svc_full = precision_recall_fscore_support(y_test, svm_preds)\n",
    "precision_svc_full, recall_svc_full, f1_score_svc_full, support_svc_full"
   ]
  },
  {
   "cell_type": "markdown",
   "metadata": {},
   "source": [
    "__________"
   ]
  },
  {
   "cell_type": "markdown",
   "metadata": {},
   "source": [
    "#### Random Forest with Grid Search opt and 10 folds CV"
   ]
  },
  {
   "cell_type": "code",
   "execution_count": 43,
   "metadata": {},
   "outputs": [
    {
     "data": {
      "text/html": [
       "<style>#sk-container-id-1 {color: black;}#sk-container-id-1 pre{padding: 0;}#sk-container-id-1 div.sk-toggleable {background-color: white;}#sk-container-id-1 label.sk-toggleable__label {cursor: pointer;display: block;width: 100%;margin-bottom: 0;padding: 0.3em;box-sizing: border-box;text-align: center;}#sk-container-id-1 label.sk-toggleable__label-arrow:before {content: \"▸\";float: left;margin-right: 0.25em;color: #696969;}#sk-container-id-1 label.sk-toggleable__label-arrow:hover:before {color: black;}#sk-container-id-1 div.sk-estimator:hover label.sk-toggleable__label-arrow:before {color: black;}#sk-container-id-1 div.sk-toggleable__content {max-height: 0;max-width: 0;overflow: hidden;text-align: left;background-color: #f0f8ff;}#sk-container-id-1 div.sk-toggleable__content pre {margin: 0.2em;color: black;border-radius: 0.25em;background-color: #f0f8ff;}#sk-container-id-1 input.sk-toggleable__control:checked~div.sk-toggleable__content {max-height: 200px;max-width: 100%;overflow: auto;}#sk-container-id-1 input.sk-toggleable__control:checked~label.sk-toggleable__label-arrow:before {content: \"▾\";}#sk-container-id-1 div.sk-estimator input.sk-toggleable__control:checked~label.sk-toggleable__label {background-color: #d4ebff;}#sk-container-id-1 div.sk-label input.sk-toggleable__control:checked~label.sk-toggleable__label {background-color: #d4ebff;}#sk-container-id-1 input.sk-hidden--visually {border: 0;clip: rect(1px 1px 1px 1px);clip: rect(1px, 1px, 1px, 1px);height: 1px;margin: -1px;overflow: hidden;padding: 0;position: absolute;width: 1px;}#sk-container-id-1 div.sk-estimator {font-family: monospace;background-color: #f0f8ff;border: 1px dotted black;border-radius: 0.25em;box-sizing: border-box;margin-bottom: 0.5em;}#sk-container-id-1 div.sk-estimator:hover {background-color: #d4ebff;}#sk-container-id-1 div.sk-parallel-item::after {content: \"\";width: 100%;border-bottom: 1px solid gray;flex-grow: 1;}#sk-container-id-1 div.sk-label:hover label.sk-toggleable__label {background-color: #d4ebff;}#sk-container-id-1 div.sk-serial::before {content: \"\";position: absolute;border-left: 1px solid gray;box-sizing: border-box;top: 0;bottom: 0;left: 50%;z-index: 0;}#sk-container-id-1 div.sk-serial {display: flex;flex-direction: column;align-items: center;background-color: white;padding-right: 0.2em;padding-left: 0.2em;position: relative;}#sk-container-id-1 div.sk-item {position: relative;z-index: 1;}#sk-container-id-1 div.sk-parallel {display: flex;align-items: stretch;justify-content: center;background-color: white;position: relative;}#sk-container-id-1 div.sk-item::before, #sk-container-id-1 div.sk-parallel-item::before {content: \"\";position: absolute;border-left: 1px solid gray;box-sizing: border-box;top: 0;bottom: 0;left: 50%;z-index: -1;}#sk-container-id-1 div.sk-parallel-item {display: flex;flex-direction: column;z-index: 1;position: relative;background-color: white;}#sk-container-id-1 div.sk-parallel-item:first-child::after {align-self: flex-end;width: 50%;}#sk-container-id-1 div.sk-parallel-item:last-child::after {align-self: flex-start;width: 50%;}#sk-container-id-1 div.sk-parallel-item:only-child::after {width: 0;}#sk-container-id-1 div.sk-dashed-wrapped {border: 1px dashed gray;margin: 0 0.4em 0.5em 0.4em;box-sizing: border-box;padding-bottom: 0.4em;background-color: white;}#sk-container-id-1 div.sk-label label {font-family: monospace;font-weight: bold;display: inline-block;line-height: 1.2em;}#sk-container-id-1 div.sk-label-container {text-align: center;}#sk-container-id-1 div.sk-container {/* jupyter's `normalize.less` sets `[hidden] { display: none; }` but bootstrap.min.css set `[hidden] { display: none !important; }` so we also need the `!important` here to be able to override the default hidden behavior on the sphinx rendered scikit-learn.org. See: https://github.com/scikit-learn/scikit-learn/issues/21755 */display: inline-block !important;position: relative;}#sk-container-id-1 div.sk-text-repr-fallback {display: none;}</style><div id=\"sk-container-id-1\" class=\"sk-top-container\"><div class=\"sk-text-repr-fallback\"><pre>GridSearchCV(cv=StratifiedKFold(n_splits=10, random_state=2, shuffle=True),\n",
       "             estimator=RandomForestClassifier(random_state=2), n_jobs=-1,\n",
       "             param_grid={&#x27;bootstrap&#x27;: [True, False],\n",
       "                         &#x27;min_samples_leaf&#x27;: [1, 2, 4],\n",
       "                         &#x27;min_samples_split&#x27;: [2, 5, 10],\n",
       "                         &#x27;n_estimators&#x27;: [50, 100, 150]},\n",
       "             scoring=&#x27;accuracy&#x27;)</pre><b>In a Jupyter environment, please rerun this cell to show the HTML representation or trust the notebook. <br />On GitHub, the HTML representation is unable to render, please try loading this page with nbviewer.org.</b></div><div class=\"sk-container\" hidden><div class=\"sk-item sk-dashed-wrapped\"><div class=\"sk-label-container\"><div class=\"sk-label sk-toggleable\"><input class=\"sk-toggleable__control sk-hidden--visually\" id=\"sk-estimator-id-1\" type=\"checkbox\" ><label for=\"sk-estimator-id-1\" class=\"sk-toggleable__label sk-toggleable__label-arrow\">GridSearchCV</label><div class=\"sk-toggleable__content\"><pre>GridSearchCV(cv=StratifiedKFold(n_splits=10, random_state=2, shuffle=True),\n",
       "             estimator=RandomForestClassifier(random_state=2), n_jobs=-1,\n",
       "             param_grid={&#x27;bootstrap&#x27;: [True, False],\n",
       "                         &#x27;min_samples_leaf&#x27;: [1, 2, 4],\n",
       "                         &#x27;min_samples_split&#x27;: [2, 5, 10],\n",
       "                         &#x27;n_estimators&#x27;: [50, 100, 150]},\n",
       "             scoring=&#x27;accuracy&#x27;)</pre></div></div></div><div class=\"sk-parallel\"><div class=\"sk-parallel-item\"><div class=\"sk-item\"><div class=\"sk-label-container\"><div class=\"sk-label sk-toggleable\"><input class=\"sk-toggleable__control sk-hidden--visually\" id=\"sk-estimator-id-2\" type=\"checkbox\" ><label for=\"sk-estimator-id-2\" class=\"sk-toggleable__label sk-toggleable__label-arrow\">estimator: RandomForestClassifier</label><div class=\"sk-toggleable__content\"><pre>RandomForestClassifier(random_state=2)</pre></div></div></div><div class=\"sk-serial\"><div class=\"sk-item\"><div class=\"sk-estimator sk-toggleable\"><input class=\"sk-toggleable__control sk-hidden--visually\" id=\"sk-estimator-id-3\" type=\"checkbox\" ><label for=\"sk-estimator-id-3\" class=\"sk-toggleable__label sk-toggleable__label-arrow\">RandomForestClassifier</label><div class=\"sk-toggleable__content\"><pre>RandomForestClassifier(random_state=2)</pre></div></div></div></div></div></div></div></div></div></div>"
      ],
      "text/plain": [
       "GridSearchCV(cv=StratifiedKFold(n_splits=10, random_state=2, shuffle=True),\n",
       "             estimator=RandomForestClassifier(random_state=2), n_jobs=-1,\n",
       "             param_grid={'bootstrap': [True, False],\n",
       "                         'min_samples_leaf': [1, 2, 4],\n",
       "                         'min_samples_split': [2, 5, 10],\n",
       "                         'n_estimators': [50, 100, 150]},\n",
       "             scoring='accuracy')"
      ]
     },
     "execution_count": 43,
     "metadata": {},
     "output_type": "execute_result"
    }
   ],
   "source": [
    "rf_classifier = RandomForestClassifier(random_state=2)\n",
    "\n",
    "param_grid = {\n",
    "    'n_estimators': [50, 100, 150],\n",
    "    'min_samples_split': [2, 5, 10],\n",
    "    'min_samples_leaf': [1, 2, 4],\n",
    "    'bootstrap': [True, False]\n",
    "}\n",
    "\n",
    "# 10 folds CV\n",
    "n_splits = 10\n",
    "cv = StratifiedKFold(n_splits=n_splits, shuffle=True, random_state=2)\n",
    "\n",
    "# grid search with 10-fold cross-validation\n",
    "grid_search_rf = GridSearchCV(estimator=rf_classifier, \n",
    "                           param_grid=param_grid, \n",
    "                           scoring='accuracy', \n",
    "                           n_jobs=-1,\n",
    "                           cv=cv)\n",
    "grid_search_rf.fit(Sx_train.numpy(), y_train_resampled.numpy()) # must be numpy array"
   ]
  },
  {
   "cell_type": "code",
   "execution_count": 44,
   "metadata": {},
   "outputs": [
    {
     "data": {
      "text/plain": [
       "{'bootstrap': True,\n",
       " 'min_samples_leaf': 1,\n",
       " 'min_samples_split': 5,\n",
       " 'n_estimators': 100}"
      ]
     },
     "execution_count": 44,
     "metadata": {},
     "output_type": "execute_result"
    }
   ],
   "source": [
    "grid_search_rf.best_params_"
   ]
  },
  {
   "cell_type": "code",
   "execution_count": 45,
   "metadata": {},
   "outputs": [
    {
     "data": {
      "text/plain": [
       "0.728"
      ]
     },
     "execution_count": 45,
     "metadata": {},
     "output_type": "execute_result"
    }
   ],
   "source": [
    "# best accuracy score\n",
    "grid_search_rf.best_score_"
   ]
  },
  {
   "cell_type": "code",
   "execution_count": 46,
   "metadata": {},
   "outputs": [],
   "source": [
    "rf = RandomForestClassifier(**grid_search_rf.best_params_, random_state=2).fit(Sx_train.numpy(), y_train_resampled.numpy())"
   ]
  },
  {
   "cell_type": "code",
   "execution_count": 47,
   "metadata": {},
   "outputs": [
    {
     "name": "stdout",
     "output_type": "stream",
     "text": [
      "Test Accuracy:  0.648936170212766\n"
     ]
    }
   ],
   "source": [
    "y_pred_rf = rf.predict(Sx_test.numpy())\n",
    "acc_rf_full = accuracy_score(y_test.numpy(), y_pred_rf)\n",
    "print('Test Accuracy: ', acc_rf_full)"
   ]
  },
  {
   "cell_type": "code",
   "execution_count": 48,
   "metadata": {},
   "outputs": [],
   "source": [
    "# get probabilities\n",
    "probs_rf_forest = rf.predict_proba(Sx_test.numpy())"
   ]
  },
  {
   "cell_type": "code",
   "execution_count": 49,
   "metadata": {},
   "outputs": [
    {
     "data": {
      "image/png": "[encoded data removed]",
      "text/plain": [
       "<Figure size 640x480 with 1 Axes>"
      ]
     },
     "metadata": {},
     "output_type": "display_data"
    }
   ],
   "source": [
    "confusion_rf = confusion_matrix(y_test.numpy(), y_pred_rf)\n",
    "plot_confusion_matrix(confusion_rf)"
   ]
  },
  {
   "cell_type": "code",
   "execution_count": 50,
   "metadata": {},
   "outputs": [
    {
     "name": "stdout",
     "output_type": "stream",
     "text": [
      "              precision    recall  f1-score   support\n",
      "\n",
      "           0       0.72      0.93      0.81        30\n",
      "           1       0.27      0.14      0.19        21\n",
      "           2       0.68      0.70      0.69        43\n",
      "\n",
      "    accuracy                           0.65        94\n",
      "   macro avg       0.56      0.59      0.56        94\n",
      "weighted avg       0.60      0.65      0.62        94\n",
      "\n"
     ]
    }
   ],
   "source": [
    "print(classification_report(y_test.numpy(), y_pred_rf))"
   ]
  },
  {
   "cell_type": "code",
   "execution_count": 51,
   "metadata": {},
   "outputs": [
    {
     "data": {
      "text/plain": [
       "(array([0.71794872, 0.27272727, 0.68181818]),\n",
       " array([0.93333333, 0.14285714, 0.69767442]),\n",
       " array([0.8115942 , 0.1875    , 0.68965517]),\n",
       " array([30, 21, 43]))"
      ]
     },
     "execution_count": 51,
     "metadata": {},
     "output_type": "execute_result"
    }
   ],
   "source": [
    "precision_rf_full, recall_rf_full, f1_score_rf_full, support_rf_full = precision_recall_fscore_support(y_test.numpy(), y_pred_rf)\n",
    "precision_rf_full, recall_rf_full, f1_score_rf_full, support_rf_full "
   ]
  },
  {
   "cell_type": "code",
   "execution_count": 52,
   "metadata": {},
   "outputs": [
    {
     "name": "stdout",
     "output_type": "stream",
     "text": [
      "Precision: 0.6019565540842137\n",
      "Recall: 0.648936170212766\n",
      "F1: 0.6163882819228684\n"
     ]
    }
   ],
   "source": [
    "precision_rf = precision_score(y_test.numpy(), y_pred_rf, average='weighted')\n",
    "recall_rf = recall_score(y_test.numpy(), y_pred_rf, average='weighted')\n",
    "f1_rf = f1_score(y_test.numpy(), y_pred_rf, average='weighted')\n",
    "\n",
    "print('Precision: {}\\nRecall: {}\\nF1: {}'.format(precision_rf, recall_rf, f1_rf))"
   ]
  },
  {
   "cell_type": "markdown",
   "metadata": {},
   "source": [
    "_______"
   ]
  },
  {
   "cell_type": "markdown",
   "metadata": {},
   "source": [
    "#### Summarize performances"
   ]
  },
  {
   "cell_type": "code",
   "execution_count": 53,
   "metadata": {},
   "outputs": [
    {
     "data": {
      "text/html": [
       "<div>\n",
       "<style scoped>\n",
       "    .dataframe tbody tr th:only-of-type {\n",
       "        vertical-align: middle;\n",
       "    }\n",
       "\n",
       "    .dataframe tbody tr th {\n",
       "        vertical-align: top;\n",
       "    }\n",
       "\n",
       "    .dataframe thead th {\n",
       "        text-align: right;\n",
       "    }\n",
       "</style>\n",
       "<table border=\"1\" class=\"dataframe\">\n",
       "  <thead>\n",
       "    <tr style=\"text-align: right;\">\n",
       "      <th></th>\n",
       "      <th>Metric</th>\n",
       "      <th>Logistic Regression</th>\n",
       "      <th>SVC</th>\n",
       "      <th>Random Forest</th>\n",
       "    </tr>\n",
       "  </thead>\n",
       "  <tbody>\n",
       "    <tr>\n",
       "      <th>0</th>\n",
       "      <td>Precision</td>\n",
       "      <td>0.425926</td>\n",
       "      <td>0.602441</td>\n",
       "      <td>0.557498</td>\n",
       "    </tr>\n",
       "    <tr>\n",
       "      <th>1</th>\n",
       "      <td>Recall</td>\n",
       "      <td>0.461277</td>\n",
       "      <td>0.619011</td>\n",
       "      <td>0.591288</td>\n",
       "    </tr>\n",
       "    <tr>\n",
       "      <th>2</th>\n",
       "      <td>F1-Score</td>\n",
       "      <td>0.416255</td>\n",
       "      <td>0.593956</td>\n",
       "      <td>0.562916</td>\n",
       "    </tr>\n",
       "    <tr>\n",
       "      <th>3</th>\n",
       "      <td>Accuracy</td>\n",
       "      <td>0.457447</td>\n",
       "      <td>0.648936</td>\n",
       "      <td>0.648936</td>\n",
       "    </tr>\n",
       "  </tbody>\n",
       "</table>\n",
       "</div>"
      ],
      "text/plain": [
       "      Metric  Logistic Regression       SVC  Random Forest\n",
       "0  Precision             0.425926  0.602441       0.557498\n",
       "1     Recall             0.461277  0.619011       0.591288\n",
       "2   F1-Score             0.416255  0.593956       0.562916\n",
       "3   Accuracy             0.457447  0.648936       0.648936"
      ]
     },
     "execution_count": 53,
     "metadata": {},
     "output_type": "execute_result"
    }
   ],
   "source": [
    "result_report = {\n",
    "    'Metric': ['Precision', 'Recall', 'F1-Score', 'Accuracy'],\n",
    "    'Logistic Regression': [precision_log_reg_full.mean(), recall_log_reg_full.mean(), f1_score_log_reg_full.mean(), acc_log_reg_full],\n",
    "    'SVC': [precision_svc_full.mean(), recall_svc_full.mean(), f1_score_svc_full.mean(), acc_svc_full],\n",
    "    'Random Forest': [precision_rf_full.mean(), recall_rf_full.mean(), f1_score_rf_full.mean(), acc_rf_full]\n",
    "}\n",
    "\n",
    "result_report_df = pd.DataFrame(result_report)\n",
    "\n",
    "result_report_df"
   ]
  },
  {
   "cell_type": "code",
   "execution_count": 54,
   "metadata": {},
   "outputs": [
    {
     "data": {
      "text/html": [
       "<style type=\"text/css\">\n",
       "#T_c835f_row0_col1 {\n",
       "  background-color: #b9dbb9;\n",
       "  color: #000000;\n",
       "}\n",
       "#T_c835f_row0_col2 {\n",
       "  background-color: #c7e1c7;\n",
       "  color: #000000;\n",
       "}\n",
       "#T_c835f_row0_col3, #T_c835f_row2_col1, #T_c835f_row2_col2 {\n",
       "  background-color: #ebf3eb;\n",
       "  color: #000000;\n",
       "}\n",
       "#T_c835f_row1_col1, #T_c835f_row3_col2, #T_c835f_row3_col3 {\n",
       "  background-color: #008000;\n",
       "  color: #f1f1f1;\n",
       "}\n",
       "#T_c835f_row1_col2 {\n",
       "  background-color: #80bf80;\n",
       "  color: #000000;\n",
       "}\n",
       "#T_c835f_row1_col3 {\n",
       "  background-color: #94c994;\n",
       "  color: #000000;\n",
       "}\n",
       "#T_c835f_row2_col3 {\n",
       "  background-color: #ddecdd;\n",
       "  color: #000000;\n",
       "}\n",
       "#T_c835f_row3_col1 {\n",
       "  background-color: #138913;\n",
       "  color: #f1f1f1;\n",
       "}\n",
       "</style>\n",
       "<table id=\"T_c835f\">\n",
       "  <thead>\n",
       "    <tr>\n",
       "      <th class=\"blank level0\" >&nbsp;</th>\n",
       "      <th id=\"T_c835f_level0_col0\" class=\"col_heading level0 col0\" >Metric</th>\n",
       "      <th id=\"T_c835f_level0_col1\" class=\"col_heading level0 col1\" >Logistic Regression</th>\n",
       "      <th id=\"T_c835f_level0_col2\" class=\"col_heading level0 col2\" >SVC</th>\n",
       "      <th id=\"T_c835f_level0_col3\" class=\"col_heading level0 col3\" >Random Forest</th>\n",
       "    </tr>\n",
       "  </thead>\n",
       "  <tbody>\n",
       "    <tr>\n",
       "      <th id=\"T_c835f_level0_row0\" class=\"row_heading level0 row0\" >0</th>\n",
       "      <td id=\"T_c835f_row0_col0\" class=\"data row0 col0\" >Precision</td>\n",
       "      <td id=\"T_c835f_row0_col1\" class=\"data row0 col1\" >0.425926</td>\n",
       "      <td id=\"T_c835f_row0_col2\" class=\"data row0 col2\" >0.602441</td>\n",
       "      <td id=\"T_c835f_row0_col3\" class=\"data row0 col3\" >0.557498</td>\n",
       "    </tr>\n",
       "    <tr>\n",
       "      <th id=\"T_c835f_level0_row1\" class=\"row_heading level0 row1\" >1</th>\n",
       "      <td id=\"T_c835f_row1_col0\" class=\"data row1 col0\" >Recall</td>\n",
       "      <td id=\"T_c835f_row1_col1\" class=\"data row1 col1\" >0.461277</td>\n",
       "      <td id=\"T_c835f_row1_col2\" class=\"data row1 col2\" >0.619011</td>\n",
       "      <td id=\"T_c835f_row1_col3\" class=\"data row1 col3\" >0.591288</td>\n",
       "    </tr>\n",
       "    <tr>\n",
       "      <th id=\"T_c835f_level0_row2\" class=\"row_heading level0 row2\" >2</th>\n",
       "      <td id=\"T_c835f_row2_col0\" class=\"data row2 col0\" >F1-Score</td>\n",
       "      <td id=\"T_c835f_row2_col1\" class=\"data row2 col1\" >0.416255</td>\n",
       "      <td id=\"T_c835f_row2_col2\" class=\"data row2 col2\" >0.593956</td>\n",
       "      <td id=\"T_c835f_row2_col3\" class=\"data row2 col3\" >0.562916</td>\n",
       "    </tr>\n",
       "    <tr>\n",
       "      <th id=\"T_c835f_level0_row3\" class=\"row_heading level0 row3\" >3</th>\n",
       "      <td id=\"T_c835f_row3_col0\" class=\"data row3 col0\" >Accuracy</td>\n",
       "      <td id=\"T_c835f_row3_col1\" class=\"data row3 col1\" >0.457447</td>\n",
       "      <td id=\"T_c835f_row3_col2\" class=\"data row3 col2\" >0.648936</td>\n",
       "      <td id=\"T_c835f_row3_col3\" class=\"data row3 col3\" >0.648936</td>\n",
       "    </tr>\n",
       "  </tbody>\n",
       "</table>\n"
      ],
      "text/plain": [
       "<pandas.io.formats.style.Styler at 0x7fadcd13a830>"
      ]
     },
     "execution_count": 54,
     "metadata": {},
     "output_type": "execute_result"
    }
   ],
   "source": [
    "colmap = sns.light_palette(\"green\", as_cmap=True)\n",
    "result_report_df.style.background_gradient(cmap = colmap)"
   ]
  },
  {
   "cell_type": "code",
   "execution_count": 55,
   "metadata": {},
   "outputs": [
    {
     "data": {
      "text/html": [
       "<div>\n",
       "<style scoped>\n",
       "    .dataframe tbody tr th:only-of-type {\n",
       "        vertical-align: middle;\n",
       "    }\n",
       "\n",
       "    .dataframe tbody tr th {\n",
       "        vertical-align: top;\n",
       "    }\n",
       "\n",
       "    .dataframe thead th {\n",
       "        text-align: right;\n",
       "    }\n",
       "</style>\n",
       "<table border=\"1\" class=\"dataframe\">\n",
       "  <thead>\n",
       "    <tr style=\"text-align: right;\">\n",
       "      <th></th>\n",
       "      <th>Metric</th>\n",
       "      <th>Logistic Regression</th>\n",
       "      <th>SVC</th>\n",
       "      <th>Random Forest</th>\n",
       "    </tr>\n",
       "    <tr>\n",
       "      <th>Metric Type</th>\n",
       "      <th></th>\n",
       "      <th></th>\n",
       "      <th></th>\n",
       "      <th></th>\n",
       "    </tr>\n",
       "  </thead>\n",
       "  <tbody>\n",
       "    <tr>\n",
       "      <th></th>\n",
       "      <td>Non-Event (0)</td>\n",
       "      <td>0.500000</td>\n",
       "      <td>0.644444</td>\n",
       "      <td>0.717949</td>\n",
       "    </tr>\n",
       "    <tr>\n",
       "      <th>Precision</th>\n",
       "      <td>SI (1)</td>\n",
       "      <td>0.277778</td>\n",
       "      <td>0.375000</td>\n",
       "      <td>0.272727</td>\n",
       "    </tr>\n",
       "    <tr>\n",
       "      <th></th>\n",
       "      <td>SSC (2)</td>\n",
       "      <td>0.500000</td>\n",
       "      <td>0.787879</td>\n",
       "      <td>0.681818</td>\n",
       "    </tr>\n",
       "    <tr>\n",
       "      <th></th>\n",
       "      <td>Non-Event (0)</td>\n",
       "      <td>0.866667</td>\n",
       "      <td>0.966667</td>\n",
       "      <td>0.933333</td>\n",
       "    </tr>\n",
       "    <tr>\n",
       "      <th>Recall</th>\n",
       "      <td>SI (1)</td>\n",
       "      <td>0.238095</td>\n",
       "      <td>0.285714</td>\n",
       "      <td>0.142857</td>\n",
       "    </tr>\n",
       "    <tr>\n",
       "      <th></th>\n",
       "      <td>SSC (2)</td>\n",
       "      <td>0.279070</td>\n",
       "      <td>0.604651</td>\n",
       "      <td>0.697674</td>\n",
       "    </tr>\n",
       "    <tr>\n",
       "      <th></th>\n",
       "      <td>Non-Event (0)</td>\n",
       "      <td>0.634146</td>\n",
       "      <td>0.773333</td>\n",
       "      <td>0.811594</td>\n",
       "    </tr>\n",
       "    <tr>\n",
       "      <th>F1-Score</th>\n",
       "      <td>SI (1)</td>\n",
       "      <td>0.256410</td>\n",
       "      <td>0.324324</td>\n",
       "      <td>0.187500</td>\n",
       "    </tr>\n",
       "    <tr>\n",
       "      <th></th>\n",
       "      <td>SSC (2)</td>\n",
       "      <td>0.358209</td>\n",
       "      <td>0.684211</td>\n",
       "      <td>0.689655</td>\n",
       "    </tr>\n",
       "  </tbody>\n",
       "</table>\n",
       "</div>"
      ],
      "text/plain": [
       "                    Metric  Logistic Regression       SVC  Random Forest\n",
       "Metric Type                                                             \n",
       "             Non-Event (0)             0.500000  0.644444       0.717949\n",
       "Precision           SI (1)             0.277778  0.375000       0.272727\n",
       "                   SSC (2)             0.500000  0.787879       0.681818\n",
       "             Non-Event (0)             0.866667  0.966667       0.933333\n",
       "Recall              SI (1)             0.238095  0.285714       0.142857\n",
       "                   SSC (2)             0.279070  0.604651       0.697674\n",
       "             Non-Event (0)             0.634146  0.773333       0.811594\n",
       "F1-Score            SI (1)             0.256410  0.324324       0.187500\n",
       "                   SSC (2)             0.358209  0.684211       0.689655"
      ]
     },
     "execution_count": 55,
     "metadata": {},
     "output_type": "execute_result"
    }
   ],
   "source": [
    "result_report = {\n",
    "    'Metric Type': ['', 'Precision', '', '', 'Recall', '', '', 'F1-Score', '' ],\n",
    "    'Metric': ['Non-Event (0)', 'SI (1)', 'SSC (2)', 'Non-Event (0)', 'SI (1)', 'SSC (2)', 'Non-Event (0)', 'SI (1)', 'SSC (2)'],\n",
    "    'Logistic Regression': np.concatenate((precision_log_reg_full, recall_log_reg_full, f1_score_log_reg_full)),\n",
    "    'SVC': np.concatenate((precision_svc_full, recall_svc_full, f1_score_svc_full)),\n",
    "    'Random Forest': np.concatenate((precision_rf_full, recall_rf_full, f1_score_rf_full))\n",
    "}\n",
    "\n",
    "result_report_df = pd.DataFrame(result_report)\n",
    "\n",
    "result_report_df.set_index('Metric Type')"
   ]
  },
  {
   "cell_type": "code",
   "execution_count": 56,
   "metadata": {},
   "outputs": [
    {
     "data": {
      "text/html": [
       "<style type=\"text/css\">\n",
       "#T_c7da7_row0_col2, #T_c7da7_row2_col2 {\n",
       "  background-color: #89c389;\n",
       "  color: #000000;\n",
       "}\n",
       "#T_c7da7_row0_col3 {\n",
       "  background-color: #6fb76f;\n",
       "  color: #f1f1f1;\n",
       "}\n",
       "#T_c7da7_row0_col4 {\n",
       "  background-color: #3f9f3f;\n",
       "  color: #f1f1f1;\n",
       "}\n",
       "#T_c7da7_row1_col2, #T_c7da7_row5_col2 {\n",
       "  background-color: #dcecdc;\n",
       "  color: #000000;\n",
       "}\n",
       "#T_c7da7_row1_col3 {\n",
       "  background-color: #cce4cc;\n",
       "  color: #000000;\n",
       "}\n",
       "#T_c7da7_row1_col4 {\n",
       "  background-color: #c4e0c4;\n",
       "  color: #000000;\n",
       "}\n",
       "#T_c7da7_row2_col3 {\n",
       "  background-color: #3e9e3e;\n",
       "  color: #f1f1f1;\n",
       "}\n",
       "#T_c7da7_row2_col4 {\n",
       "  background-color: #4ba54a;\n",
       "  color: #f1f1f1;\n",
       "}\n",
       "#T_c7da7_row3_col2, #T_c7da7_row3_col3, #T_c7da7_row3_col4 {\n",
       "  background-color: #008000;\n",
       "  color: #f1f1f1;\n",
       "}\n",
       "#T_c7da7_row4_col2, #T_c7da7_row4_col3, #T_c7da7_row4_col4 {\n",
       "  background-color: #ebf3eb;\n",
       "  color: #000000;\n",
       "}\n",
       "#T_c7da7_row5_col3 {\n",
       "  background-color: #7dbd7d;\n",
       "  color: #000000;\n",
       "}\n",
       "#T_c7da7_row5_col4 {\n",
       "  background-color: #46a246;\n",
       "  color: #f1f1f1;\n",
       "}\n",
       "#T_c7da7_row6_col2 {\n",
       "  background-color: #56aa56;\n",
       "  color: #f1f1f1;\n",
       "}\n",
       "#T_c7da7_row6_col3 {\n",
       "  background-color: #42a042;\n",
       "  color: #f1f1f1;\n",
       "}\n",
       "#T_c7da7_row6_col4 {\n",
       "  background-color: #249224;\n",
       "  color: #f1f1f1;\n",
       "}\n",
       "#T_c7da7_row7_col2 {\n",
       "  background-color: #e4f0e4;\n",
       "  color: #000000;\n",
       "}\n",
       "#T_c7da7_row7_col3, #T_c7da7_row7_col4 {\n",
       "  background-color: #deedde;\n",
       "  color: #000000;\n",
       "}\n",
       "#T_c7da7_row8_col2 {\n",
       "  background-color: #beddbe;\n",
       "  color: #000000;\n",
       "}\n",
       "#T_c7da7_row8_col3 {\n",
       "  background-color: #61b061;\n",
       "  color: #f1f1f1;\n",
       "}\n",
       "#T_c7da7_row8_col4 {\n",
       "  background-color: #48a348;\n",
       "  color: #f1f1f1;\n",
       "}\n",
       "</style>\n",
       "<table id=\"T_c7da7\">\n",
       "  <thead>\n",
       "    <tr>\n",
       "      <th class=\"blank level0\" >&nbsp;</th>\n",
       "      <th id=\"T_c7da7_level0_col0\" class=\"col_heading level0 col0\" >Metric Type</th>\n",
       "      <th id=\"T_c7da7_level0_col1\" class=\"col_heading level0 col1\" >Metric</th>\n",
       "      <th id=\"T_c7da7_level0_col2\" class=\"col_heading level0 col2\" >Logistic Regression</th>\n",
       "      <th id=\"T_c7da7_level0_col3\" class=\"col_heading level0 col3\" >SVC</th>\n",
       "      <th id=\"T_c7da7_level0_col4\" class=\"col_heading level0 col4\" >Random Forest</th>\n",
       "    </tr>\n",
       "  </thead>\n",
       "  <tbody>\n",
       "    <tr>\n",
       "      <th id=\"T_c7da7_level0_row0\" class=\"row_heading level0 row0\" >0</th>\n",
       "      <td id=\"T_c7da7_row0_col0\" class=\"data row0 col0\" ></td>\n",
       "      <td id=\"T_c7da7_row0_col1\" class=\"data row0 col1\" >Non-Event (0)</td>\n",
       "      <td id=\"T_c7da7_row0_col2\" class=\"data row0 col2\" >0.500000</td>\n",
       "      <td id=\"T_c7da7_row0_col3\" class=\"data row0 col3\" >0.644444</td>\n",
       "      <td id=\"T_c7da7_row0_col4\" class=\"data row0 col4\" >0.717949</td>\n",
       "    </tr>\n",
       "    <tr>\n",
       "      <th id=\"T_c7da7_level0_row1\" class=\"row_heading level0 row1\" >1</th>\n",
       "      <td id=\"T_c7da7_row1_col0\" class=\"data row1 col0\" >Precision</td>\n",
       "      <td id=\"T_c7da7_row1_col1\" class=\"data row1 col1\" >SI (1)</td>\n",
       "      <td id=\"T_c7da7_row1_col2\" class=\"data row1 col2\" >0.277778</td>\n",
       "      <td id=\"T_c7da7_row1_col3\" class=\"data row1 col3\" >0.375000</td>\n",
       "      <td id=\"T_c7da7_row1_col4\" class=\"data row1 col4\" >0.272727</td>\n",
       "    </tr>\n",
       "    <tr>\n",
       "      <th id=\"T_c7da7_level0_row2\" class=\"row_heading level0 row2\" >2</th>\n",
       "      <td id=\"T_c7da7_row2_col0\" class=\"data row2 col0\" ></td>\n",
       "      <td id=\"T_c7da7_row2_col1\" class=\"data row2 col1\" >SSC (2)</td>\n",
       "      <td id=\"T_c7da7_row2_col2\" class=\"data row2 col2\" >0.500000</td>\n",
       "      <td id=\"T_c7da7_row2_col3\" class=\"data row2 col3\" >0.787879</td>\n",
       "      <td id=\"T_c7da7_row2_col4\" class=\"data row2 col4\" >0.681818</td>\n",
       "    </tr>\n",
       "    <tr>\n",
       "      <th id=\"T_c7da7_level0_row3\" class=\"row_heading level0 row3\" >3</th>\n",
       "      <td id=\"T_c7da7_row3_col0\" class=\"data row3 col0\" ></td>\n",
       "      <td id=\"T_c7da7_row3_col1\" class=\"data row3 col1\" >Non-Event (0)</td>\n",
       "      <td id=\"T_c7da7_row3_col2\" class=\"data row3 col2\" >0.866667</td>\n",
       "      <td id=\"T_c7da7_row3_col3\" class=\"data row3 col3\" >0.966667</td>\n",
       "      <td id=\"T_c7da7_row3_col4\" class=\"data row3 col4\" >0.933333</td>\n",
       "    </tr>\n",
       "    <tr>\n",
       "      <th id=\"T_c7da7_level0_row4\" class=\"row_heading level0 row4\" >4</th>\n",
       "      <td id=\"T_c7da7_row4_col0\" class=\"data row4 col0\" >Recall</td>\n",
       "      <td id=\"T_c7da7_row4_col1\" class=\"data row4 col1\" >SI (1)</td>\n",
       "      <td id=\"T_c7da7_row4_col2\" class=\"data row4 col2\" >0.238095</td>\n",
       "      <td id=\"T_c7da7_row4_col3\" class=\"data row4 col3\" >0.285714</td>\n",
       "      <td id=\"T_c7da7_row4_col4\" class=\"data row4 col4\" >0.142857</td>\n",
       "    </tr>\n",
       "    <tr>\n",
       "      <th id=\"T_c7da7_level0_row5\" class=\"row_heading level0 row5\" >5</th>\n",
       "      <td id=\"T_c7da7_row5_col0\" class=\"data row5 col0\" ></td>\n",
       "      <td id=\"T_c7da7_row5_col1\" class=\"data row5 col1\" >SSC (2)</td>\n",
       "      <td id=\"T_c7da7_row5_col2\" class=\"data row5 col2\" >0.279070</td>\n",
       "      <td id=\"T_c7da7_row5_col3\" class=\"data row5 col3\" >0.604651</td>\n",
       "      <td id=\"T_c7da7_row5_col4\" class=\"data row5 col4\" >0.697674</td>\n",
       "    </tr>\n",
       "    <tr>\n",
       "      <th id=\"T_c7da7_level0_row6\" class=\"row_heading level0 row6\" >6</th>\n",
       "      <td id=\"T_c7da7_row6_col0\" class=\"data row6 col0\" ></td>\n",
       "      <td id=\"T_c7da7_row6_col1\" class=\"data row6 col1\" >Non-Event (0)</td>\n",
       "      <td id=\"T_c7da7_row6_col2\" class=\"data row6 col2\" >0.634146</td>\n",
       "      <td id=\"T_c7da7_row6_col3\" class=\"data row6 col3\" >0.773333</td>\n",
       "      <td id=\"T_c7da7_row6_col4\" class=\"data row6 col4\" >0.811594</td>\n",
       "    </tr>\n",
       "    <tr>\n",
       "      <th id=\"T_c7da7_level0_row7\" class=\"row_heading level0 row7\" >7</th>\n",
       "      <td id=\"T_c7da7_row7_col0\" class=\"data row7 col0\" >F1-Score</td>\n",
       "      <td id=\"T_c7da7_row7_col1\" class=\"data row7 col1\" >SI (1)</td>\n",
       "      <td id=\"T_c7da7_row7_col2\" class=\"data row7 col2\" >0.256410</td>\n",
       "      <td id=\"T_c7da7_row7_col3\" class=\"data row7 col3\" >0.324324</td>\n",
       "      <td id=\"T_c7da7_row7_col4\" class=\"data row7 col4\" >0.187500</td>\n",
       "    </tr>\n",
       "    <tr>\n",
       "      <th id=\"T_c7da7_level0_row8\" class=\"row_heading level0 row8\" >8</th>\n",
       "      <td id=\"T_c7da7_row8_col0\" class=\"data row8 col0\" ></td>\n",
       "      <td id=\"T_c7da7_row8_col1\" class=\"data row8 col1\" >SSC (2)</td>\n",
       "      <td id=\"T_c7da7_row8_col2\" class=\"data row8 col2\" >0.358209</td>\n",
       "      <td id=\"T_c7da7_row8_col3\" class=\"data row8 col3\" >0.684211</td>\n",
       "      <td id=\"T_c7da7_row8_col4\" class=\"data row8 col4\" >0.689655</td>\n",
       "    </tr>\n",
       "  </tbody>\n",
       "</table>\n"
      ],
      "text/plain": [
       "<pandas.io.formats.style.Styler at 0x7fadccf9dc00>"
      ]
     },
     "execution_count": 56,
     "metadata": {},
     "output_type": "execute_result"
    }
   ],
   "source": [
    "result_report_df.style.background_gradient(cmap = colmap)"
   ]
  }
 ],
 "metadata": {
  "kernelspec": {
   "display_name": ".venv",
   "language": "python",
   "name": "python3"
  },
  "language_info": {
   "codemirror_mode": {
    "name": "ipython",
    "version": 3
   },
   "file_extension": ".py",
   "mimetype": "text/x-python",
   "name": "python",
   "nbconvert_exporter": "python",
   "pygments_lexer": "ipython3",
   "version": "3.10.12"
  }
 },
 "nbformat": 4,
 "nbformat_minor": 2
}
